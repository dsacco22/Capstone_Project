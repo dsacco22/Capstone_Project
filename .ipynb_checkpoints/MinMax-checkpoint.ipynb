{
 "cells": [
  {
   "cell_type": "markdown",
   "metadata": {},
   "source": [
    "### MinMax Pipeline ###"
   ]
  },
  {
   "cell_type": "code",
   "execution_count": 1,
   "metadata": {},
   "outputs": [
    {
     "data": {
      "text/html": [
       "<div>\n",
       "<style scoped>\n",
       "    .dataframe tbody tr th:only-of-type {\n",
       "        vertical-align: middle;\n",
       "    }\n",
       "\n",
       "    .dataframe tbody tr th {\n",
       "        vertical-align: top;\n",
       "    }\n",
       "\n",
       "    .dataframe thead th {\n",
       "        text-align: right;\n",
       "    }\n",
       "</style>\n",
       "<table border=\"1\" class=\"dataframe\">\n",
       "  <thead>\n",
       "    <tr style=\"text-align: right;\">\n",
       "      <th></th>\n",
       "      <th>Year</th>\n",
       "      <th>Assigned_ID</th>\n",
       "      <th>Bank</th>\n",
       "      <th>IncRat</th>\n",
       "      <th>UPB</th>\n",
       "      <th>LTV</th>\n",
       "      <th>MortDate</th>\n",
       "      <th>Purpose</th>\n",
       "      <th>Coop</th>\n",
       "      <th>Product</th>\n",
       "      <th>FedGuar</th>\n",
       "      <th>Occup</th>\n",
       "      <th>Front</th>\n",
       "      <th>Back</th>\n",
       "      <th>BoCreditScor</th>\n",
       "      <th>PropType</th>\n",
       "      <th>Portfolio_Worthy</th>\n",
       "    </tr>\n",
       "  </thead>\n",
       "  <tbody>\n",
       "    <tr>\n",
       "      <th>0</th>\n",
       "      <td>2016</td>\n",
       "      <td>2004452</td>\n",
       "      <td>Atlanta</td>\n",
       "      <td>1.5112</td>\n",
       "      <td>383368</td>\n",
       "      <td>0.84</td>\n",
       "      <td>2015</td>\n",
       "      <td>2</td>\n",
       "      <td>2</td>\n",
       "      <td>1</td>\n",
       "      <td>2</td>\n",
       "      <td>1</td>\n",
       "      <td>0.2174</td>\n",
       "      <td>0.3683</td>\n",
       "      <td>4</td>\n",
       "      <td>7</td>\n",
       "      <td>1</td>\n",
       "    </tr>\n",
       "    <tr>\n",
       "      <th>1</th>\n",
       "      <td>2016</td>\n",
       "      <td>2004453</td>\n",
       "      <td>Atlanta</td>\n",
       "      <td>0.7347</td>\n",
       "      <td>112822</td>\n",
       "      <td>0.76</td>\n",
       "      <td>2015</td>\n",
       "      <td>2</td>\n",
       "      <td>2</td>\n",
       "      <td>1</td>\n",
       "      <td>2</td>\n",
       "      <td>1</td>\n",
       "      <td>0.1850</td>\n",
       "      <td>0.2385</td>\n",
       "      <td>4</td>\n",
       "      <td>1</td>\n",
       "      <td>1</td>\n",
       "    </tr>\n",
       "    <tr>\n",
       "      <th>2</th>\n",
       "      <td>2016</td>\n",
       "      <td>2004454</td>\n",
       "      <td>Atlanta</td>\n",
       "      <td>0.8536</td>\n",
       "      <td>125345</td>\n",
       "      <td>1.00</td>\n",
       "      <td>2015</td>\n",
       "      <td>1</td>\n",
       "      <td>2</td>\n",
       "      <td>1</td>\n",
       "      <td>2</td>\n",
       "      <td>1</td>\n",
       "      <td>0.2084</td>\n",
       "      <td>0.3817</td>\n",
       "      <td>4</td>\n",
       "      <td>1</td>\n",
       "      <td>1</td>\n",
       "    </tr>\n",
       "    <tr>\n",
       "      <th>3</th>\n",
       "      <td>2016</td>\n",
       "      <td>2004455</td>\n",
       "      <td>Atlanta</td>\n",
       "      <td>1.4262</td>\n",
       "      <td>162084</td>\n",
       "      <td>1.03</td>\n",
       "      <td>2015</td>\n",
       "      <td>1</td>\n",
       "      <td>2</td>\n",
       "      <td>1</td>\n",
       "      <td>2</td>\n",
       "      <td>1</td>\n",
       "      <td>0.1481</td>\n",
       "      <td>0.3170</td>\n",
       "      <td>4</td>\n",
       "      <td>1</td>\n",
       "      <td>1</td>\n",
       "    </tr>\n",
       "    <tr>\n",
       "      <th>4</th>\n",
       "      <td>2016</td>\n",
       "      <td>2004456</td>\n",
       "      <td>Atlanta</td>\n",
       "      <td>2.0272</td>\n",
       "      <td>396490</td>\n",
       "      <td>0.89</td>\n",
       "      <td>2015</td>\n",
       "      <td>1</td>\n",
       "      <td>2</td>\n",
       "      <td>1</td>\n",
       "      <td>2</td>\n",
       "      <td>1</td>\n",
       "      <td>0.2072</td>\n",
       "      <td>0.3184</td>\n",
       "      <td>4</td>\n",
       "      <td>7</td>\n",
       "      <td>1</td>\n",
       "    </tr>\n",
       "  </tbody>\n",
       "</table>\n",
       "</div>"
      ],
      "text/plain": [
       "   Year  Assigned_ID     Bank  IncRat     UPB   LTV  MortDate  Purpose  Coop  \\\n",
       "0  2016      2004452  Atlanta  1.5112  383368  0.84      2015        2     2   \n",
       "1  2016      2004453  Atlanta  0.7347  112822  0.76      2015        2     2   \n",
       "2  2016      2004454  Atlanta  0.8536  125345  1.00      2015        1     2   \n",
       "3  2016      2004455  Atlanta  1.4262  162084  1.03      2015        1     2   \n",
       "4  2016      2004456  Atlanta  2.0272  396490  0.89      2015        1     2   \n",
       "\n",
       "   Product  FedGuar  Occup   Front    Back  BoCreditScor  PropType  \\\n",
       "0        1        2      1  0.2174  0.3683             4         7   \n",
       "1        1        2      1  0.1850  0.2385             4         1   \n",
       "2        1        2      1  0.2084  0.3817             4         1   \n",
       "3        1        2      1  0.1481  0.3170             4         1   \n",
       "4        1        2      1  0.2072  0.3184             4         7   \n",
       "\n",
       "   Portfolio_Worthy  \n",
       "0                 1  \n",
       "1                 1  \n",
       "2                 1  \n",
       "3                 1  \n",
       "4                 1  "
      ]
     },
     "execution_count": 1,
     "metadata": {},
     "output_type": "execute_result"
    }
   ],
   "source": [
    "## loading useful stuff\n",
    "\n",
    "import pandas as pd\n",
    "import numpy as np\n",
    "import matplotlib.pyplot as plt\n",
    "import seaborn as sns\n",
    "from scipy.stats import kurtosis, skew\n",
    "from sklearn import datasets\n",
    "from scipy.stats import iqr\n",
    "from sklearn import preprocessing\n",
    "from sklearn.preprocessing import MinMaxScaler\n",
    "\n",
    "data = pd.read_csv(\"Use_This.csv\", index_col=0, header=0)\n",
    "data.head()"
   ]
  },
  {
   "cell_type": "code",
   "execution_count": 2,
   "metadata": {},
   "outputs": [],
   "source": [
    "# Splitting data into target/data variables\n",
    "\n",
    "target = data.Portfolio_Worthy\n",
    "data = data.drop(columns=['Year','Assigned_ID','Bank','MortDate','Portfolio_Worthy'], axis=1)"
   ]
  },
  {
   "cell_type": "code",
   "execution_count": 3,
   "metadata": {},
   "outputs": [
    {
     "data": {
      "text/html": [
       "<div>\n",
       "<style scoped>\n",
       "    .dataframe tbody tr th:only-of-type {\n",
       "        vertical-align: middle;\n",
       "    }\n",
       "\n",
       "    .dataframe tbody tr th {\n",
       "        vertical-align: top;\n",
       "    }\n",
       "\n",
       "    .dataframe thead th {\n",
       "        text-align: right;\n",
       "    }\n",
       "</style>\n",
       "<table border=\"1\" class=\"dataframe\">\n",
       "  <thead>\n",
       "    <tr style=\"text-align: right;\">\n",
       "      <th></th>\n",
       "      <th>IncRat</th>\n",
       "      <th>UPB</th>\n",
       "      <th>LTV</th>\n",
       "      <th>Purpose</th>\n",
       "      <th>Coop</th>\n",
       "      <th>Product</th>\n",
       "      <th>FedGuar</th>\n",
       "      <th>Occup</th>\n",
       "      <th>Front</th>\n",
       "      <th>Back</th>\n",
       "      <th>BoCreditScor</th>\n",
       "      <th>PropType</th>\n",
       "    </tr>\n",
       "  </thead>\n",
       "  <tbody>\n",
       "    <tr>\n",
       "      <th>0</th>\n",
       "      <td>1.5112</td>\n",
       "      <td>383368</td>\n",
       "      <td>0.84</td>\n",
       "      <td>2</td>\n",
       "      <td>2</td>\n",
       "      <td>1</td>\n",
       "      <td>2</td>\n",
       "      <td>1</td>\n",
       "      <td>0.2174</td>\n",
       "      <td>0.3683</td>\n",
       "      <td>4</td>\n",
       "      <td>7</td>\n",
       "    </tr>\n",
       "    <tr>\n",
       "      <th>1</th>\n",
       "      <td>0.7347</td>\n",
       "      <td>112822</td>\n",
       "      <td>0.76</td>\n",
       "      <td>2</td>\n",
       "      <td>2</td>\n",
       "      <td>1</td>\n",
       "      <td>2</td>\n",
       "      <td>1</td>\n",
       "      <td>0.1850</td>\n",
       "      <td>0.2385</td>\n",
       "      <td>4</td>\n",
       "      <td>1</td>\n",
       "    </tr>\n",
       "    <tr>\n",
       "      <th>2</th>\n",
       "      <td>0.8536</td>\n",
       "      <td>125345</td>\n",
       "      <td>1.00</td>\n",
       "      <td>1</td>\n",
       "      <td>2</td>\n",
       "      <td>1</td>\n",
       "      <td>2</td>\n",
       "      <td>1</td>\n",
       "      <td>0.2084</td>\n",
       "      <td>0.3817</td>\n",
       "      <td>4</td>\n",
       "      <td>1</td>\n",
       "    </tr>\n",
       "    <tr>\n",
       "      <th>3</th>\n",
       "      <td>1.4262</td>\n",
       "      <td>162084</td>\n",
       "      <td>1.03</td>\n",
       "      <td>1</td>\n",
       "      <td>2</td>\n",
       "      <td>1</td>\n",
       "      <td>2</td>\n",
       "      <td>1</td>\n",
       "      <td>0.1481</td>\n",
       "      <td>0.3170</td>\n",
       "      <td>4</td>\n",
       "      <td>1</td>\n",
       "    </tr>\n",
       "    <tr>\n",
       "      <th>4</th>\n",
       "      <td>2.0272</td>\n",
       "      <td>396490</td>\n",
       "      <td>0.89</td>\n",
       "      <td>1</td>\n",
       "      <td>2</td>\n",
       "      <td>1</td>\n",
       "      <td>2</td>\n",
       "      <td>1</td>\n",
       "      <td>0.2072</td>\n",
       "      <td>0.3184</td>\n",
       "      <td>4</td>\n",
       "      <td>7</td>\n",
       "    </tr>\n",
       "  </tbody>\n",
       "</table>\n",
       "</div>"
      ],
      "text/plain": [
       "   IncRat     UPB   LTV  Purpose  Coop  Product  FedGuar  Occup   Front  \\\n",
       "0  1.5112  383368  0.84        2     2        1        2      1  0.2174   \n",
       "1  0.7347  112822  0.76        2     2        1        2      1  0.1850   \n",
       "2  0.8536  125345  1.00        1     2        1        2      1  0.2084   \n",
       "3  1.4262  162084  1.03        1     2        1        2      1  0.1481   \n",
       "4  2.0272  396490  0.89        1     2        1        2      1  0.2072   \n",
       "\n",
       "     Back  BoCreditScor  PropType  \n",
       "0  0.3683             4         7  \n",
       "1  0.2385             4         1  \n",
       "2  0.3817             4         1  \n",
       "3  0.3170             4         1  \n",
       "4  0.3184             4         7  "
      ]
     },
     "execution_count": 3,
     "metadata": {},
     "output_type": "execute_result"
    }
   ],
   "source": [
    "data.head()"
   ]
  },
  {
   "cell_type": "markdown",
   "metadata": {},
   "source": [
    "#### Outliers ####"
   ]
  },
  {
   "cell_type": "code",
   "execution_count": 4,
   "metadata": {},
   "outputs": [
    {
     "data": {
      "text/plain": [
       "{'whiskers': [<matplotlib.lines.Line2D at 0x2cb73188e48>,\n",
       "  <matplotlib.lines.Line2D at 0x2cb731986d8>],\n",
       " 'caps': [<matplotlib.lines.Line2D at 0x2cb73198b00>,\n",
       "  <matplotlib.lines.Line2D at 0x2cb73198f28>],\n",
       " 'boxes': [<matplotlib.lines.Line2D at 0x2cb73188cf8>],\n",
       " 'medians': [<matplotlib.lines.Line2D at 0x2cb731a6390>],\n",
       " 'fliers': [<matplotlib.lines.Line2D at 0x2cb731a67b8>],\n",
       " 'means': []}"
      ]
     },
     "execution_count": 4,
     "metadata": {},
     "output_type": "execute_result"
    },
    {
     "data": {
      "image/png": "[encoded data removed]",
      "text/plain": [
       "<Figure size 432x288 with 1 Axes>"
      ]
     },
     "metadata": {
      "needs_background": "light"
     },
     "output_type": "display_data"
    }
   ],
   "source": [
    "# Defining the function 'iqr_outliers' to help with outliers\n",
    "\n",
    "def iqr_outliers(x):\n",
    "    if x > (Q3 + (1.5*IQR)):\n",
    "        x=Q3\n",
    "    elif x <(Q1 - (1.5*IQR)):\n",
    "        x=Q1\n",
    "    else:\n",
    "        pass\n",
    "    return(x)\n",
    "\n",
    "Q1 = data['IncRat'].quantile(0.25)\n",
    "Q3 = data['IncRat'].quantile(0.75)\n",
    "IQR = iqr(data['IncRat'])\n",
    "data['IncRat']=data['IncRat'].apply(lambda x: iqr_outliers(x))\n",
    "\n",
    "# Plotting boxplot\n",
    "plt.boxplot(data.IncRat)"
   ]
  },
  {
   "cell_type": "code",
   "execution_count": 5,
   "metadata": {},
   "outputs": [
    {
     "data": {
      "text/plain": [
       "{'whiskers': [<matplotlib.lines.Line2D at 0x2cb73212f28>,\n",
       "  <matplotlib.lines.Line2D at 0x2cb73212fd0>],\n",
       " 'caps': [<matplotlib.lines.Line2D at 0x2cb732097b8>,\n",
       "  <matplotlib.lines.Line2D at 0x2cb73209be0>],\n",
       " 'boxes': [<matplotlib.lines.Line2D at 0x2cb732129b0>],\n",
       " 'medians': [<matplotlib.lines.Line2D at 0x2cb73209c88>],\n",
       " 'fliers': [<matplotlib.lines.Line2D at 0x2cb73bf3470>],\n",
       " 'means': []}"
      ]
     },
     "execution_count": 5,
     "metadata": {},
     "output_type": "execute_result"
    },
    {
     "data": {
      "image/png": "[encoded data removed]",
      "text/plain": [
       "<Figure size 432x288 with 1 Axes>"
      ]
     },
     "metadata": {
      "needs_background": "light"
     },
     "output_type": "display_data"
    }
   ],
   "source": [
    "Q1 = data['UPB'].quantile(0.25)\n",
    "Q3 = data['UPB'].quantile(0.75)\n",
    "IQR = iqr(data['UPB'])\n",
    "data['UPB']=data['UPB'].apply(lambda x: iqr_outliers(x))\n",
    "\n",
    "# Plotting boxplot\n",
    "plt.boxplot(data.UPB)"
   ]
  },
  {
   "cell_type": "code",
   "execution_count": 6,
   "metadata": {},
   "outputs": [
    {
     "data": {
      "text/plain": [
       "{'whiskers': [<matplotlib.lines.Line2D at 0x2cb73242e80>,\n",
       "  <matplotlib.lines.Line2D at 0x2cb73242f28>],\n",
       " 'caps': [<matplotlib.lines.Line2D at 0x2cb73249710>,\n",
       "  <matplotlib.lines.Line2D at 0x2cb73249b38>],\n",
       " 'boxes': [<matplotlib.lines.Line2D at 0x2cb73242908>],\n",
       " 'medians': [<matplotlib.lines.Line2D at 0x2cb73249f60>],\n",
       " 'fliers': [<matplotlib.lines.Line2D at 0x2cb73249f28>],\n",
       " 'means': []}"
      ]
     },
     "execution_count": 6,
     "metadata": {},
     "output_type": "execute_result"
    },
    {
     "data": {
      "image/png": "[encoded data removed]",
      "text/plain": [
       "<Figure size 432x288 with 1 Axes>"
      ]
     },
     "metadata": {
      "needs_background": "light"
     },
     "output_type": "display_data"
    }
   ],
   "source": [
    "Q1 = data['LTV'].quantile(0.25)\n",
    "Q3 = data['LTV'].quantile(0.75)\n",
    "IQR = iqr(data['LTV'])\n",
    "data['LTV']=data['LTV'].apply(lambda x: iqr_outliers(x))\n",
    "\n",
    "# Plotting boxplot\n",
    "plt.boxplot(data.LTV)"
   ]
  },
  {
   "cell_type": "code",
   "execution_count": 7,
   "metadata": {},
   "outputs": [
    {
     "data": {
      "text/plain": [
       "{'whiskers': [<matplotlib.lines.Line2D at 0x2cb7328da90>,\n",
       "  <matplotlib.lines.Line2D at 0x2cb7328deb8>],\n",
       " 'caps': [<matplotlib.lines.Line2D at 0x2cb7328df60>,\n",
       "  <matplotlib.lines.Line2D at 0x2cb73282748>],\n",
       " 'boxes': [<matplotlib.lines.Line2D at 0x2cb7328d518>],\n",
       " 'medians': [<matplotlib.lines.Line2D at 0x2cb73282b70>],\n",
       " 'fliers': [<matplotlib.lines.Line2D at 0x2cb73282f98>],\n",
       " 'means': []}"
      ]
     },
     "execution_count": 7,
     "metadata": {},
     "output_type": "execute_result"
    },
    {
     "data": {
      "image/png": "[encoded data removed]",
      "text/plain": [
       "<Figure size 432x288 with 1 Axes>"
      ]
     },
     "metadata": {
      "needs_background": "light"
     },
     "output_type": "display_data"
    }
   ],
   "source": [
    "Q1 = data['Front'].quantile(0.25)\n",
    "Q3 = data['Front'].quantile(0.75)\n",
    "IQR = iqr(data['Front'])\n",
    "data['Front']=data['Front'].apply(lambda x: iqr_outliers(x))\n",
    "\n",
    "# Plotting boxplot\n",
    "plt.boxplot(data.Front)"
   ]
  },
  {
   "cell_type": "code",
   "execution_count": 8,
   "metadata": {},
   "outputs": [
    {
     "data": {
      "text/plain": [
       "{'whiskers': [<matplotlib.lines.Line2D at 0x2cb73b14b70>,\n",
       "  <matplotlib.lines.Line2D at 0x2cb73b14f98>],\n",
       " 'caps': [<matplotlib.lines.Line2D at 0x2cb73b14f60>,\n",
       "  <matplotlib.lines.Line2D at 0x2cb73b1d828>],\n",
       " 'boxes': [<matplotlib.lines.Line2D at 0x2cb73b145f8>],\n",
       " 'medians': [<matplotlib.lines.Line2D at 0x2cb73b1dc50>],\n",
       " 'fliers': [<matplotlib.lines.Line2D at 0x2cb73b1dcf8>],\n",
       " 'means': []}"
      ]
     },
     "execution_count": 8,
     "metadata": {},
     "output_type": "execute_result"
    },
    {
     "data": {
      "image/png": "[encoded data removed]",
      "text/plain": [
       "<Figure size 432x288 with 1 Axes>"
      ]
     },
     "metadata": {
      "needs_background": "light"
     },
     "output_type": "display_data"
    }
   ],
   "source": [
    "Q1 = data['Back'].quantile(0.25)\n",
    "Q3 = data['Back'].quantile(0.75)\n",
    "IQR = iqr(data['Back'])\n",
    "data['Back']=data['Back'].apply(lambda x: iqr_outliers(x))\n",
    "\n",
    "# Plotting boxplot\n",
    "plt.boxplot(data.Back)"
   ]
  },
  {
   "cell_type": "markdown",
   "metadata": {},
   "source": [
    "#### Normalization ####"
   ]
  },
  {
   "cell_type": "code",
   "execution_count": 9,
   "metadata": {},
   "outputs": [
    {
     "data": {
      "text/plain": [
       "IncRat               1.469643\n",
       "UPB             203662.867927\n",
       "LTV                  0.759503\n",
       "Purpose              1.559183\n",
       "Coop                 2.000000\n",
       "Product              1.000000\n",
       "FedGuar              0.146666\n",
       "Occup                1.019577\n",
       "Front                0.185294\n",
       "Back                 0.289898\n",
       "BoCreditScor         4.484825\n",
       "PropType             1.986489\n",
       "dtype: float64"
      ]
     },
     "execution_count": 9,
     "metadata": {},
     "output_type": "execute_result"
    }
   ],
   "source": [
    "# Checking the mean\n",
    "data.mean()"
   ]
  },
  {
   "cell_type": "code",
   "execution_count": 10,
   "metadata": {},
   "outputs": [],
   "source": [
    "# Moving features to another variable\n",
    "features_no = data.filter(['IncRat','LTV','Purpose','Coop','Product','FedGuar','Occup','Front','Back','BoCreditScor','PropType'], axis=1)\n",
    "\n",
    "# Dropping other variables\n",
    "data = data.drop(['IncRat','LTV','Purpose','Coop','Product','FedGuar','Occup','Front','Back','BoCreditScor','PropType'], axis=1)\n",
    "\n",
    "# Creating a new variable for columns\n",
    "new_cols = ['UPB']\n",
    "\n",
    "# Normalizing using MinMax\n",
    "minmax = preprocessing.MinMaxScaler()\n",
    "normal_data = (minmax.fit_transform(data))\n",
    "normal_data = pd.DataFrame(normal_data, columns=new_cols)"
   ]
  },
  {
   "cell_type": "code",
   "execution_count": 11,
   "metadata": {},
   "outputs": [
    {
     "data": {
      "text/plain": [
       "UPB    0.386646\n",
       "dtype: float64"
      ]
     },
     "execution_count": 11,
     "metadata": {},
     "output_type": "execute_result"
    }
   ],
   "source": [
    "normal_data.mean()"
   ]
  },
  {
   "cell_type": "code",
   "execution_count": 12,
   "metadata": {},
   "outputs": [
    {
     "name": "stdout",
     "output_type": "stream",
     "text": [
      "   IncRat   LTV  Purpose  Coop  Product  FedGuar  Occup   Front    Back  \\\n",
      "0  1.5112  0.84        2     2        1        2      1  0.2174  0.3683   \n",
      "1  0.7347  0.76        2     2        1        2      1  0.1850  0.2385   \n",
      "2  0.8536  0.80        1     2        1        2      1  0.2084  0.3817   \n",
      "3  1.4262  0.80        1     2        1        2      1  0.1481  0.3170   \n",
      "4  2.0272  0.89        1     2        1        2      1  0.2072  0.3184   \n",
      "\n",
      "   BoCreditScor  PropType       UPB  \n",
      "0             4         7  0.748225  \n",
      "1             4         1  0.203867  \n",
      "2             4         1  0.229064  \n",
      "3             4         1  0.302986  \n",
      "4             4         7  0.774628  \n"
     ]
    }
   ],
   "source": [
    "data = pd.concat([features_no, normal_data], axis=1, join='inner')\n",
    "print(data.head())"
   ]
  },
  {
   "cell_type": "markdown",
   "metadata": {},
   "source": [
    "#### Skewness ####"
   ]
  },
  {
   "cell_type": "code",
   "execution_count": 13,
   "metadata": {},
   "outputs": [
    {
     "data": {
      "text/plain": [
       "IncRat          0.608441\n",
       "LTV            -0.243533\n",
       "Purpose        -0.083125\n",
       "Coop            0.000000\n",
       "Product         0.000000\n",
       "FedGuar         3.994651\n",
       "Occup           6.935553\n",
       "Front           0.380497\n",
       "Back           -0.063340\n",
       "BoCreditScor   -1.141015\n",
       "PropType        2.436915\n",
       "UPB             0.657634\n",
       "dtype: float64"
      ]
     },
     "execution_count": 13,
     "metadata": {},
     "output_type": "execute_result"
    }
   ],
   "source": [
    "# Checking Skewness\n",
    "data.skew()"
   ]
  },
  {
   "cell_type": "markdown",
   "metadata": {},
   "source": [
    "__These skew values all look good. 'Occup' and 'FedGuar' are categorical variables, so I do not have to change the skew for them.__"
   ]
  },
  {
   "cell_type": "code",
   "execution_count": 14,
   "metadata": {},
   "outputs": [
    {
     "data": {
      "text/html": [
       "<div>\n",
       "<style scoped>\n",
       "    .dataframe tbody tr th:only-of-type {\n",
       "        vertical-align: middle;\n",
       "    }\n",
       "\n",
       "    .dataframe tbody tr th {\n",
       "        vertical-align: top;\n",
       "    }\n",
       "\n",
       "    .dataframe thead th {\n",
       "        text-align: right;\n",
       "    }\n",
       "</style>\n",
       "<table border=\"1\" class=\"dataframe\">\n",
       "  <thead>\n",
       "    <tr style=\"text-align: right;\">\n",
       "      <th></th>\n",
       "      <th>IncRat</th>\n",
       "      <th>LTV</th>\n",
       "      <th>Purpose</th>\n",
       "      <th>Coop</th>\n",
       "      <th>Product</th>\n",
       "      <th>FedGuar</th>\n",
       "      <th>Occup</th>\n",
       "      <th>Front</th>\n",
       "      <th>Back</th>\n",
       "      <th>BoCreditScor</th>\n",
       "      <th>PropType</th>\n",
       "      <th>UPB</th>\n",
       "    </tr>\n",
       "  </thead>\n",
       "  <tbody>\n",
       "    <tr>\n",
       "      <th>0</th>\n",
       "      <td>1.5112</td>\n",
       "      <td>0.84</td>\n",
       "      <td>2</td>\n",
       "      <td>2</td>\n",
       "      <td>1</td>\n",
       "      <td>2</td>\n",
       "      <td>1</td>\n",
       "      <td>0.2174</td>\n",
       "      <td>0.3683</td>\n",
       "      <td>4</td>\n",
       "      <td>7</td>\n",
       "      <td>0.748225</td>\n",
       "    </tr>\n",
       "    <tr>\n",
       "      <th>1</th>\n",
       "      <td>0.7347</td>\n",
       "      <td>0.76</td>\n",
       "      <td>2</td>\n",
       "      <td>2</td>\n",
       "      <td>1</td>\n",
       "      <td>2</td>\n",
       "      <td>1</td>\n",
       "      <td>0.1850</td>\n",
       "      <td>0.2385</td>\n",
       "      <td>4</td>\n",
       "      <td>1</td>\n",
       "      <td>0.203867</td>\n",
       "    </tr>\n",
       "    <tr>\n",
       "      <th>2</th>\n",
       "      <td>0.8536</td>\n",
       "      <td>0.80</td>\n",
       "      <td>1</td>\n",
       "      <td>2</td>\n",
       "      <td>1</td>\n",
       "      <td>2</td>\n",
       "      <td>1</td>\n",
       "      <td>0.2084</td>\n",
       "      <td>0.3817</td>\n",
       "      <td>4</td>\n",
       "      <td>1</td>\n",
       "      <td>0.229064</td>\n",
       "    </tr>\n",
       "    <tr>\n",
       "      <th>3</th>\n",
       "      <td>1.4262</td>\n",
       "      <td>0.80</td>\n",
       "      <td>1</td>\n",
       "      <td>2</td>\n",
       "      <td>1</td>\n",
       "      <td>2</td>\n",
       "      <td>1</td>\n",
       "      <td>0.1481</td>\n",
       "      <td>0.3170</td>\n",
       "      <td>4</td>\n",
       "      <td>1</td>\n",
       "      <td>0.302986</td>\n",
       "    </tr>\n",
       "    <tr>\n",
       "      <th>4</th>\n",
       "      <td>2.0272</td>\n",
       "      <td>0.89</td>\n",
       "      <td>1</td>\n",
       "      <td>2</td>\n",
       "      <td>1</td>\n",
       "      <td>2</td>\n",
       "      <td>1</td>\n",
       "      <td>0.2072</td>\n",
       "      <td>0.3184</td>\n",
       "      <td>4</td>\n",
       "      <td>7</td>\n",
       "      <td>0.774628</td>\n",
       "    </tr>\n",
       "  </tbody>\n",
       "</table>\n",
       "</div>"
      ],
      "text/plain": [
       "   IncRat   LTV  Purpose  Coop  Product  FedGuar  Occup   Front    Back  \\\n",
       "0  1.5112  0.84        2     2        1        2      1  0.2174  0.3683   \n",
       "1  0.7347  0.76        2     2        1        2      1  0.1850  0.2385   \n",
       "2  0.8536  0.80        1     2        1        2      1  0.2084  0.3817   \n",
       "3  1.4262  0.80        1     2        1        2      1  0.1481  0.3170   \n",
       "4  2.0272  0.89        1     2        1        2      1  0.2072  0.3184   \n",
       "\n",
       "   BoCreditScor  PropType       UPB  \n",
       "0             4         7  0.748225  \n",
       "1             4         1  0.203867  \n",
       "2             4         1  0.229064  \n",
       "3             4         1  0.302986  \n",
       "4             4         7  0.774628  "
      ]
     },
     "execution_count": 14,
     "metadata": {},
     "output_type": "execute_result"
    }
   ],
   "source": [
    "# Printing the data\n",
    "data.head()"
   ]
  },
  {
   "cell_type": "code",
   "execution_count": 15,
   "metadata": {},
   "outputs": [
    {
     "data": {
      "text/html": [
       "<div>\n",
       "<style scoped>\n",
       "    .dataframe tbody tr th:only-of-type {\n",
       "        vertical-align: middle;\n",
       "    }\n",
       "\n",
       "    .dataframe tbody tr th {\n",
       "        vertical-align: top;\n",
       "    }\n",
       "\n",
       "    .dataframe thead th {\n",
       "        text-align: right;\n",
       "    }\n",
       "</style>\n",
       "<table border=\"1\" class=\"dataframe\">\n",
       "  <thead>\n",
       "    <tr style=\"text-align: right;\">\n",
       "      <th></th>\n",
       "      <th>IncRat</th>\n",
       "      <th>LTV</th>\n",
       "      <th>Purpose</th>\n",
       "      <th>Coop</th>\n",
       "      <th>Product</th>\n",
       "      <th>FedGuar</th>\n",
       "      <th>Occup</th>\n",
       "      <th>Front</th>\n",
       "      <th>Back</th>\n",
       "      <th>BoCreditScor</th>\n",
       "      <th>PropType</th>\n",
       "      <th>UPB</th>\n",
       "      <th>Portfolio_Worthy</th>\n",
       "    </tr>\n",
       "  </thead>\n",
       "  <tbody>\n",
       "    <tr>\n",
       "      <th>0</th>\n",
       "      <td>1.5112</td>\n",
       "      <td>0.84</td>\n",
       "      <td>2</td>\n",
       "      <td>2</td>\n",
       "      <td>1</td>\n",
       "      <td>2</td>\n",
       "      <td>1</td>\n",
       "      <td>0.2174</td>\n",
       "      <td>0.3683</td>\n",
       "      <td>4</td>\n",
       "      <td>7</td>\n",
       "      <td>0.748225</td>\n",
       "      <td>1</td>\n",
       "    </tr>\n",
       "    <tr>\n",
       "      <th>1</th>\n",
       "      <td>0.7347</td>\n",
       "      <td>0.76</td>\n",
       "      <td>2</td>\n",
       "      <td>2</td>\n",
       "      <td>1</td>\n",
       "      <td>2</td>\n",
       "      <td>1</td>\n",
       "      <td>0.1850</td>\n",
       "      <td>0.2385</td>\n",
       "      <td>4</td>\n",
       "      <td>1</td>\n",
       "      <td>0.203867</td>\n",
       "      <td>1</td>\n",
       "    </tr>\n",
       "    <tr>\n",
       "      <th>2</th>\n",
       "      <td>0.8536</td>\n",
       "      <td>0.80</td>\n",
       "      <td>1</td>\n",
       "      <td>2</td>\n",
       "      <td>1</td>\n",
       "      <td>2</td>\n",
       "      <td>1</td>\n",
       "      <td>0.2084</td>\n",
       "      <td>0.3817</td>\n",
       "      <td>4</td>\n",
       "      <td>1</td>\n",
       "      <td>0.229064</td>\n",
       "      <td>1</td>\n",
       "    </tr>\n",
       "    <tr>\n",
       "      <th>3</th>\n",
       "      <td>1.4262</td>\n",
       "      <td>0.80</td>\n",
       "      <td>1</td>\n",
       "      <td>2</td>\n",
       "      <td>1</td>\n",
       "      <td>2</td>\n",
       "      <td>1</td>\n",
       "      <td>0.1481</td>\n",
       "      <td>0.3170</td>\n",
       "      <td>4</td>\n",
       "      <td>1</td>\n",
       "      <td>0.302986</td>\n",
       "      <td>1</td>\n",
       "    </tr>\n",
       "    <tr>\n",
       "      <th>4</th>\n",
       "      <td>2.0272</td>\n",
       "      <td>0.89</td>\n",
       "      <td>1</td>\n",
       "      <td>2</td>\n",
       "      <td>1</td>\n",
       "      <td>2</td>\n",
       "      <td>1</td>\n",
       "      <td>0.2072</td>\n",
       "      <td>0.3184</td>\n",
       "      <td>4</td>\n",
       "      <td>7</td>\n",
       "      <td>0.774628</td>\n",
       "      <td>1</td>\n",
       "    </tr>\n",
       "  </tbody>\n",
       "</table>\n",
       "</div>"
      ],
      "text/plain": [
       "   IncRat   LTV  Purpose  Coop  Product  FedGuar  Occup   Front    Back  \\\n",
       "0  1.5112  0.84        2     2        1        2      1  0.2174  0.3683   \n",
       "1  0.7347  0.76        2     2        1        2      1  0.1850  0.2385   \n",
       "2  0.8536  0.80        1     2        1        2      1  0.2084  0.3817   \n",
       "3  1.4262  0.80        1     2        1        2      1  0.1481  0.3170   \n",
       "4  2.0272  0.89        1     2        1        2      1  0.2072  0.3184   \n",
       "\n",
       "   BoCreditScor  PropType       UPB  Portfolio_Worthy  \n",
       "0             4         7  0.748225                 1  \n",
       "1             4         1  0.203867                 1  \n",
       "2             4         1  0.229064                 1  \n",
       "3             4         1  0.302986                 1  \n",
       "4             4         7  0.774628                 1  "
      ]
     },
     "execution_count": 15,
     "metadata": {},
     "output_type": "execute_result"
    }
   ],
   "source": [
    "# Concatinting the target back to the data set\n",
    "data = pd.concat([data, target], axis=1, join='inner')\n",
    "data.head()"
   ]
  },
  {
   "cell_type": "code",
   "execution_count": 18,
   "metadata": {},
   "outputs": [],
   "source": [
    "# Exporting data to csv file\n",
    "data.to_csv(\"MinMax.csv\", sep=',')"
   ]
  },
  {
   "cell_type": "markdown",
   "metadata": {},
   "source": [
    "#### Correlation ####"
   ]
  },
  {
   "cell_type": "code",
   "execution_count": 19,
   "metadata": {},
   "outputs": [
    {
     "data": {
      "text/plain": [
       "<matplotlib.axes._subplots.AxesSubplot at 0x2cb73b73048>"
      ]
     },
     "execution_count": 19,
     "metadata": {},
     "output_type": "execute_result"
    },
    {
     "data": {
      "image/png": "[encoded data removed]",
      "text/plain": [
       "<Figure size 792x648 with 2 Axes>"
      ]
     },
     "metadata": {
      "needs_background": "light"
     },
     "output_type": "display_data"
    }
   ],
   "source": [
    "# Checking if the correlation changed\n",
    "### WE ARE USING THIS CODE FROM COMPETITION 1\n",
    "\n",
    "## We will make it look nicer to the eye\n",
    "# Visualizing a Correlation Matrix\n",
    "correlation_visual = data.corr(method='spearman')\n",
    "\n",
    "# Have to generate a mask(hide) for the upper triangle\n",
    "hide = np.zeros_like(correlation_visual, dtype=np.bool)\n",
    "hide[np.triu_indices_from(hide)] = True\n",
    "\n",
    "# Setting the subplot for the correlation matrix\n",
    "f , ax = plt.subplots(figsize=(11,9))\n",
    "\n",
    "# Generating a diverging colormap\n",
    "cmap = sns.diverging_palette(100, 200, as_cmap=True)\n",
    "\n",
    "# Adding the heatmap\n",
    "sns.heatmap(correlation_visual, mask=hide, cmap=cmap, vmin=-1,vmax=1, center=0, square=True, linewidths=.6, cbar_kws={\"shrink\": .5})"
   ]
  },
  {
   "cell_type": "code",
   "execution_count": 20,
   "metadata": {},
   "outputs": [
    {
     "name": "stdout",
     "output_type": "stream",
     "text": [
      "                    IncRat       LTV   Purpose  Coop  Product   FedGuar  \\\n",
      "IncRat            1.000000 -0.089183  0.133533   NaN      NaN -0.171191   \n",
      "LTV              -0.089183  1.000000 -0.495246   NaN      NaN  0.246440   \n",
      "Purpose           0.133533 -0.495246  1.000000   NaN      NaN -0.214228   \n",
      "Coop                   NaN       NaN       NaN   NaN      NaN       NaN   \n",
      "Product                NaN       NaN       NaN   NaN      NaN       NaN   \n",
      "FedGuar          -0.171191  0.246440 -0.214228   NaN      NaN  1.000000   \n",
      "Occup             0.119275 -0.015552 -0.054471   NaN      NaN -0.039286   \n",
      "Front            -0.485387  0.013110 -0.007754   NaN      NaN  0.062791   \n",
      "Back             -0.308504  0.137866 -0.078499   NaN      NaN  0.150438   \n",
      "BoCreditScor      0.137778 -0.174076  0.065937   NaN      NaN -0.240443   \n",
      "PropType          0.074903 -0.028917 -0.044382   NaN      NaN -0.014214   \n",
      "UPB               0.559956 -0.044204  0.106953   NaN      NaN -0.114542   \n",
      "Portfolio_Worthy  0.079275 -0.019379 -0.089789   NaN      NaN -0.178658   \n",
      "\n",
      "                     Occup     Front      Back  BoCreditScor  PropType  \\\n",
      "IncRat            0.119275 -0.485387 -0.308504      0.137778  0.074903   \n",
      "LTV              -0.015552  0.013110  0.137866     -0.174076 -0.028917   \n",
      "Purpose          -0.054471 -0.007754 -0.078499      0.065937 -0.044382   \n",
      "Coop                   NaN       NaN       NaN           NaN       NaN   \n",
      "Product                NaN       NaN       NaN           NaN       NaN   \n",
      "FedGuar          -0.039286  0.062791  0.150438     -0.240443 -0.014214   \n",
      "Occup             1.000000 -0.125564 -0.005787      0.041626  0.033230   \n",
      "Front            -0.125564  1.000000  0.564307     -0.040016  0.097092   \n",
      "Back             -0.005787  0.564307  1.000000     -0.226827  0.037328   \n",
      "BoCreditScor      0.041626 -0.040016 -0.226827      1.000000  0.071944   \n",
      "PropType          0.033230  0.097092  0.037328      0.071944  1.000000   \n",
      "UPB               0.006919  0.220955  0.104685      0.116646  0.191767   \n",
      "Portfolio_Worthy  0.015393 -0.021025 -0.107279      0.461617  0.049325   \n",
      "\n",
      "                       UPB  Portfolio_Worthy  \n",
      "IncRat            0.559956          0.079275  \n",
      "LTV              -0.044204         -0.019379  \n",
      "Purpose           0.106953         -0.089789  \n",
      "Coop                   NaN               NaN  \n",
      "Product                NaN               NaN  \n",
      "FedGuar          -0.114542         -0.178658  \n",
      "Occup             0.006919          0.015393  \n",
      "Front             0.220955         -0.021025  \n",
      "Back              0.104685         -0.107279  \n",
      "BoCreditScor      0.116646          0.461617  \n",
      "PropType          0.191767          0.049325  \n",
      "UPB               1.000000          0.080186  \n",
      "Portfolio_Worthy  0.080186          1.000000  \n"
     ]
    }
   ],
   "source": [
    "# Numerical correlation\n",
    "print(data.corr(method='spearman'))"
   ]
  }
 ],
 "metadata": {
  "kernelspec": {
   "display_name": "Python 3",
   "language": "python",
   "name": "python3"
  },
  "language_info": {
   "codemirror_mode": {
    "name": "ipython",
    "version": 3
   },
   "file_extension": ".py",
   "mimetype": "text/x-python",
   "name": "python",
   "nbconvert_exporter": "python",
   "pygments_lexer": "ipython3",
   "version": "3.7.0"
  }
 },
 "nbformat": 4,
 "nbformat_minor": 2
}
