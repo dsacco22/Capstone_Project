{
 "cells": [
  {
   "cell_type": "markdown",
   "metadata": {},
   "source": [
    "### XGBoost ###"
   ]
  },
  {
   "cell_type": "code",
   "execution_count": 1,
   "metadata": {},
   "outputs": [
    {
     "data": {
      "text/html": [
       "<div>\n",
       "<style scoped>\n",
       "    .dataframe tbody tr th:only-of-type {\n",
       "        vertical-align: middle;\n",
       "    }\n",
       "\n",
       "    .dataframe tbody tr th {\n",
       "        vertical-align: top;\n",
       "    }\n",
       "\n",
       "    .dataframe thead th {\n",
       "        text-align: right;\n",
       "    }\n",
       "</style>\n",
       "<table border=\"1\" class=\"dataframe\">\n",
       "  <thead>\n",
       "    <tr style=\"text-align: right;\">\n",
       "      <th></th>\n",
       "      <th>LTV_M</th>\n",
       "      <th>Purpose_M</th>\n",
       "      <th>Coop_M</th>\n",
       "      <th>Product_M</th>\n",
       "      <th>Occup_M</th>\n",
       "      <th>Back_M</th>\n",
       "      <th>BoCreditScor_M</th>\n",
       "      <th>PropType_M</th>\n",
       "      <th>Loan_Multiplier</th>\n",
       "      <th>Portfolio_Worthy</th>\n",
       "      <th>Year</th>\n",
       "      <th>Bank</th>\n",
       "      <th>MortDate</th>\n",
       "      <th>Assigned_ID</th>\n",
       "    </tr>\n",
       "  </thead>\n",
       "  <tbody>\n",
       "    <tr>\n",
       "      <th>0</th>\n",
       "      <td>1.526</td>\n",
       "      <td>1.61</td>\n",
       "      <td>1.0</td>\n",
       "      <td>0.879</td>\n",
       "      <td>1.0</td>\n",
       "      <td>2.019</td>\n",
       "      <td>1.76</td>\n",
       "      <td>1.0</td>\n",
       "      <td>7.673938</td>\n",
       "      <td>0</td>\n",
       "      <td>2016</td>\n",
       "      <td>Atlanta</td>\n",
       "      <td>2015</td>\n",
       "      <td>2004452</td>\n",
       "    </tr>\n",
       "    <tr>\n",
       "      <th>1</th>\n",
       "      <td>1.000</td>\n",
       "      <td>1.61</td>\n",
       "      <td>1.0</td>\n",
       "      <td>0.879</td>\n",
       "      <td>1.0</td>\n",
       "      <td>1.000</td>\n",
       "      <td>1.76</td>\n",
       "      <td>1.0</td>\n",
       "      <td>2.490734</td>\n",
       "      <td>0</td>\n",
       "      <td>2016</td>\n",
       "      <td>Atlanta</td>\n",
       "      <td>2015</td>\n",
       "      <td>2004453</td>\n",
       "    </tr>\n",
       "    <tr>\n",
       "      <th>2</th>\n",
       "      <td>2.846</td>\n",
       "      <td>1.00</td>\n",
       "      <td>1.0</td>\n",
       "      <td>0.879</td>\n",
       "      <td>1.0</td>\n",
       "      <td>2.019</td>\n",
       "      <td>1.76</td>\n",
       "      <td>1.0</td>\n",
       "      <td>8.889406</td>\n",
       "      <td>0</td>\n",
       "      <td>2016</td>\n",
       "      <td>Atlanta</td>\n",
       "      <td>2015</td>\n",
       "      <td>2004454</td>\n",
       "    </tr>\n",
       "    <tr>\n",
       "      <th>3</th>\n",
       "      <td>2.846</td>\n",
       "      <td>1.00</td>\n",
       "      <td>1.0</td>\n",
       "      <td>0.879</td>\n",
       "      <td>1.0</td>\n",
       "      <td>1.431</td>\n",
       "      <td>1.76</td>\n",
       "      <td>1.0</td>\n",
       "      <td>6.300515</td>\n",
       "      <td>0</td>\n",
       "      <td>2016</td>\n",
       "      <td>Atlanta</td>\n",
       "      <td>2015</td>\n",
       "      <td>2004455</td>\n",
       "    </tr>\n",
       "    <tr>\n",
       "      <th>4</th>\n",
       "      <td>2.348</td>\n",
       "      <td>1.00</td>\n",
       "      <td>1.0</td>\n",
       "      <td>0.879</td>\n",
       "      <td>1.0</td>\n",
       "      <td>1.431</td>\n",
       "      <td>1.76</td>\n",
       "      <td>1.0</td>\n",
       "      <td>5.198036</td>\n",
       "      <td>0</td>\n",
       "      <td>2016</td>\n",
       "      <td>Atlanta</td>\n",
       "      <td>2015</td>\n",
       "      <td>2004456</td>\n",
       "    </tr>\n",
       "  </tbody>\n",
       "</table>\n",
       "</div>"
      ],
      "text/plain": [
       "   LTV_M  Purpose_M  Coop_M  Product_M  Occup_M  Back_M  BoCreditScor_M  \\\n",
       "0  1.526       1.61     1.0      0.879      1.0   2.019            1.76   \n",
       "1  1.000       1.61     1.0      0.879      1.0   1.000            1.76   \n",
       "2  2.846       1.00     1.0      0.879      1.0   2.019            1.76   \n",
       "3  2.846       1.00     1.0      0.879      1.0   1.431            1.76   \n",
       "4  2.348       1.00     1.0      0.879      1.0   1.431            1.76   \n",
       "\n",
       "   PropType_M  Loan_Multiplier  Portfolio_Worthy  Year     Bank  MortDate  \\\n",
       "0         1.0         7.673938                 0  2016  Atlanta      2015   \n",
       "1         1.0         2.490734                 0  2016  Atlanta      2015   \n",
       "2         1.0         8.889406                 0  2016  Atlanta      2015   \n",
       "3         1.0         6.300515                 0  2016  Atlanta      2015   \n",
       "4         1.0         5.198036                 0  2016  Atlanta      2015   \n",
       "\n",
       "   Assigned_ID  \n",
       "0      2004452  \n",
       "1      2004453  \n",
       "2      2004454  \n",
       "3      2004455  \n",
       "4      2004456  "
      ]
     },
     "execution_count": 1,
     "metadata": {},
     "output_type": "execute_result"
    }
   ],
   "source": [
    "# Importing useful packages\n",
    "import pandas as pd\n",
    "import numpy as np\n",
    "import xgboost as xgb\n",
    "from sklearn.metrics import mean_squared_error\n",
    "from sklearn.model_selection import train_test_split\n",
    "import pickle\n",
    "\n",
    "## Importing data\n",
    "data = pd.read_csv(\"MinMax.csv\", index_col=0, header=0)\n",
    "data.head()"
   ]
  },
  {
   "cell_type": "code",
   "execution_count": 2,
   "metadata": {},
   "outputs": [],
   "source": [
    "# Creating variables\n",
    "X = data.iloc[:,:-5]\n",
    "y = data.Portfolio_Worthy"
   ]
  },
  {
   "cell_type": "code",
   "execution_count": 3,
   "metadata": {},
   "outputs": [
    {
     "name": "stderr",
     "output_type": "stream",
     "text": [
      "D:\\Python\\lib\\site-packages\\xgboost\\core.py:587: FutureWarning: Series.base is deprecated and will be removed in a future version\n",
      "  if getattr(data, 'base', None) is not None and \\\n",
      "D:\\Python\\lib\\site-packages\\xgboost\\core.py:588: FutureWarning: Series.base is deprecated and will be removed in a future version\n",
      "  data.base is not None and isinstance(data, np.ndarray) \\\n"
     ]
    }
   ],
   "source": [
    "# Creating a data matrix\n",
    "data_matrix = xgb.DMatrix(data=X,label=y)"
   ]
  },
  {
   "cell_type": "code",
   "execution_count": 4,
   "metadata": {},
   "outputs": [],
   "source": [
    "# Splitting the data into training and testing sets\n",
    "X_train, X_test, y_train, y_test = train_test_split(X, y, test_size=0.25, random_state=20317)"
   ]
  },
  {
   "cell_type": "code",
   "execution_count": 5,
   "metadata": {},
   "outputs": [
    {
     "name": "stdout",
     "output_type": "stream",
     "text": [
      "[16:54:15] WARNING: C:/Jenkins/workspace/xgboost-win64_release_0.90/src/objective/regression_obj.cu:152: reg:linear is now deprecated in favor of reg:squarederror.\n"
     ]
    }
   ],
   "source": [
    "# Starting the XGBoost Model\n",
    "xgb_reg = xgb.XGBClassifier(objective='reg:linear', colsample_bytree=0.3, learning_rate=0.1, max_depth=5, alpha=10, n_estimators=100)\n",
    "\n",
    "## Fitting the xgboost model\n",
    "xgb_reg.fit(X_train, y_train)\n",
    "\n",
    "### Creating the 'predictors' variable\n",
    "predictors = xgb_reg.predict(X_test)"
   ]
  },
  {
   "cell_type": "code",
   "execution_count": 6,
   "metadata": {},
   "outputs": [
    {
     "name": "stdout",
     "output_type": "stream",
     "text": [
      "RMSE: 0.000000\n"
     ]
    }
   ],
   "source": [
    "# Creating the RMSE Model/Output\n",
    "rmse = np.sqrt(mean_squared_error(y_test, predictors))\n",
    "print(\"RMSE: %f\" % (rmse))"
   ]
  },
  {
   "cell_type": "markdown",
   "metadata": {},
   "source": [
    "### Cross-Validation  with XGBoost"
   ]
  },
  {
   "cell_type": "code",
   "execution_count": 7,
   "metadata": {},
   "outputs": [
    {
     "name": "stdout",
     "output_type": "stream",
     "text": [
      "[16:54:17] WARNING: C:/Jenkins/workspace/xgboost-win64_release_0.90/src/objective/regression_obj.cu:152: reg:linear is now deprecated in favor of reg:squarederror.\n",
      "[16:54:17] WARNING: C:/Jenkins/workspace/xgboost-win64_release_0.90/src/objective/regression_obj.cu:152: reg:linear is now deprecated in favor of reg:squarederror.\n",
      "[16:54:17] WARNING: C:/Jenkins/workspace/xgboost-win64_release_0.90/src/objective/regression_obj.cu:152: reg:linear is now deprecated in favor of reg:squarederror.\n"
     ]
    }
   ],
   "source": [
    "# Creating the 'params' variable\n",
    "params = {\"objective\":\"reg:linear\",\"colsample_bytree\":0.3,\"learning_rate\":0.1,\"max_depth\":5,\"alpha\":10}\n",
    "cv_results = xgb.cv(dtrain=data_matrix, params=params, nfold=3, num_boost_round=50, early_stopping_rounds=10, metrics='rmse', as_pandas=True, seed=20317)"
   ]
  },
  {
   "cell_type": "code",
   "execution_count": 8,
   "metadata": {},
   "outputs": [
    {
     "data": {
      "text/html": [
       "<div>\n",
       "<style scoped>\n",
       "    .dataframe tbody tr th:only-of-type {\n",
       "        vertical-align: middle;\n",
       "    }\n",
       "\n",
       "    .dataframe tbody tr th {\n",
       "        vertical-align: top;\n",
       "    }\n",
       "\n",
       "    .dataframe thead th {\n",
       "        text-align: right;\n",
       "    }\n",
       "</style>\n",
       "<table border=\"1\" class=\"dataframe\">\n",
       "  <thead>\n",
       "    <tr style=\"text-align: right;\">\n",
       "      <th></th>\n",
       "      <th>train-rmse-mean</th>\n",
       "      <th>train-rmse-std</th>\n",
       "      <th>test-rmse-mean</th>\n",
       "      <th>test-rmse-std</th>\n",
       "    </tr>\n",
       "  </thead>\n",
       "  <tbody>\n",
       "    <tr>\n",
       "      <th>0</th>\n",
       "      <td>0.480228</td>\n",
       "      <td>0.000110</td>\n",
       "      <td>0.480231</td>\n",
       "      <td>0.000098</td>\n",
       "    </tr>\n",
       "    <tr>\n",
       "      <th>1</th>\n",
       "      <td>0.455570</td>\n",
       "      <td>0.017731</td>\n",
       "      <td>0.455664</td>\n",
       "      <td>0.017723</td>\n",
       "    </tr>\n",
       "    <tr>\n",
       "      <th>2</th>\n",
       "      <td>0.430775</td>\n",
       "      <td>0.019247</td>\n",
       "      <td>0.430813</td>\n",
       "      <td>0.019163</td>\n",
       "    </tr>\n",
       "    <tr>\n",
       "      <th>3</th>\n",
       "      <td>0.400961</td>\n",
       "      <td>0.024669</td>\n",
       "      <td>0.401006</td>\n",
       "      <td>0.024558</td>\n",
       "    </tr>\n",
       "    <tr>\n",
       "      <th>4</th>\n",
       "      <td>0.392619</td>\n",
       "      <td>0.027295</td>\n",
       "      <td>0.392616</td>\n",
       "      <td>0.027069</td>\n",
       "    </tr>\n",
       "  </tbody>\n",
       "</table>\n",
       "</div>"
      ],
      "text/plain": [
       "   train-rmse-mean  train-rmse-std  test-rmse-mean  test-rmse-std\n",
       "0         0.480228        0.000110        0.480231       0.000098\n",
       "1         0.455570        0.017731        0.455664       0.017723\n",
       "2         0.430775        0.019247        0.430813       0.019163\n",
       "3         0.400961        0.024669        0.401006       0.024558\n",
       "4         0.392619        0.027295        0.392616       0.027069"
      ]
     },
     "execution_count": 8,
     "metadata": {},
     "output_type": "execute_result"
    }
   ],
   "source": [
    "cv_results.head()"
   ]
  },
  {
   "cell_type": "code",
   "execution_count": 9,
   "metadata": {},
   "outputs": [
    {
     "name": "stdout",
     "output_type": "stream",
     "text": [
      "49    0.108933\n",
      "Name: test-rmse-mean, dtype: float64\n"
     ]
    },
    {
     "data": {
      "image/png": "[encoded data removed]",
      "text/plain": [
       "<Figure size 432x288 with 1 Axes>"
      ]
     },
     "metadata": {},
     "output_type": "display_data"
    }
   ],
   "source": [
    "# Visualizing RMSE over the amount of rounds of boosting\n",
    "import matplotlib.pyplot as plt\n",
    "%matplotlib inline\n",
    "plt.style.use('ggplot')\n",
    "\n",
    "cv_results['test-rmse-mean'].plot()\n",
    "\n",
    "print((cv_results[\"test-rmse-mean\"]).tail(1))"
   ]
  },
  {
   "cell_type": "markdown",
   "metadata": {},
   "source": [
    "### Feature Importance ###"
   ]
  },
  {
   "cell_type": "code",
   "execution_count": 10,
   "metadata": {},
   "outputs": [
    {
     "data": {
      "image/png": "[encoded data removed]",
      "text/plain": [
       "<Figure size 432x288 with 1 Axes>"
      ]
     },
     "metadata": {
      "needs_background": "light"
     },
     "output_type": "display_data"
    }
   ],
   "source": [
    "# Visualizing Feature Importance\n",
    "\n",
    "xgb.plot_importance(xgb_reg)\n",
    "#plt.rcParams['figure.figsize'] = [5, 5]\n",
    "plt.show()"
   ]
  },
  {
   "cell_type": "code",
   "execution_count": 11,
   "metadata": {},
   "outputs": [],
   "source": [
    "# Exporting model\n",
    "finalname = 'xgboost_model.p'\n",
    "pickle.dump(xgb_reg, open(finalname, \"wb\"))"
   ]
  }
 ],
 "metadata": {
  "kernelspec": {
   "display_name": "Python 3",
   "language": "python",
   "name": "python3"
  },
  "language_info": {
   "codemirror_mode": {
    "name": "ipython",
    "version": 3
   },
   "file_extension": ".py",
   "mimetype": "text/x-python",
   "name": "python",
   "nbconvert_exporter": "python",
   "pygments_lexer": "ipython3",
   "version": "3.7.0"
  }
 },
 "nbformat": 4,
 "nbformat_minor": 2
}
