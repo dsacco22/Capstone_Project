{
 "cells": [
  {
   "cell_type": "markdown",
   "metadata": {},
   "source": [
    "### Descriptive Statistics ###"
   ]
  },
  {
   "cell_type": "code",
   "execution_count": 1,
   "metadata": {},
   "outputs": [
    {
     "name": "stdout",
     "output_type": "stream",
     "text": [
      "   Year  Assigned_ID     Bank  IncRat     UPB   LTV  MortDate  Purpose  Coop  \\\n",
      "0  2016      2004452  Atlanta  1.5112  383368  0.84      2015        2     2   \n",
      "1  2016      2004453  Atlanta  0.7347  112822  0.76      2015        2     2   \n",
      "2  2016      2004454  Atlanta  0.8536  125345  1.00      2015        1     2   \n",
      "3  2016      2004455  Atlanta  1.4262  162084  1.03      2015        1     2   \n",
      "4  2016      2004456  Atlanta  2.0272  396490  0.89      2015        1     2   \n",
      "\n",
      "   Product        ...         LTV_M  Purpose_M  Coop_M  Product_M  Occup_M  \\\n",
      "0        1        ...         1.526       1.61     1.0      0.879      1.0   \n",
      "1        1        ...         1.000       1.61     1.0      0.879      1.0   \n",
      "2        1        ...         2.846       1.00     1.0      0.879      1.0   \n",
      "3        1        ...         2.846       1.00     1.0      0.879      1.0   \n",
      "4        1        ...         2.348       1.00     1.0      0.879      1.0   \n",
      "\n",
      "   Back_M  BoCreditScor_M  PropType_M  Loan_Multiplier  Portfolio_Worthy  \n",
      "0   2.019            1.76         1.0         7.673938                 0  \n",
      "1   1.000            1.76         1.0         2.490734                 0  \n",
      "2   2.019            1.76         1.0         8.889406                 0  \n",
      "3   1.431            1.76         1.0         6.300515                 0  \n",
      "4   1.431            1.76         1.0         5.198036                 0  \n",
      "\n",
      "[5 rows x 26 columns]\n"
     ]
    }
   ],
   "source": [
    "# Importing packages\n",
    "import numpy as np\n",
    "import pandas as pd\n",
    "import matplotlib.pyplot as plt\n",
    "import seaborn as sns\n",
    "\n",
    "# Importing data\n",
    "data = pd.read_csv(\"Use_This.csv\", header=0, index_col=0)\n",
    "print(data.head())"
   ]
  },
  {
   "cell_type": "code",
   "execution_count": 3,
   "metadata": {},
   "outputs": [
    {
     "name": "stdout",
     "output_type": "stream",
     "text": [
      "<class 'pandas.core.frame.DataFrame'>\n",
      "Int64Index: 60989 entries, 0 to 60988\n",
      "Data columns (total 26 columns):\n",
      "Year                60989 non-null int64\n",
      "Assigned_ID         60989 non-null int64\n",
      "Bank                60989 non-null object\n",
      "IncRat              60989 non-null float64\n",
      "UPB                 60989 non-null int64\n",
      "LTV                 60989 non-null float64\n",
      "MortDate            60989 non-null int64\n",
      "Purpose             60989 non-null int64\n",
      "Coop                60989 non-null int64\n",
      "Product             60989 non-null int64\n",
      "FedGuar             60989 non-null int64\n",
      "Occup               60989 non-null int64\n",
      "Front               60989 non-null float64\n",
      "Back                60989 non-null float64\n",
      "BoCreditScor        60989 non-null int64\n",
      "PropType            60989 non-null int64\n",
      "LTV_M               60989 non-null float64\n",
      "Purpose_M           60989 non-null float64\n",
      "Coop_M              60989 non-null float64\n",
      "Product_M           60989 non-null float64\n",
      "Occup_M             60989 non-null float64\n",
      "Back_M              60989 non-null float64\n",
      "BoCreditScor_M      60989 non-null float64\n",
      "PropType_M          60989 non-null float64\n",
      "Loan_Multiplier     60989 non-null float64\n",
      "Portfolio_Worthy    60989 non-null bool\n",
      "dtypes: bool(1), float64(13), int64(11), object(1)\n",
      "memory usage: 12.2+ MB\n"
     ]
    }
   ],
   "source": [
    "# Displaying the data types of each attribute\n",
    "## Changing target attribute to boolean data type\n",
    "data.Portfolio_Worthy = data.Portfolio_Worthy.astype(bool)\n",
    "data.info()"
   ]
  },
  {
   "cell_type": "code",
   "execution_count": 4,
   "metadata": {},
   "outputs": [
    {
     "data": {
      "text/html": [
       "<div>\n",
       "<style scoped>\n",
       "    .dataframe tbody tr th:only-of-type {\n",
       "        vertical-align: middle;\n",
       "    }\n",
       "\n",
       "    .dataframe tbody tr th {\n",
       "        vertical-align: top;\n",
       "    }\n",
       "\n",
       "    .dataframe thead th {\n",
       "        text-align: right;\n",
       "    }\n",
       "</style>\n",
       "<table border=\"1\" class=\"dataframe\">\n",
       "  <thead>\n",
       "    <tr style=\"text-align: right;\">\n",
       "      <th></th>\n",
       "      <th>Year</th>\n",
       "      <th>Assigned_ID</th>\n",
       "      <th>IncRat</th>\n",
       "      <th>UPB</th>\n",
       "      <th>LTV</th>\n",
       "      <th>MortDate</th>\n",
       "      <th>Purpose</th>\n",
       "      <th>Coop</th>\n",
       "      <th>Product</th>\n",
       "      <th>FedGuar</th>\n",
       "      <th>...</th>\n",
       "      <th>PropType</th>\n",
       "      <th>LTV_M</th>\n",
       "      <th>Purpose_M</th>\n",
       "      <th>Coop_M</th>\n",
       "      <th>Product_M</th>\n",
       "      <th>Occup_M</th>\n",
       "      <th>Back_M</th>\n",
       "      <th>BoCreditScor_M</th>\n",
       "      <th>PropType_M</th>\n",
       "      <th>Loan_Multiplier</th>\n",
       "    </tr>\n",
       "  </thead>\n",
       "  <tbody>\n",
       "    <tr>\n",
       "      <th>count</th>\n",
       "      <td>60989.0</td>\n",
       "      <td>6.098900e+04</td>\n",
       "      <td>60989.000000</td>\n",
       "      <td>60989.000000</td>\n",
       "      <td>60989.000000</td>\n",
       "      <td>60989.000000</td>\n",
       "      <td>60989.000000</td>\n",
       "      <td>60989.0</td>\n",
       "      <td>60989.0</td>\n",
       "      <td>60989.000000</td>\n",
       "      <td>...</td>\n",
       "      <td>60989.000000</td>\n",
       "      <td>60989.000000</td>\n",
       "      <td>60989.000000</td>\n",
       "      <td>60989.0</td>\n",
       "      <td>6.098900e+04</td>\n",
       "      <td>60989.000000</td>\n",
       "      <td>60989.000000</td>\n",
       "      <td>60989.000000</td>\n",
       "      <td>60989.000000</td>\n",
       "      <td>60989.000000</td>\n",
       "    </tr>\n",
       "    <tr>\n",
       "      <th>mean</th>\n",
       "      <td>2016.0</td>\n",
       "      <td>2.033385e+06</td>\n",
       "      <td>1.650246</td>\n",
       "      <td>211973.001886</td>\n",
       "      <td>0.746919</td>\n",
       "      <td>2015.947023</td>\n",
       "      <td>1.559183</td>\n",
       "      <td>2.0</td>\n",
       "      <td>1.0</td>\n",
       "      <td>0.146666</td>\n",
       "      <td>...</td>\n",
       "      <td>1.986489</td>\n",
       "      <td>1.057208</td>\n",
       "      <td>1.338671</td>\n",
       "      <td>1.0</td>\n",
       "      <td>8.790000e-01</td>\n",
       "      <td>1.005951</td>\n",
       "      <td>1.362326</td>\n",
       "      <td>1.313974</td>\n",
       "      <td>1.009082</td>\n",
       "      <td>2.479194</td>\n",
       "    </tr>\n",
       "    <tr>\n",
       "      <th>std</th>\n",
       "      <td>0.0</td>\n",
       "      <td>1.846637e+04</td>\n",
       "      <td>2.031755</td>\n",
       "      <td>120582.737916</td>\n",
       "      <td>0.156082</td>\n",
       "      <td>0.233522</td>\n",
       "      <td>0.504450</td>\n",
       "      <td>0.0</td>\n",
       "      <td>0.0</td>\n",
       "      <td>0.561976</td>\n",
       "      <td>...</td>\n",
       "      <td>2.354296</td>\n",
       "      <td>0.876561</td>\n",
       "      <td>0.303138</td>\n",
       "      <td>0.0</td>\n",
       "      <td>6.779077e-13</td>\n",
       "      <td>0.042117</td>\n",
       "      <td>0.448476</td>\n",
       "      <td>0.915258</td>\n",
       "      <td>0.053455</td>\n",
       "      <td>3.882534</td>\n",
       "    </tr>\n",
       "    <tr>\n",
       "      <th>min</th>\n",
       "      <td>2016.0</td>\n",
       "      <td>2.002345e+06</td>\n",
       "      <td>0.015900</td>\n",
       "      <td>11500.000000</td>\n",
       "      <td>0.010000</td>\n",
       "      <td>2013.000000</td>\n",
       "      <td>1.000000</td>\n",
       "      <td>2.0</td>\n",
       "      <td>1.0</td>\n",
       "      <td>0.000000</td>\n",
       "      <td>...</td>\n",
       "      <td>1.000000</td>\n",
       "      <td>0.127000</td>\n",
       "      <td>1.000000</td>\n",
       "      <td>1.0</td>\n",
       "      <td>8.790000e-01</td>\n",
       "      <td>1.000000</td>\n",
       "      <td>1.000000</td>\n",
       "      <td>0.743000</td>\n",
       "      <td>1.000000</td>\n",
       "      <td>0.082943</td>\n",
       "    </tr>\n",
       "    <tr>\n",
       "      <th>25%</th>\n",
       "      <td>2016.0</td>\n",
       "      <td>2.017593e+06</td>\n",
       "      <td>0.938600</td>\n",
       "      <td>120914.000000</td>\n",
       "      <td>0.670000</td>\n",
       "      <td>2016.000000</td>\n",
       "      <td>1.000000</td>\n",
       "      <td>2.0</td>\n",
       "      <td>1.0</td>\n",
       "      <td>0.000000</td>\n",
       "      <td>...</td>\n",
       "      <td>1.000000</td>\n",
       "      <td>0.406000</td>\n",
       "      <td>1.000000</td>\n",
       "      <td>1.0</td>\n",
       "      <td>8.790000e-01</td>\n",
       "      <td>1.000000</td>\n",
       "      <td>1.000000</td>\n",
       "      <td>0.743000</td>\n",
       "      <td>1.000000</td>\n",
       "      <td>0.535353</td>\n",
       "    </tr>\n",
       "    <tr>\n",
       "      <th>50%</th>\n",
       "      <td>2016.0</td>\n",
       "      <td>2.032841e+06</td>\n",
       "      <td>1.380200</td>\n",
       "      <td>184000.000000</td>\n",
       "      <td>0.800000</td>\n",
       "      <td>2016.000000</td>\n",
       "      <td>2.000000</td>\n",
       "      <td>2.0</td>\n",
       "      <td>1.0</td>\n",
       "      <td>0.000000</td>\n",
       "      <td>...</td>\n",
       "      <td>1.000000</td>\n",
       "      <td>1.000000</td>\n",
       "      <td>1.610000</td>\n",
       "      <td>1.0</td>\n",
       "      <td>8.790000e-01</td>\n",
       "      <td>1.000000</td>\n",
       "      <td>1.000000</td>\n",
       "      <td>0.743000</td>\n",
       "      <td>1.000000</td>\n",
       "      <td>1.051486</td>\n",
       "    </tr>\n",
       "    <tr>\n",
       "      <th>75%</th>\n",
       "      <td>2016.0</td>\n",
       "      <td>2.048088e+06</td>\n",
       "      <td>1.965700</td>\n",
       "      <td>276000.000000</td>\n",
       "      <td>0.800000</td>\n",
       "      <td>2016.000000</td>\n",
       "      <td>2.000000</td>\n",
       "      <td>2.0</td>\n",
       "      <td>1.0</td>\n",
       "      <td>0.000000</td>\n",
       "      <td>...</td>\n",
       "      <td>1.000000</td>\n",
       "      <td>1.000000</td>\n",
       "      <td>1.610000</td>\n",
       "      <td>1.0</td>\n",
       "      <td>8.790000e-01</td>\n",
       "      <td>1.000000</td>\n",
       "      <td>2.019000</td>\n",
       "      <td>1.760000</td>\n",
       "      <td>1.000000</td>\n",
       "      <td>2.505150</td>\n",
       "    </tr>\n",
       "    <tr>\n",
       "      <th>max</th>\n",
       "      <td>2016.0</td>\n",
       "      <td>2.067614e+06</td>\n",
       "      <td>176.626300</td>\n",
       "      <td>787838.000000</td>\n",
       "      <td>1.390000</td>\n",
       "      <td>2016.000000</td>\n",
       "      <td>4.000000</td>\n",
       "      <td>2.0</td>\n",
       "      <td>1.0</td>\n",
       "      <td>3.000000</td>\n",
       "      <td>...</td>\n",
       "      <td>12.000000</td>\n",
       "      <td>2.846000</td>\n",
       "      <td>1.610000</td>\n",
       "      <td>1.0</td>\n",
       "      <td>8.790000e-01</td>\n",
       "      <td>1.304000</td>\n",
       "      <td>2.710000</td>\n",
       "      <td>7.426000</td>\n",
       "      <td>1.930000</td>\n",
       "      <td>70.137041</td>\n",
       "    </tr>\n",
       "  </tbody>\n",
       "</table>\n",
       "<p>8 rows × 24 columns</p>\n",
       "</div>"
      ],
      "text/plain": [
       "          Year   Assigned_ID        IncRat            UPB           LTV  \\\n",
       "count  60989.0  6.098900e+04  60989.000000   60989.000000  60989.000000   \n",
       "mean    2016.0  2.033385e+06      1.650246  211973.001886      0.746919   \n",
       "std        0.0  1.846637e+04      2.031755  120582.737916      0.156082   \n",
       "min     2016.0  2.002345e+06      0.015900   11500.000000      0.010000   \n",
       "25%     2016.0  2.017593e+06      0.938600  120914.000000      0.670000   \n",
       "50%     2016.0  2.032841e+06      1.380200  184000.000000      0.800000   \n",
       "75%     2016.0  2.048088e+06      1.965700  276000.000000      0.800000   \n",
       "max     2016.0  2.067614e+06    176.626300  787838.000000      1.390000   \n",
       "\n",
       "           MortDate       Purpose     Coop  Product       FedGuar  \\\n",
       "count  60989.000000  60989.000000  60989.0  60989.0  60989.000000   \n",
       "mean    2015.947023      1.559183      2.0      1.0      0.146666   \n",
       "std        0.233522      0.504450      0.0      0.0      0.561976   \n",
       "min     2013.000000      1.000000      2.0      1.0      0.000000   \n",
       "25%     2016.000000      1.000000      2.0      1.0      0.000000   \n",
       "50%     2016.000000      2.000000      2.0      1.0      0.000000   \n",
       "75%     2016.000000      2.000000      2.0      1.0      0.000000   \n",
       "max     2016.000000      4.000000      2.0      1.0      3.000000   \n",
       "\n",
       "            ...             PropType         LTV_M     Purpose_M   Coop_M  \\\n",
       "count       ...         60989.000000  60989.000000  60989.000000  60989.0   \n",
       "mean        ...             1.986489      1.057208      1.338671      1.0   \n",
       "std         ...             2.354296      0.876561      0.303138      0.0   \n",
       "min         ...             1.000000      0.127000      1.000000      1.0   \n",
       "25%         ...             1.000000      0.406000      1.000000      1.0   \n",
       "50%         ...             1.000000      1.000000      1.610000      1.0   \n",
       "75%         ...             1.000000      1.000000      1.610000      1.0   \n",
       "max         ...            12.000000      2.846000      1.610000      1.0   \n",
       "\n",
       "          Product_M       Occup_M        Back_M  BoCreditScor_M    PropType_M  \\\n",
       "count  6.098900e+04  60989.000000  60989.000000    60989.000000  60989.000000   \n",
       "mean   8.790000e-01      1.005951      1.362326        1.313974      1.009082   \n",
       "std    6.779077e-13      0.042117      0.448476        0.915258      0.053455   \n",
       "min    8.790000e-01      1.000000      1.000000        0.743000      1.000000   \n",
       "25%    8.790000e-01      1.000000      1.000000        0.743000      1.000000   \n",
       "50%    8.790000e-01      1.000000      1.000000        0.743000      1.000000   \n",
       "75%    8.790000e-01      1.000000      2.019000        1.760000      1.000000   \n",
       "max    8.790000e-01      1.304000      2.710000        7.426000      1.930000   \n",
       "\n",
       "       Loan_Multiplier  \n",
       "count     60989.000000  \n",
       "mean          2.479194  \n",
       "std           3.882534  \n",
       "min           0.082943  \n",
       "25%           0.535353  \n",
       "50%           1.051486  \n",
       "75%           2.505150  \n",
       "max          70.137041  \n",
       "\n",
       "[8 rows x 24 columns]"
      ]
     },
     "execution_count": 4,
     "metadata": {},
     "output_type": "execute_result"
    }
   ],
   "source": [
    "# Describing the data\n",
    "data.describe()"
   ]
  },
  {
   "cell_type": "markdown",
   "metadata": {},
   "source": [
    "##### Histograms #####"
   ]
  },
  {
   "cell_type": "code",
   "execution_count": 5,
   "metadata": {},
   "outputs": [
    {
     "name": "stdout",
     "output_type": "stream",
     "text": [
      "(array([6.0946e+04, 2.9000e+01, 3.0000e+00, 2.0000e+00, 2.0000e+00,\n",
      "       0.0000e+00, 3.0000e+00, 0.0000e+00, 2.0000e+00, 2.0000e+00]), array([1.5900000e-02, 1.7676940e+01, 3.5337980e+01, 5.2999020e+01,\n",
      "       7.0660060e+01, 8.8321100e+01, 1.0598214e+02, 1.2364318e+02,\n",
      "       1.4130422e+02, 1.5896526e+02, 1.7662630e+02]), <a list of 10 Patch objects>)\n"
     ]
    },
    {
     "data": {
      "image/png": "[encoded data removed]",
      "text/plain": [
       "<Figure size 432x288 with 1 Axes>"
      ]
     },
     "metadata": {
      "needs_background": "light"
     },
     "output_type": "display_data"
    }
   ],
   "source": [
    "print(plt.hist(data.IncRat))"
   ]
  },
  {
   "cell_type": "code",
   "execution_count": 6,
   "metadata": {},
   "outputs": [
    {
     "name": "stdout",
     "output_type": "stream",
     "text": [
      "(array([7.2890e+03, 1.9418e+04, 1.4669e+04, 8.9210e+03, 4.9280e+03,\n",
      "       3.5510e+03, 1.1560e+03, 1.0430e+03, 8.0000e+00, 6.0000e+00]), array([ 11500. ,  89133.8, 166767.6, 244401.4, 322035.2, 399669. ,\n",
      "       477302.8, 554936.6, 632570.4, 710204.2, 787838. ]), <a list of 10 Patch objects>)\n"
     ]
    },
    {
     "data": {
      "image/png": "[encoded data removed]",
      "text/plain": [
       "<Figure size 432x288 with 1 Axes>"
      ]
     },
     "metadata": {
      "needs_background": "light"
     },
     "output_type": "display_data"
    }
   ],
   "source": [
    "print(plt.hist(data.UPB))"
   ]
  },
  {
   "cell_type": "code",
   "execution_count": 7,
   "metadata": {},
   "outputs": [
    {
     "name": "stdout",
     "output_type": "stream",
     "text": [
      "(array([4.2000e+01, 6.2600e+02, 2.1100e+03, 4.9600e+03, 9.6650e+03,\n",
      "       3.0411e+04, 1.0286e+04, 2.8810e+03, 7.0000e+00, 1.0000e+00]), array([0.01 , 0.148, 0.286, 0.424, 0.562, 0.7  , 0.838, 0.976, 1.114,\n",
      "       1.252, 1.39 ]), <a list of 10 Patch objects>)\n"
     ]
    },
    {
     "data": {
      "image/png": "[encoded data removed]",
      "text/plain": [
       "<Figure size 432x288 with 1 Axes>"
      ]
     },
     "metadata": {
      "needs_background": "light"
     },
     "output_type": "display_data"
    }
   ],
   "source": [
    "print(plt.hist(data.LTV))"
   ]
  },
  {
   "cell_type": "code",
   "execution_count": 8,
   "metadata": {},
   "outputs": [
    {
     "name": "stdout",
     "output_type": "stream",
     "text": [
      "(array([27047.,     0.,     0., 33861.,     0.,     0.,     0.,     0.,\n",
      "           0.,    81.]), array([1. , 1.3, 1.6, 1.9, 2.2, 2.5, 2.8, 3.1, 3.4, 3.7, 4. ]), <a list of 10 Patch objects>)\n"
     ]
    },
    {
     "data": {
      "image/png": "[encoded data removed]",
      "text/plain": [
       "<Figure size 432x288 with 1 Axes>"
      ]
     },
     "metadata": {
      "needs_background": "light"
     },
     "output_type": "display_data"
    }
   ],
   "source": [
    "print(plt.hist(data.Purpose))"
   ]
  },
  {
   "cell_type": "code",
   "execution_count": 9,
   "metadata": {},
   "outputs": [
    {
     "name": "stdout",
     "output_type": "stream",
     "text": [
      "(array([    0.,     0.,     0.,     0.,     0., 60989.,     0.,     0.,\n",
      "           0.,     0.]), array([1.5, 1.6, 1.7, 1.8, 1.9, 2. , 2.1, 2.2, 2.3, 2.4, 2.5]), <a list of 10 Patch objects>)\n"
     ]
    },
    {
     "data": {
      "image/png": "[encoded data removed]",
      "text/plain": [
       "<Figure size 432x288 with 1 Axes>"
      ]
     },
     "metadata": {
      "needs_background": "light"
     },
     "output_type": "display_data"
    }
   ],
   "source": [
    "print(plt.hist(data.Coop))"
   ]
  },
  {
   "cell_type": "code",
   "execution_count": 10,
   "metadata": {},
   "outputs": [
    {
     "name": "stdout",
     "output_type": "stream",
     "text": [
      "(array([56512.,     0.,     0.,  1355.,     0.,     0.,  1776.,     0.,\n",
      "           0.,  1346.]), array([0. , 0.3, 0.6, 0.9, 1.2, 1.5, 1.8, 2.1, 2.4, 2.7, 3. ]), <a list of 10 Patch objects>)\n"
     ]
    },
    {
     "data": {
      "image/png": "[encoded data removed]",
      "text/plain": [
       "<Figure size 432x288 with 1 Axes>"
      ]
     },
     "metadata": {
      "needs_background": "light"
     },
     "output_type": "display_data"
    }
   ],
   "source": [
    "print(plt.hist(data.FedGuar))"
   ]
  },
  {
   "cell_type": "code",
   "execution_count": 11,
   "metadata": {},
   "outputs": [
    {
     "name": "stdout",
     "output_type": "stream",
     "text": [
      "(array([   85.,  1452.,  5002., 17020.,     0., 37355.,     0.,     0.,\n",
      "           0.,    75.]), array([1. , 1.8, 2.6, 3.4, 4.2, 5. , 5.8, 6.6, 7.4, 8.2, 9. ]), <a list of 10 Patch objects>)\n"
     ]
    },
    {
     "data": {
      "image/png": "[encoded data removed]",
      "text/plain": [
       "<Figure size 432x288 with 1 Axes>"
      ]
     },
     "metadata": {
      "needs_background": "light"
     },
     "output_type": "display_data"
    }
   ],
   "source": [
    "print(plt.hist(data.BoCreditScor))"
   ]
  },
  {
   "cell_type": "code",
   "execution_count": 12,
   "metadata": {},
   "outputs": [
    {
     "name": "stdout",
     "output_type": "stream",
     "text": [
      "(array([4.6750e+03, 3.1208e+04, 1.9445e+04, 4.9390e+03, 7.0700e+02,\n",
      "       8.0000e+00, 1.0000e+00, 0.0000e+00, 3.0000e+00, 3.0000e+00]), array([1.0000e-04, 9.7290e-02, 1.9448e-01, 2.9167e-01, 3.8886e-01,\n",
      "       4.8605e-01, 5.8324e-01, 6.8043e-01, 7.7762e-01, 8.7481e-01,\n",
      "       9.7200e-01]), <a list of 10 Patch objects>)\n"
     ]
    },
    {
     "data": {
      "image/png": "[encoded data removed]",
      "text/plain": [
       "<Figure size 432x288 with 1 Axes>"
      ]
     },
     "metadata": {
      "needs_background": "light"
     },
     "output_type": "display_data"
    }
   ],
   "source": [
    "print(plt.hist(data.Front))"
   ]
  },
  {
   "cell_type": "code",
   "execution_count": 13,
   "metadata": {},
   "outputs": [
    {
     "name": "stdout",
     "output_type": "stream",
     "text": [
      "(array([6.8600e+02, 1.0355e+04, 2.0893e+04, 2.1533e+04, 7.2080e+03,\n",
      "       2.8000e+02, 1.7000e+01, 8.0000e+00, 5.0000e+00, 4.0000e+00]), array([0.0042 , 0.10266, 0.20112, 0.29958, 0.39804, 0.4965 , 0.59496,\n",
      "       0.69342, 0.79188, 0.89034, 0.9888 ]), <a list of 10 Patch objects>)\n"
     ]
    },
    {
     "data": {
      "image/png": "[encoded data removed]",
      "text/plain": [
       "<Figure size 432x288 with 1 Axes>"
      ]
     },
     "metadata": {
      "needs_background": "light"
     },
     "output_type": "display_data"
    }
   ],
   "source": [
    "print(plt.hist(data.Back))"
   ]
  },
  {
   "cell_type": "code",
   "execution_count": 14,
   "metadata": {},
   "outputs": [
    {
     "name": "stdout",
     "output_type": "stream",
     "text": [
      "True     41038\n",
      "False    19951\n",
      "Name: Portfolio_Worthy, dtype: int64\n"
     ]
    }
   ],
   "source": [
    "# Showing value counts for target feature\n",
    "print(data.Portfolio_Worthy.value_counts())"
   ]
  },
  {
   "cell_type": "markdown",
   "metadata": {},
   "source": [
    "##### Boxplots #####"
   ]
  },
  {
   "cell_type": "code",
   "execution_count": 15,
   "metadata": {},
   "outputs": [
    {
     "name": "stdout",
     "output_type": "stream",
     "text": [
      "{'whiskers': [<matplotlib.lines.Line2D object at 0x00000162F4B11828>, <matplotlib.lines.Line2D object at 0x00000162F4B11C50>], 'caps': [<matplotlib.lines.Line2D object at 0x00000162F4B11D30>, <matplotlib.lines.Line2D object at 0x00000162F4B1C4E0>], 'boxes': [<matplotlib.lines.Line2D object at 0x00000162F4B11320>], 'medians': [<matplotlib.lines.Line2D object at 0x00000162F4B1C908>], 'fliers': [<matplotlib.lines.Line2D object at 0x00000162F4B1CD30>], 'means': []}\n"
     ]
    },
    {
     "data": {
      "image/png": "[encoded data removed]",
      "text/plain": [
       "<Figure size 432x288 with 1 Axes>"
      ]
     },
     "metadata": {
      "needs_background": "light"
     },
     "output_type": "display_data"
    }
   ],
   "source": [
    "print(plt.boxplot(data.LTV))"
   ]
  },
  {
   "cell_type": "code",
   "execution_count": 16,
   "metadata": {},
   "outputs": [
    {
     "name": "stdout",
     "output_type": "stream",
     "text": [
      "{'whiskers': [<matplotlib.lines.Line2D object at 0x00000162F4B73588>, <matplotlib.lines.Line2D object at 0x00000162F4B739B0>], 'caps': [<matplotlib.lines.Line2D object at 0x00000162F4B73DD8>, <matplotlib.lines.Line2D object at 0x00000162F4B73EB8>], 'boxes': [<matplotlib.lines.Line2D object at 0x00000162F4B73080>], 'medians': [<matplotlib.lines.Line2D object at 0x00000162F4B7C668>], 'fliers': [<matplotlib.lines.Line2D object at 0x00000162F4B7CA90>], 'means': []}\n"
     ]
    },
    {
     "data": {
      "image/png": "[encoded data removed]",
      "text/plain": [
       "<Figure size 432x288 with 1 Axes>"
      ]
     },
     "metadata": {
      "needs_background": "light"
     },
     "output_type": "display_data"
    }
   ],
   "source": [
    "print(plt.boxplot(data.UPB))"
   ]
  },
  {
   "cell_type": "code",
   "execution_count": 17,
   "metadata": {},
   "outputs": [
    {
     "name": "stdout",
     "output_type": "stream",
     "text": [
      "{'whiskers': [<matplotlib.lines.Line2D object at 0x00000162F4BD5780>, <matplotlib.lines.Line2D object at 0x00000162F4BD5BA8>], 'caps': [<matplotlib.lines.Line2D object at 0x00000162F4BD5FD0>, <matplotlib.lines.Line2D object at 0x00000162F4BDE438>], 'boxes': [<matplotlib.lines.Line2D object at 0x00000162F4BD5240>], 'medians': [<matplotlib.lines.Line2D object at 0x00000162F4BDE860>], 'fliers': [<matplotlib.lines.Line2D object at 0x00000162F4BA09E8>], 'means': []}\n"
     ]
    },
    {
     "data": {
      "image/png": "[encoded data removed]",
      "text/plain": [
       "<Figure size 432x288 with 1 Axes>"
      ]
     },
     "metadata": {
      "needs_background": "light"
     },
     "output_type": "display_data"
    }
   ],
   "source": [
    "print(plt.boxplot(data.IncRat))"
   ]
  },
  {
   "cell_type": "code",
   "execution_count": 18,
   "metadata": {},
   "outputs": [
    {
     "name": "stdout",
     "output_type": "stream",
     "text": [
      "{'whiskers': [<matplotlib.lines.Line2D object at 0x00000162F4BDE780>, <matplotlib.lines.Line2D object at 0x00000162F4BDEA58>], 'caps': [<matplotlib.lines.Line2D object at 0x00000162F4BDEC18>, <matplotlib.lines.Line2D object at 0x00000162F4C026D8>], 'boxes': [<matplotlib.lines.Line2D object at 0x00000162F4BDE550>], 'medians': [<matplotlib.lines.Line2D object at 0x00000162F4BEFE80>], 'fliers': [<matplotlib.lines.Line2D object at 0x00000162F4BEF550>], 'means': []}\n"
     ]
    },
    {
     "data": {
      "image/png": "[encoded data removed]",
      "text/plain": [
       "<Figure size 432x288 with 1 Axes>"
      ]
     },
     "metadata": {
      "needs_background": "light"
     },
     "output_type": "display_data"
    }
   ],
   "source": [
    "print(plt.boxplot(data.Front))"
   ]
  },
  {
   "cell_type": "code",
   "execution_count": 19,
   "metadata": {},
   "outputs": [
    {
     "name": "stdout",
     "output_type": "stream",
     "text": [
      "{'whiskers': [<matplotlib.lines.Line2D object at 0x00000162F4B2F898>, <matplotlib.lines.Line2D object at 0x00000162F4B2FB38>], 'caps': [<matplotlib.lines.Line2D object at 0x00000162F4ACAF60>, <matplotlib.lines.Line2D object at 0x00000162F4ACAE48>], 'boxes': [<matplotlib.lines.Line2D object at 0x00000162F4B2FE10>], 'medians': [<matplotlib.lines.Line2D object at 0x00000162F4ACABE0>], 'fliers': [<matplotlib.lines.Line2D object at 0x00000162F4ACA0B8>], 'means': []}\n"
     ]
    },
    {
     "data": {
      "image/png": "[encoded data removed]",
      "text/plain": [
       "<Figure size 432x288 with 1 Axes>"
      ]
     },
     "metadata": {
      "needs_background": "light"
     },
     "output_type": "display_data"
    }
   ],
   "source": [
    "print(plt.boxplot(data.Back))"
   ]
  },
  {
   "cell_type": "code",
   "execution_count": 20,
   "metadata": {},
   "outputs": [
    {
     "name": "stdout",
     "output_type": "stream",
     "text": [
      "{'whiskers': [<matplotlib.lines.Line2D object at 0x00000162F487EE80>, <matplotlib.lines.Line2D object at 0x00000162F487E2B0>], 'caps': [<matplotlib.lines.Line2D object at 0x00000162F487E6D8>, <matplotlib.lines.Line2D object at 0x00000162F487E9B0>], 'boxes': [<matplotlib.lines.Line2D object at 0x00000162F4876C18>], 'medians': [<matplotlib.lines.Line2D object at 0x00000162F3FA82B0>], 'fliers': [<matplotlib.lines.Line2D object at 0x00000162F3FA8BE0>], 'means': []}\n"
     ]
    },
    {
     "data": {
      "image/png": "[encoded data removed]",
      "text/plain": [
       "<Figure size 432x288 with 1 Axes>"
      ]
     },
     "metadata": {
      "needs_background": "light"
     },
     "output_type": "display_data"
    }
   ],
   "source": [
    "print(plt.boxplot(data.BoCreditScor))"
   ]
  },
  {
   "cell_type": "markdown",
   "metadata": {},
   "source": [
    "##### Correlation #####"
   ]
  },
  {
   "cell_type": "code",
   "execution_count": 21,
   "metadata": {},
   "outputs": [
    {
     "data": {
      "text/plain": [
       "<matplotlib.axes._subplots.AxesSubplot at 0x162f3f996a0>"
      ]
     },
     "execution_count": 21,
     "metadata": {},
     "output_type": "execute_result"
    },
    {
     "data": {
      "image/png": "[encoded data removed]",
      "text/plain": [
       "<Figure size 792x648 with 2 Axes>"
      ]
     },
     "metadata": {
      "needs_background": "light"
     },
     "output_type": "display_data"
    }
   ],
   "source": [
    "### WE ARE USING THIS CODE FROM COMPETITION 1\n",
    "\n",
    "## We will make it look nicer to the eye\n",
    "# Visualizing a Correlation Matrix\n",
    "correlation_visual = data.corr(method='spearman')\n",
    "\n",
    "# Have to generate a mask(hide) for the upper triangle\n",
    "hide = np.zeros_like(correlation_visual, dtype=np.bool)\n",
    "hide[np.triu_indices_from(hide)] = True\n",
    "\n",
    "# Setting the subplot for the correlation matrix\n",
    "f , ax = plt.subplots(figsize=(11,9))\n",
    "\n",
    "# Generating a diverging colormap\n",
    "cmap = sns.diverging_palette(100, 200, as_cmap=True)\n",
    "\n",
    "# Adding the heatmap\n",
    "sns.heatmap(correlation_visual, mask=hide, cmap=cmap, vmin=-1,vmax=1, center=0, square=True, linewidths=.6, cbar_kws={\"shrink\": .5})"
   ]
  },
  {
   "cell_type": "code",
   "execution_count": 22,
   "metadata": {},
   "outputs": [
    {
     "name": "stdout",
     "output_type": "stream",
     "text": [
      "                  Year  Assigned_ID    IncRat       UPB       LTV  MortDate  \\\n",
      "Year               NaN          NaN       NaN       NaN       NaN       NaN   \n",
      "Assigned_ID        NaN     1.000000  0.044403  0.000520 -0.053542  0.301043   \n",
      "IncRat             NaN     0.044403  1.000000  0.570201 -0.115950  0.019856   \n",
      "UPB                NaN     0.000520  0.570201  1.000000 -0.049032  0.016388   \n",
      "LTV                NaN    -0.053542 -0.115950 -0.049032  1.000000 -0.003637   \n",
      "MortDate           NaN     0.301043  0.019856  0.016388 -0.003637  1.000000   \n",
      "Purpose            NaN     0.091563  0.133106  0.107097 -0.510549  0.019732   \n",
      "Coop               NaN          NaN       NaN       NaN       NaN       NaN   \n",
      "Product            NaN          NaN       NaN       NaN       NaN       NaN   \n",
      "FedGuar            NaN    -0.062828 -0.172637 -0.114016  0.384316 -0.049808   \n",
      "Occup              NaN     0.008516  0.141410  0.006224 -0.020830  0.011988   \n",
      "Front              NaN    -0.043711 -0.511243  0.237283  0.020872 -0.000565   \n",
      "Back               NaN    -0.030468 -0.321807  0.112727  0.156575  0.007592   \n",
      "BoCreditScor       NaN     0.016330  0.135895  0.117256 -0.205161 -0.012511   \n",
      "PropType           NaN    -0.040924  0.075359  0.195898 -0.031269 -0.030269   \n",
      "LTV_M              NaN    -0.049380 -0.110371 -0.040574  0.984904 -0.002570   \n",
      "Purpose_M          NaN     0.093077  0.130319  0.104850 -0.512109  0.019498   \n",
      "Coop_M             NaN          NaN       NaN       NaN       NaN       NaN   \n",
      "Product_M          NaN          NaN       NaN       NaN       NaN       NaN   \n",
      "Occup_M            NaN     0.008516  0.141410  0.006224 -0.020830  0.011988   \n",
      "Back_M             NaN    -0.023551 -0.272464  0.094030  0.122210  0.008872   \n",
      "BoCreditScor_M     NaN    -0.014568 -0.139439 -0.121002  0.208685  0.013360   \n",
      "PropType_M         NaN    -0.043323 -0.062110 -0.022948 -0.014154 -0.009459   \n",
      "Loan_Multiplier    NaN    -0.030287 -0.181280 -0.039172  0.789298  0.009431   \n",
      "Portfolio_Worthy   NaN     0.019853  0.171774  0.060769 -0.580096 -0.005042   \n",
      "\n",
      "                   Purpose  Coop  Product   FedGuar        ...         \\\n",
      "Year                   NaN   NaN      NaN       NaN        ...          \n",
      "Assigned_ID       0.091563   NaN      NaN -0.062828        ...          \n",
      "IncRat            0.133106   NaN      NaN -0.172637        ...          \n",
      "UPB               0.107097   NaN      NaN -0.114016        ...          \n",
      "LTV              -0.510549   NaN      NaN  0.384316        ...          \n",
      "MortDate          0.019732   NaN      NaN -0.049808        ...          \n",
      "Purpose           1.000000   NaN      NaN -0.214228        ...          \n",
      "Coop                   NaN   NaN      NaN       NaN        ...          \n",
      "Product                NaN   NaN      NaN       NaN        ...          \n",
      "FedGuar          -0.214228   NaN      NaN  1.000000        ...          \n",
      "Occup            -0.054471   NaN      NaN -0.039286        ...          \n",
      "Front            -0.007434   NaN      NaN  0.062700        ...          \n",
      "Back             -0.078736   NaN      NaN  0.152191        ...          \n",
      "BoCreditScor      0.065937   NaN      NaN -0.240443        ...          \n",
      "PropType         -0.044382   NaN      NaN -0.014214        ...          \n",
      "LTV_M            -0.476948   NaN      NaN  0.367959        ...          \n",
      "Purpose_M         0.993501   NaN      NaN -0.213456        ...          \n",
      "Coop_M                 NaN   NaN      NaN       NaN        ...          \n",
      "Product_M              NaN   NaN      NaN       NaN        ...          \n",
      "Occup_M          -0.054471   NaN      NaN -0.039286        ...          \n",
      "Back_M           -0.071946   NaN      NaN  0.151171        ...          \n",
      "BoCreditScor_M   -0.069208   NaN      NaN  0.250038        ...          \n",
      "PropType_M       -0.077414   NaN      NaN -0.023810        ...          \n",
      "Loan_Multiplier  -0.223336   NaN      NaN  0.350872        ...          \n",
      "Portfolio_Worthy  0.136850   NaN      NaN -0.322907        ...          \n",
      "\n",
      "                     LTV_M  Purpose_M  Coop_M  Product_M   Occup_M    Back_M  \\\n",
      "Year                   NaN        NaN     NaN        NaN       NaN       NaN   \n",
      "Assigned_ID      -0.049380   0.093077     NaN        NaN  0.008516 -0.023551   \n",
      "IncRat           -0.110371   0.130319     NaN        NaN  0.141410 -0.272464   \n",
      "UPB              -0.040574   0.104850     NaN        NaN  0.006224  0.094030   \n",
      "LTV               0.984904  -0.512109     NaN        NaN -0.020830  0.122210   \n",
      "MortDate         -0.002570   0.019498     NaN        NaN  0.011988  0.008872   \n",
      "Purpose          -0.476948   0.993501     NaN        NaN -0.054471 -0.071946   \n",
      "Coop                   NaN        NaN     NaN        NaN       NaN       NaN   \n",
      "Product                NaN        NaN     NaN        NaN       NaN       NaN   \n",
      "FedGuar           0.367959  -0.213456     NaN        NaN -0.039286  0.151171   \n",
      "Occup            -0.026822  -0.055468     NaN        NaN  1.000000 -0.002339   \n",
      "Front             0.023923  -0.007458     NaN        NaN -0.125909  0.483744   \n",
      "Back              0.155454  -0.078699     NaN        NaN -0.005896  0.909820   \n",
      "BoCreditScor     -0.200754   0.065177     NaN        NaN  0.041626 -0.209038   \n",
      "PropType         -0.032119  -0.042737     NaN        NaN  0.033230  0.030103   \n",
      "LTV_M             1.000000  -0.478570     NaN        NaN -0.026822  0.120138   \n",
      "Purpose_M        -0.478570   1.000000     NaN        NaN -0.055468 -0.071743   \n",
      "Coop_M                 NaN        NaN     NaN        NaN       NaN       NaN   \n",
      "Product_M              NaN        NaN     NaN        NaN       NaN       NaN   \n",
      "Occup_M          -0.026822  -0.055468     NaN        NaN  1.000000 -0.002339   \n",
      "Back_M            0.120138  -0.071743     NaN        NaN -0.002339  1.000000   \n",
      "BoCreditScor_M    0.204184  -0.068434     NaN        NaN -0.042322  0.207451   \n",
      "PropType_M       -0.020178  -0.076600     NaN        NaN  0.064162  0.038781   \n",
      "Loan_Multiplier   0.806853  -0.222922     NaN        NaN -0.018882  0.410346   \n",
      "Portfolio_Worthy -0.596335   0.136065     NaN        NaN  0.044293 -0.389334   \n",
      "\n",
      "                  BoCreditScor_M  PropType_M  Loan_Multiplier  \\\n",
      "Year                         NaN         NaN              NaN   \n",
      "Assigned_ID            -0.014568   -0.043323        -0.030287   \n",
      "IncRat                 -0.139439   -0.062110        -0.181280   \n",
      "UPB                    -0.121002   -0.022948        -0.039172   \n",
      "LTV                     0.208685   -0.014154         0.789298   \n",
      "MortDate                0.013360   -0.009459         0.009431   \n",
      "Purpose                -0.069208   -0.077414        -0.223336   \n",
      "Coop                         NaN         NaN              NaN   \n",
      "Product                      NaN         NaN              NaN   \n",
      "FedGuar                 0.250038   -0.023810         0.350872   \n",
      "Occup                  -0.042322    0.064162        -0.018882   \n",
      "Front                   0.041087    0.077426         0.146912   \n",
      "Back                    0.225551    0.042077         0.424596   \n",
      "BoCreditScor           -0.990161    0.022302        -0.625612   \n",
      "PropType               -0.073076    0.488322        -0.041661   \n",
      "LTV_M                   0.204184   -0.020178         0.806853   \n",
      "Purpose_M              -0.068434   -0.076600        -0.222922   \n",
      "Coop_M                       NaN         NaN              NaN   \n",
      "Product_M                    NaN         NaN              NaN   \n",
      "Occup_M                -0.042322    0.064162        -0.018882   \n",
      "Back_M                  0.207451    0.038781         0.410346   \n",
      "BoCreditScor_M          1.000000   -0.023136         0.632825   \n",
      "PropType_M             -0.023136    1.000000         0.002000   \n",
      "Loan_Multiplier         0.632825    0.002000         1.000000   \n",
      "Portfolio_Worthy       -0.572672    0.004024        -0.812901   \n",
      "\n",
      "                  Portfolio_Worthy  \n",
      "Year                           NaN  \n",
      "Assigned_ID               0.019853  \n",
      "IncRat                    0.171774  \n",
      "UPB                       0.060769  \n",
      "LTV                      -0.580096  \n",
      "MortDate                 -0.005042  \n",
      "Purpose                   0.136850  \n",
      "Coop                           NaN  \n",
      "Product                        NaN  \n",
      "FedGuar                  -0.322907  \n",
      "Occup                     0.044293  \n",
      "Front                    -0.137892  \n",
      "Back                     -0.386705  \n",
      "BoCreditScor              0.566307  \n",
      "PropType                  0.036277  \n",
      "LTV_M                    -0.596335  \n",
      "Purpose_M                 0.136065  \n",
      "Coop_M                         NaN  \n",
      "Product_M                      NaN  \n",
      "Occup_M                   0.044293  \n",
      "Back_M                   -0.389334  \n",
      "BoCreditScor_M           -0.572672  \n",
      "PropType_M                0.004024  \n",
      "Loan_Multiplier          -0.812901  \n",
      "Portfolio_Worthy          1.000000  \n",
      "\n",
      "[25 rows x 25 columns]\n"
     ]
    }
   ],
   "source": [
    "print(data.corr(method='spearman'))"
   ]
  }
 ],
 "metadata": {
  "kernelspec": {
   "display_name": "Python 3",
   "language": "python",
   "name": "python3"
  },
  "language_info": {
   "codemirror_mode": {
    "name": "ipython",
    "version": 3
   },
   "file_extension": ".py",
   "mimetype": "text/x-python",
   "name": "python",
   "nbconvert_exporter": "python",
   "pygments_lexer": "ipython3",
   "version": "3.7.0"
  }
 },
 "nbformat": 4,
 "nbformat_minor": 2
}
