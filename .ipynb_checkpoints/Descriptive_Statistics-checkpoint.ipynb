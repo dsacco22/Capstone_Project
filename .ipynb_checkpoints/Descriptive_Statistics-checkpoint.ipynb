{
 "cells": [
  {
   "cell_type": "markdown",
   "metadata": {},
   "source": [
    "### Descriptive Statistics ###"
   ]
  },
  {
   "cell_type": "code",
   "execution_count": 1,
   "metadata": {},
   "outputs": [],
   "source": [
    "## Importing packages\n",
    "import numpy as np\n",
    "import pandas as pd\n",
    "import matplotlib.pyplot as plt\n",
    "import seaborn as sns\n",
    "import psycopg2  ## PostgreSQL Connection Package"
   ]
  },
  {
   "cell_type": "markdown",
   "metadata": {},
   "source": [
    "#### PostgreSQL Connection Details ####"
   ]
  },
  {
   "cell_type": "code",
   "execution_count": 2,
   "metadata": {},
   "outputs": [
    {
     "name": "stdout",
     "output_type": "stream",
     "text": [
      "{'user': 'capstonedba', 'dbname': 'capstonedba', 'host': 'capstone-db.c9mqkx12zppw.us-east-1.rds.amazonaws.com', 'port': '5432', 'tty': '', 'options': '', 'sslmode': 'prefer', 'sslcompression': '0', 'krbsrvname': 'postgres', 'target_session_attrs': 'any'} \n",
      "\n",
      "You are connected to -  ('PostgreSQL 10.6 on x86_64-pc-linux-gnu, compiled by gcc (GCC) 4.8.3 20140911 (Red Hat 4.8.3-9), 64-bit',) \n",
      "\n"
     ]
    }
   ],
   "source": [
    "# Connection to PostgreSQL Database\n",
    "connection = psycopg2.connect(user='capstonedba', password='ubaEYyxl3UimQCGa4S1e8yvlZmkGRK', host='capstone-db.c9mqkx12zppw.us-east-1.rds.amazonaws.com', port='5432', database='capstonedba')\n",
    "\n",
    "cursor = connection.cursor()\n",
    "\n",
    "## Printing database connection properties\n",
    "print(connection.get_dsn_parameters(),'\\n')\n",
    "\n",
    "## Printing PostgreSQL Database version\n",
    "cursor.execute(\"SELECT version();\")\n",
    "record = cursor.fetchone()\n",
    "print(\"You are connected to - \", record, '\\n')"
   ]
  },
  {
   "cell_type": "code",
   "execution_count": 3,
   "metadata": {},
   "outputs": [
    {
     "name": "stdout",
     "output_type": "stream",
     "text": [
      "        0     1        2       3       4     5     6   7   8   9       10  \\\n",
      "0  2004452  2016  Atlanta  1.5112  383368  0.84  2015   2   1   2  0.2174   \n",
      "1  2004453  2016  Atlanta  0.7347  112822  0.76  2015   2   1   2   0.185   \n",
      "2  2004454  2016  Atlanta  0.8536  125345     1  2015   1   1   2  0.2084   \n",
      "3  2004455  2016  Atlanta  1.4262  162084  1.03  2015   1   1   2  0.1481   \n",
      "4  2004456  2016  Atlanta  2.0272  396490  0.89  2015   1   1   2  0.2072   \n",
      "\n",
      "       11 12 13  \n",
      "0  0.3683  4  9  \n",
      "1  0.2385  4  9  \n",
      "2  0.3817  4  9  \n",
      "3   0.317  4  3  \n",
      "4  0.3184  4  5  \n"
     ]
    }
   ],
   "source": [
    "# Pulling data from database for dataframe\n",
    "## Creating variable for SQL query\n",
    "sql = \"SELECT * FROM loans WHERE year='2016';\"\n",
    "\n",
    "### Executing sql query on database\n",
    "cursor.execute(sql)\n",
    "\n",
    "#### Fetching the results from query\n",
    "data = cursor.fetchall()\n",
    "\n",
    "##### Storing them in a variable and then making that variable a DataFrame\n",
    "data = pd.DataFrame(data)\n",
    "print(data.head())"
   ]
  },
  {
   "cell_type": "code",
   "execution_count": 4,
   "metadata": {},
   "outputs": [
    {
     "name": "stdout",
     "output_type": "stream",
     "text": [
      "   Assigned_ID  Year     Bank  IncRat     UPB   LTV  MortDate  Purpose  \\\n",
      "0      2004452  2016  Atlanta  1.5112  383368  0.84      2015        2   \n",
      "1      2004453  2016  Atlanta  0.7347  112822  0.76      2015        2   \n",
      "2      2004454  2016  Atlanta  0.8536  125345     1      2015        1   \n",
      "3      2004455  2016  Atlanta  1.4262  162084  1.03      2015        1   \n",
      "4      2004456  2016  Atlanta  2.0272  396490  0.89      2015        1   \n",
      "\n",
      "   Product  FedGar   Front    Back BoCreditScor CoBoCreditScor  \n",
      "0        1       2  0.2174  0.3683            4              9  \n",
      "1        1       2   0.185  0.2385            4              9  \n",
      "2        1       2  0.2084  0.3817            4              9  \n",
      "3        1       2  0.1481   0.317            4              3  \n",
      "4        1       2  0.2072  0.3184            4              5  \n"
     ]
    }
   ],
   "source": [
    "# Manually Coding Columns for DataFrame\n",
    "data.columns = ['Assigned_ID', 'Year', 'Bank', 'IncRat', 'UPB', 'LTV', 'MortDate','Purpose','Product','FedGar','Front','Back','BoCreditScor','CoBoCreditScor']\n",
    "print(data.head())"
   ]
  },
  {
   "cell_type": "code",
   "execution_count": 5,
   "metadata": {},
   "outputs": [
    {
     "name": "stdout",
     "output_type": "stream",
     "text": [
      "<class 'pandas.core.frame.DataFrame'>\n",
      "RangeIndex: 60989 entries, 0 to 60988\n",
      "Data columns (total 14 columns):\n",
      "Assigned_ID       60989 non-null int64\n",
      "Year              60989 non-null int64\n",
      "Bank              60989 non-null object\n",
      "IncRat            60989 non-null object\n",
      "UPB               60989 non-null object\n",
      "LTV               60989 non-null object\n",
      "MortDate          60989 non-null int64\n",
      "Purpose           60989 non-null int64\n",
      "Product           60989 non-null int64\n",
      "FedGar            60989 non-null int64\n",
      "Front             60989 non-null object\n",
      "Back              60989 non-null object\n",
      "BoCreditScor      60989 non-null object\n",
      "CoBoCreditScor    60989 non-null object\n",
      "dtypes: int64(6), object(8)\n",
      "memory usage: 6.5+ MB\n"
     ]
    }
   ],
   "source": [
    "# Checking data types of columns\n",
    "data.info()"
   ]
  },
  {
   "cell_type": "code",
   "execution_count": 6,
   "metadata": {},
   "outputs": [],
   "source": [
    "# Recoding variables to the right data type\n",
    "data.IncRat = data.IncRat.astype(float)\n",
    "data.UPB = data.UPB.astype(int)\n",
    "data.LTV = data.LTV.astype(float)\n",
    "data.Front = data.Front.astype(float)\n",
    "data.Back = data.Back.astype(float)"
   ]
  },
  {
   "cell_type": "code",
   "execution_count": 7,
   "metadata": {},
   "outputs": [
    {
     "name": "stdout",
     "output_type": "stream",
     "text": [
      "<class 'pandas.core.frame.DataFrame'>\n",
      "RangeIndex: 60989 entries, 0 to 60988\n",
      "Data columns (total 14 columns):\n",
      "Assigned_ID       60989 non-null int64\n",
      "Year              60989 non-null int64\n",
      "Bank              60989 non-null object\n",
      "IncRat            60989 non-null float64\n",
      "UPB               60989 non-null int32\n",
      "LTV               60989 non-null float64\n",
      "MortDate          60989 non-null int64\n",
      "Purpose           60989 non-null int64\n",
      "Product           60989 non-null int64\n",
      "FedGar            60989 non-null int64\n",
      "Front             60989 non-null float64\n",
      "Back              60989 non-null float64\n",
      "BoCreditScor      60989 non-null object\n",
      "CoBoCreditScor    60989 non-null object\n",
      "dtypes: float64(4), int32(1), int64(6), object(3)\n",
      "memory usage: 6.3+ MB\n"
     ]
    }
   ],
   "source": [
    "# Checking data types of columns\n",
    "data.info()"
   ]
  },
  {
   "cell_type": "code",
   "execution_count": 8,
   "metadata": {},
   "outputs": [
    {
     "data": {
      "text/html": [
       "<div>\n",
       "<style scoped>\n",
       "    .dataframe tbody tr th:only-of-type {\n",
       "        vertical-align: middle;\n",
       "    }\n",
       "\n",
       "    .dataframe tbody tr th {\n",
       "        vertical-align: top;\n",
       "    }\n",
       "\n",
       "    .dataframe thead th {\n",
       "        text-align: right;\n",
       "    }\n",
       "</style>\n",
       "<table border=\"1\" class=\"dataframe\">\n",
       "  <thead>\n",
       "    <tr style=\"text-align: right;\">\n",
       "      <th></th>\n",
       "      <th>Assigned_ID</th>\n",
       "      <th>Year</th>\n",
       "      <th>IncRat</th>\n",
       "      <th>UPB</th>\n",
       "      <th>LTV</th>\n",
       "      <th>MortDate</th>\n",
       "      <th>Purpose</th>\n",
       "      <th>Product</th>\n",
       "      <th>FedGar</th>\n",
       "      <th>Front</th>\n",
       "      <th>Back</th>\n",
       "    </tr>\n",
       "  </thead>\n",
       "  <tbody>\n",
       "    <tr>\n",
       "      <th>count</th>\n",
       "      <td>6.098900e+04</td>\n",
       "      <td>60989.0</td>\n",
       "      <td>60989.000000</td>\n",
       "      <td>60989.000000</td>\n",
       "      <td>60989.000000</td>\n",
       "      <td>60989.000000</td>\n",
       "      <td>60989.000000</td>\n",
       "      <td>60989.0</td>\n",
       "      <td>60989.000000</td>\n",
       "      <td>60989.000000</td>\n",
       "      <td>60989.000000</td>\n",
       "    </tr>\n",
       "    <tr>\n",
       "      <th>mean</th>\n",
       "      <td>2.033385e+06</td>\n",
       "      <td>2016.0</td>\n",
       "      <td>1.650246</td>\n",
       "      <td>211973.001886</td>\n",
       "      <td>0.746919</td>\n",
       "      <td>2015.947023</td>\n",
       "      <td>1.559183</td>\n",
       "      <td>1.0</td>\n",
       "      <td>0.146666</td>\n",
       "      <td>0.188368</td>\n",
       "      <td>0.290169</td>\n",
       "    </tr>\n",
       "    <tr>\n",
       "      <th>std</th>\n",
       "      <td>1.846637e+04</td>\n",
       "      <td>0.0</td>\n",
       "      <td>2.031755</td>\n",
       "      <td>120582.737916</td>\n",
       "      <td>0.156082</td>\n",
       "      <td>0.233522</td>\n",
       "      <td>0.504450</td>\n",
       "      <td>0.0</td>\n",
       "      <td>0.561976</td>\n",
       "      <td>0.073599</td>\n",
       "      <td>0.088374</td>\n",
       "    </tr>\n",
       "    <tr>\n",
       "      <th>min</th>\n",
       "      <td>2.002345e+06</td>\n",
       "      <td>2016.0</td>\n",
       "      <td>0.015900</td>\n",
       "      <td>11500.000000</td>\n",
       "      <td>0.010000</td>\n",
       "      <td>2013.000000</td>\n",
       "      <td>1.000000</td>\n",
       "      <td>1.0</td>\n",
       "      <td>0.000000</td>\n",
       "      <td>0.000100</td>\n",
       "      <td>0.004200</td>\n",
       "    </tr>\n",
       "    <tr>\n",
       "      <th>25%</th>\n",
       "      <td>2.017593e+06</td>\n",
       "      <td>2016.0</td>\n",
       "      <td>0.938600</td>\n",
       "      <td>120914.000000</td>\n",
       "      <td>0.670000</td>\n",
       "      <td>2016.000000</td>\n",
       "      <td>1.000000</td>\n",
       "      <td>1.0</td>\n",
       "      <td>0.000000</td>\n",
       "      <td>0.135700</td>\n",
       "      <td>0.222800</td>\n",
       "    </tr>\n",
       "    <tr>\n",
       "      <th>50%</th>\n",
       "      <td>2.032841e+06</td>\n",
       "      <td>2016.0</td>\n",
       "      <td>1.380200</td>\n",
       "      <td>184000.000000</td>\n",
       "      <td>0.800000</td>\n",
       "      <td>2016.000000</td>\n",
       "      <td>2.000000</td>\n",
       "      <td>1.0</td>\n",
       "      <td>0.000000</td>\n",
       "      <td>0.180000</td>\n",
       "      <td>0.290000</td>\n",
       "    </tr>\n",
       "    <tr>\n",
       "      <th>75%</th>\n",
       "      <td>2.048088e+06</td>\n",
       "      <td>2016.0</td>\n",
       "      <td>1.965700</td>\n",
       "      <td>276000.000000</td>\n",
       "      <td>0.800000</td>\n",
       "      <td>2016.000000</td>\n",
       "      <td>2.000000</td>\n",
       "      <td>1.0</td>\n",
       "      <td>0.000000</td>\n",
       "      <td>0.230000</td>\n",
       "      <td>0.360000</td>\n",
       "    </tr>\n",
       "    <tr>\n",
       "      <th>max</th>\n",
       "      <td>2.067614e+06</td>\n",
       "      <td>2016.0</td>\n",
       "      <td>176.626300</td>\n",
       "      <td>787838.000000</td>\n",
       "      <td>1.390000</td>\n",
       "      <td>2016.000000</td>\n",
       "      <td>4.000000</td>\n",
       "      <td>1.0</td>\n",
       "      <td>3.000000</td>\n",
       "      <td>0.972000</td>\n",
       "      <td>0.988800</td>\n",
       "    </tr>\n",
       "  </tbody>\n",
       "</table>\n",
       "</div>"
      ],
      "text/plain": [
       "        Assigned_ID     Year        IncRat            UPB           LTV  \\\n",
       "count  6.098900e+04  60989.0  60989.000000   60989.000000  60989.000000   \n",
       "mean   2.033385e+06   2016.0      1.650246  211973.001886      0.746919   \n",
       "std    1.846637e+04      0.0      2.031755  120582.737916      0.156082   \n",
       "min    2.002345e+06   2016.0      0.015900   11500.000000      0.010000   \n",
       "25%    2.017593e+06   2016.0      0.938600  120914.000000      0.670000   \n",
       "50%    2.032841e+06   2016.0      1.380200  184000.000000      0.800000   \n",
       "75%    2.048088e+06   2016.0      1.965700  276000.000000      0.800000   \n",
       "max    2.067614e+06   2016.0    176.626300  787838.000000      1.390000   \n",
       "\n",
       "           MortDate       Purpose  Product        FedGar         Front  \\\n",
       "count  60989.000000  60989.000000  60989.0  60989.000000  60989.000000   \n",
       "mean    2015.947023      1.559183      1.0      0.146666      0.188368   \n",
       "std        0.233522      0.504450      0.0      0.561976      0.073599   \n",
       "min     2013.000000      1.000000      1.0      0.000000      0.000100   \n",
       "25%     2016.000000      1.000000      1.0      0.000000      0.135700   \n",
       "50%     2016.000000      2.000000      1.0      0.000000      0.180000   \n",
       "75%     2016.000000      2.000000      1.0      0.000000      0.230000   \n",
       "max     2016.000000      4.000000      1.0      3.000000      0.972000   \n",
       "\n",
       "               Back  \n",
       "count  60989.000000  \n",
       "mean       0.290169  \n",
       "std        0.088374  \n",
       "min        0.004200  \n",
       "25%        0.222800  \n",
       "50%        0.290000  \n",
       "75%        0.360000  \n",
       "max        0.988800  "
      ]
     },
     "execution_count": 8,
     "metadata": {},
     "output_type": "execute_result"
    }
   ],
   "source": [
    "# Describing the data\n",
    "data.describe()"
   ]
  },
  {
   "cell_type": "code",
   "execution_count": null,
   "metadata": {},
   "outputs": [
    {
     "data": {
      "image/png": "[encoded data removed]",
      "text/plain": [
       "<Figure size 432x288 with 1 Axes>"
      ]
     },
     "metadata": {
      "needs_background": "light"
     },
     "output_type": "display_data"
    },
    {
     "data": {
      "image/png": "[encoded data removed]",
      "text/plain": [
       "<Figure size 432x288 with 1 Axes>"
      ]
     },
     "metadata": {
      "needs_background": "light"
     },
     "output_type": "display_data"
    }
   ],
   "source": [
    "## Creating a new variable `plot_hists` to store the `new_cols`\n",
    "## and be populated with data from the `data` dataframe\n",
    "plot_hists = data[data.columns]\n",
    "\n",
    "### Creating a for loop that will plot each column in\n",
    "### the variable `plot_hists` as long as it is a column\n",
    "### Using 20 `bins` for each histogram, as well\n",
    "for i in range(len(plot_hists.columns)):\n",
    "    plt.hist(plot_hists.iloc[:,i].dropna(),bins=20)\n",
    "### For each title, we are using the name of the column\n",
    "### as it appears in the `plot_hists` variable    \n",
    "    plt.title('%a' % plot_hists.columns[i])\n",
    "### Ultimately showing the histogram at the end of \n",
    "### the for loop\n",
    "    plt.show()"
   ]
  }
 ],
 "metadata": {
  "kernelspec": {
   "display_name": "Python 3",
   "language": "python",
   "name": "python3"
  },
  "language_info": {
   "codemirror_mode": {
    "name": "ipython",
    "version": 3
   },
   "file_extension": ".py",
   "mimetype": "text/x-python",
   "name": "python",
   "nbconvert_exporter": "python",
   "pygments_lexer": "ipython3",
   "version": "3.7.0"
  }
 },
 "nbformat": 4,
 "nbformat_minor": 2
}
