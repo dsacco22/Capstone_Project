{
 "cells": [
  {
   "cell_type": "markdown",
   "metadata": {},
   "source": [
    "### Descriptive Statistics ###"
   ]
  },
  {
   "cell_type": "code",
   "execution_count": 1,
   "metadata": {},
   "outputs": [
    {
     "name": "stdout",
     "output_type": "stream",
     "text": [
      "   Year  Assigned_ID     Bank  IncRat     UPB   LTV  MortDate  Purpose  Coop  \\\n",
      "0  2016      2004452  Atlanta  1.5112  383368  0.84      2015        2     2   \n",
      "1  2016      2004453  Atlanta  0.7347  112822  0.76      2015        2     2   \n",
      "2  2016      2004454  Atlanta  0.8536  125345  1.00      2015        1     2   \n",
      "3  2016      2004455  Atlanta  1.4262  162084  1.03      2015        1     2   \n",
      "4  2016      2004456  Atlanta  2.0272  396490  0.89      2015        1     2   \n",
      "\n",
      "   Product  FedGuar  Occup   Front    Back  BoCreditScor PropType  \\\n",
      "0        1        2      1  0.2174  0.3683             4     PT07   \n",
      "1        1        2      1  0.1850  0.2385             4     PT01   \n",
      "2        1        2      1  0.2084  0.3817             4     PT01   \n",
      "3        1        2      1  0.1481  0.3170             4     PT01   \n",
      "4        1        2      1  0.2072  0.3184             4     PT07   \n",
      "\n",
      "   Portfolio_Worthy  \n",
      "0                 1  \n",
      "1                 1  \n",
      "2                 1  \n",
      "3                 1  \n",
      "4                 1  \n"
     ]
    }
   ],
   "source": [
    "# Importing packages\n",
    "import numpy as np\n",
    "import pandas as pd\n",
    "import matplotlib.pyplot as plt\n",
    "import seaborn as sns\n",
    "\n",
    "# Importing data\n",
    "data = pd.read_csv(\"Use_This.csv\", header=0, index_col=0)\n",
    "print(data.head())"
   ]
  },
  {
   "cell_type": "code",
   "execution_count": 2,
   "metadata": {},
   "outputs": [
    {
     "name": "stdout",
     "output_type": "stream",
     "text": [
      "<class 'pandas.core.frame.DataFrame'>\n",
      "Int64Index: 60989 entries, 0 to 60988\n",
      "Data columns (total 17 columns):\n",
      "Year                60989 non-null int64\n",
      "Assigned_ID         60989 non-null int64\n",
      "Bank                60989 non-null object\n",
      "IncRat              60989 non-null float64\n",
      "UPB                 60989 non-null int64\n",
      "LTV                 60989 non-null float64\n",
      "MortDate            60989 non-null int64\n",
      "Purpose             60989 non-null int64\n",
      "Coop                60989 non-null int64\n",
      "Product             60989 non-null int64\n",
      "FedGuar             60989 non-null int64\n",
      "Occup               60989 non-null int64\n",
      "Front               60989 non-null float64\n",
      "Back                60989 non-null float64\n",
      "BoCreditScor        60989 non-null int64\n",
      "PropType            60989 non-null object\n",
      "Portfolio_Worthy    60989 non-null bool\n",
      "dtypes: bool(1), float64(4), int64(10), object(2)\n",
      "memory usage: 8.0+ MB\n"
     ]
    }
   ],
   "source": [
    "# Displaying the data types of each attribute\n",
    "## Changing target attribute to boolean data type\n",
    "data.Portfolio_Worthy = data.Portfolio_Worthy.astype(bool)\n",
    "data.info()"
   ]
  },
  {
   "cell_type": "code",
   "execution_count": 3,
   "metadata": {},
   "outputs": [
    {
     "data": {
      "text/html": [
       "<div>\n",
       "<style scoped>\n",
       "    .dataframe tbody tr th:only-of-type {\n",
       "        vertical-align: middle;\n",
       "    }\n",
       "\n",
       "    .dataframe tbody tr th {\n",
       "        vertical-align: top;\n",
       "    }\n",
       "\n",
       "    .dataframe thead th {\n",
       "        text-align: right;\n",
       "    }\n",
       "</style>\n",
       "<table border=\"1\" class=\"dataframe\">\n",
       "  <thead>\n",
       "    <tr style=\"text-align: right;\">\n",
       "      <th></th>\n",
       "      <th>Year</th>\n",
       "      <th>Assigned_ID</th>\n",
       "      <th>IncRat</th>\n",
       "      <th>UPB</th>\n",
       "      <th>LTV</th>\n",
       "      <th>MortDate</th>\n",
       "      <th>Purpose</th>\n",
       "      <th>Coop</th>\n",
       "      <th>Product</th>\n",
       "      <th>FedGuar</th>\n",
       "      <th>Occup</th>\n",
       "      <th>Front</th>\n",
       "      <th>Back</th>\n",
       "      <th>BoCreditScor</th>\n",
       "    </tr>\n",
       "  </thead>\n",
       "  <tbody>\n",
       "    <tr>\n",
       "      <th>count</th>\n",
       "      <td>60989.0</td>\n",
       "      <td>6.098900e+04</td>\n",
       "      <td>60989.000000</td>\n",
       "      <td>60989.000000</td>\n",
       "      <td>60989.000000</td>\n",
       "      <td>60989.000000</td>\n",
       "      <td>60989.000000</td>\n",
       "      <td>60989.0</td>\n",
       "      <td>60989.0</td>\n",
       "      <td>60989.000000</td>\n",
       "      <td>60989.000000</td>\n",
       "      <td>60989.000000</td>\n",
       "      <td>60989.000000</td>\n",
       "      <td>60989.000000</td>\n",
       "    </tr>\n",
       "    <tr>\n",
       "      <th>mean</th>\n",
       "      <td>2016.0</td>\n",
       "      <td>2.033385e+06</td>\n",
       "      <td>1.650246</td>\n",
       "      <td>211973.001886</td>\n",
       "      <td>0.746919</td>\n",
       "      <td>2015.947023</td>\n",
       "      <td>1.559183</td>\n",
       "      <td>2.0</td>\n",
       "      <td>1.0</td>\n",
       "      <td>0.146666</td>\n",
       "      <td>1.019577</td>\n",
       "      <td>0.188368</td>\n",
       "      <td>0.290169</td>\n",
       "      <td>4.484825</td>\n",
       "    </tr>\n",
       "    <tr>\n",
       "      <th>std</th>\n",
       "      <td>0.0</td>\n",
       "      <td>1.846637e+04</td>\n",
       "      <td>2.031755</td>\n",
       "      <td>120582.737916</td>\n",
       "      <td>0.156082</td>\n",
       "      <td>0.233522</td>\n",
       "      <td>0.504450</td>\n",
       "      <td>0.0</td>\n",
       "      <td>0.0</td>\n",
       "      <td>0.561976</td>\n",
       "      <td>0.138544</td>\n",
       "      <td>0.073599</td>\n",
       "      <td>0.088374</td>\n",
       "      <td>0.773287</td>\n",
       "    </tr>\n",
       "    <tr>\n",
       "      <th>min</th>\n",
       "      <td>2016.0</td>\n",
       "      <td>2.002345e+06</td>\n",
       "      <td>0.015900</td>\n",
       "      <td>11500.000000</td>\n",
       "      <td>0.010000</td>\n",
       "      <td>2013.000000</td>\n",
       "      <td>1.000000</td>\n",
       "      <td>2.0</td>\n",
       "      <td>1.0</td>\n",
       "      <td>0.000000</td>\n",
       "      <td>1.000000</td>\n",
       "      <td>0.000100</td>\n",
       "      <td>0.004200</td>\n",
       "      <td>1.000000</td>\n",
       "    </tr>\n",
       "    <tr>\n",
       "      <th>25%</th>\n",
       "      <td>2016.0</td>\n",
       "      <td>2.017593e+06</td>\n",
       "      <td>0.938600</td>\n",
       "      <td>120914.000000</td>\n",
       "      <td>0.670000</td>\n",
       "      <td>2016.000000</td>\n",
       "      <td>1.000000</td>\n",
       "      <td>2.0</td>\n",
       "      <td>1.0</td>\n",
       "      <td>0.000000</td>\n",
       "      <td>1.000000</td>\n",
       "      <td>0.135700</td>\n",
       "      <td>0.222800</td>\n",
       "      <td>4.000000</td>\n",
       "    </tr>\n",
       "    <tr>\n",
       "      <th>50%</th>\n",
       "      <td>2016.0</td>\n",
       "      <td>2.032841e+06</td>\n",
       "      <td>1.380200</td>\n",
       "      <td>184000.000000</td>\n",
       "      <td>0.800000</td>\n",
       "      <td>2016.000000</td>\n",
       "      <td>2.000000</td>\n",
       "      <td>2.0</td>\n",
       "      <td>1.0</td>\n",
       "      <td>0.000000</td>\n",
       "      <td>1.000000</td>\n",
       "      <td>0.180000</td>\n",
       "      <td>0.290000</td>\n",
       "      <td>5.000000</td>\n",
       "    </tr>\n",
       "    <tr>\n",
       "      <th>75%</th>\n",
       "      <td>2016.0</td>\n",
       "      <td>2.048088e+06</td>\n",
       "      <td>1.965700</td>\n",
       "      <td>276000.000000</td>\n",
       "      <td>0.800000</td>\n",
       "      <td>2016.000000</td>\n",
       "      <td>2.000000</td>\n",
       "      <td>2.0</td>\n",
       "      <td>1.0</td>\n",
       "      <td>0.000000</td>\n",
       "      <td>1.000000</td>\n",
       "      <td>0.230000</td>\n",
       "      <td>0.360000</td>\n",
       "      <td>5.000000</td>\n",
       "    </tr>\n",
       "    <tr>\n",
       "      <th>max</th>\n",
       "      <td>2016.0</td>\n",
       "      <td>2.067614e+06</td>\n",
       "      <td>176.626300</td>\n",
       "      <td>787838.000000</td>\n",
       "      <td>1.390000</td>\n",
       "      <td>2016.000000</td>\n",
       "      <td>4.000000</td>\n",
       "      <td>2.0</td>\n",
       "      <td>1.0</td>\n",
       "      <td>3.000000</td>\n",
       "      <td>2.000000</td>\n",
       "      <td>0.972000</td>\n",
       "      <td>0.988800</td>\n",
       "      <td>9.000000</td>\n",
       "    </tr>\n",
       "  </tbody>\n",
       "</table>\n",
       "</div>"
      ],
      "text/plain": [
       "          Year   Assigned_ID        IncRat            UPB           LTV  \\\n",
       "count  60989.0  6.098900e+04  60989.000000   60989.000000  60989.000000   \n",
       "mean    2016.0  2.033385e+06      1.650246  211973.001886      0.746919   \n",
       "std        0.0  1.846637e+04      2.031755  120582.737916      0.156082   \n",
       "min     2016.0  2.002345e+06      0.015900   11500.000000      0.010000   \n",
       "25%     2016.0  2.017593e+06      0.938600  120914.000000      0.670000   \n",
       "50%     2016.0  2.032841e+06      1.380200  184000.000000      0.800000   \n",
       "75%     2016.0  2.048088e+06      1.965700  276000.000000      0.800000   \n",
       "max     2016.0  2.067614e+06    176.626300  787838.000000      1.390000   \n",
       "\n",
       "           MortDate       Purpose     Coop  Product       FedGuar  \\\n",
       "count  60989.000000  60989.000000  60989.0  60989.0  60989.000000   \n",
       "mean    2015.947023      1.559183      2.0      1.0      0.146666   \n",
       "std        0.233522      0.504450      0.0      0.0      0.561976   \n",
       "min     2013.000000      1.000000      2.0      1.0      0.000000   \n",
       "25%     2016.000000      1.000000      2.0      1.0      0.000000   \n",
       "50%     2016.000000      2.000000      2.0      1.0      0.000000   \n",
       "75%     2016.000000      2.000000      2.0      1.0      0.000000   \n",
       "max     2016.000000      4.000000      2.0      1.0      3.000000   \n",
       "\n",
       "              Occup         Front          Back  BoCreditScor  \n",
       "count  60989.000000  60989.000000  60989.000000  60989.000000  \n",
       "mean       1.019577      0.188368      0.290169      4.484825  \n",
       "std        0.138544      0.073599      0.088374      0.773287  \n",
       "min        1.000000      0.000100      0.004200      1.000000  \n",
       "25%        1.000000      0.135700      0.222800      4.000000  \n",
       "50%        1.000000      0.180000      0.290000      5.000000  \n",
       "75%        1.000000      0.230000      0.360000      5.000000  \n",
       "max        2.000000      0.972000      0.988800      9.000000  "
      ]
     },
     "execution_count": 3,
     "metadata": {},
     "output_type": "execute_result"
    }
   ],
   "source": [
    "# Describing the data\n",
    "data.describe()"
   ]
  },
  {
   "cell_type": "markdown",
   "metadata": {},
   "source": [
    "##### Histograms #####"
   ]
  },
  {
   "cell_type": "code",
   "execution_count": 4,
   "metadata": {},
   "outputs": [
    {
     "name": "stdout",
     "output_type": "stream",
     "text": [
      "(array([6.0946e+04, 2.9000e+01, 3.0000e+00, 2.0000e+00, 2.0000e+00,\n",
      "       0.0000e+00, 3.0000e+00, 0.0000e+00, 2.0000e+00, 2.0000e+00]), array([1.5900000e-02, 1.7676940e+01, 3.5337980e+01, 5.2999020e+01,\n",
      "       7.0660060e+01, 8.8321100e+01, 1.0598214e+02, 1.2364318e+02,\n",
      "       1.4130422e+02, 1.5896526e+02, 1.7662630e+02]), <a list of 10 Patch objects>)\n"
     ]
    },
    {
     "data": {
      "image/png": "[encoded data removed]",
      "text/plain": [
       "<Figure size 432x288 with 1 Axes>"
      ]
     },
     "metadata": {
      "needs_background": "light"
     },
     "output_type": "display_data"
    }
   ],
   "source": [
    "print(plt.hist(data.IncRat))"
   ]
  },
  {
   "cell_type": "code",
   "execution_count": 5,
   "metadata": {},
   "outputs": [
    {
     "name": "stdout",
     "output_type": "stream",
     "text": [
      "(array([7.2890e+03, 1.9418e+04, 1.4669e+04, 8.9210e+03, 4.9280e+03,\n",
      "       3.5510e+03, 1.1560e+03, 1.0430e+03, 8.0000e+00, 6.0000e+00]), array([ 11500. ,  89133.8, 166767.6, 244401.4, 322035.2, 399669. ,\n",
      "       477302.8, 554936.6, 632570.4, 710204.2, 787838. ]), <a list of 10 Patch objects>)\n"
     ]
    },
    {
     "data": {
      "image/png": "[encoded data removed]",
      "text/plain": [
       "<Figure size 432x288 with 1 Axes>"
      ]
     },
     "metadata": {
      "needs_background": "light"
     },
     "output_type": "display_data"
    }
   ],
   "source": [
    "print(plt.hist(data.UPB))"
   ]
  },
  {
   "cell_type": "code",
   "execution_count": 6,
   "metadata": {},
   "outputs": [
    {
     "name": "stdout",
     "output_type": "stream",
     "text": [
      "(array([4.2000e+01, 6.2600e+02, 2.1100e+03, 4.9600e+03, 9.6650e+03,\n",
      "       3.0411e+04, 1.0286e+04, 2.8810e+03, 7.0000e+00, 1.0000e+00]), array([0.01 , 0.148, 0.286, 0.424, 0.562, 0.7  , 0.838, 0.976, 1.114,\n",
      "       1.252, 1.39 ]), <a list of 10 Patch objects>)\n"
     ]
    },
    {
     "data": {
      "image/png": "[encoded data removed]",
      "text/plain": [
       "<Figure size 432x288 with 1 Axes>"
      ]
     },
     "metadata": {
      "needs_background": "light"
     },
     "output_type": "display_data"
    }
   ],
   "source": [
    "print(plt.hist(data.LTV))"
   ]
  },
  {
   "cell_type": "code",
   "execution_count": 7,
   "metadata": {},
   "outputs": [
    {
     "name": "stdout",
     "output_type": "stream",
     "text": [
      "(array([27047.,     0.,     0., 33861.,     0.,     0.,     0.,     0.,\n",
      "           0.,    81.]), array([1. , 1.3, 1.6, 1.9, 2.2, 2.5, 2.8, 3.1, 3.4, 3.7, 4. ]), <a list of 10 Patch objects>)\n"
     ]
    },
    {
     "data": {
      "image/png": "[encoded data removed]",
      "text/plain": [
       "<Figure size 432x288 with 1 Axes>"
      ]
     },
     "metadata": {
      "needs_background": "light"
     },
     "output_type": "display_data"
    }
   ],
   "source": [
    "print(plt.hist(data.Purpose))"
   ]
  },
  {
   "cell_type": "code",
   "execution_count": 8,
   "metadata": {},
   "outputs": [
    {
     "name": "stdout",
     "output_type": "stream",
     "text": [
      "(array([    0.,     0.,     0.,     0.,     0., 60989.,     0.,     0.,\n",
      "           0.,     0.]), array([1.5, 1.6, 1.7, 1.8, 1.9, 2. , 2.1, 2.2, 2.3, 2.4, 2.5]), <a list of 10 Patch objects>)\n"
     ]
    },
    {
     "data": {
      "image/png": "[encoded data removed]",
      "text/plain": [
       "<Figure size 432x288 with 1 Axes>"
      ]
     },
     "metadata": {
      "needs_background": "light"
     },
     "output_type": "display_data"
    }
   ],
   "source": [
    "print(plt.hist(data.Coop))"
   ]
  },
  {
   "cell_type": "code",
   "execution_count": 9,
   "metadata": {},
   "outputs": [
    {
     "name": "stdout",
     "output_type": "stream",
     "text": [
      "(array([56512.,     0.,     0.,  1355.,     0.,     0.,  1776.,     0.,\n",
      "           0.,  1346.]), array([0. , 0.3, 0.6, 0.9, 1.2, 1.5, 1.8, 2.1, 2.4, 2.7, 3. ]), <a list of 10 Patch objects>)\n"
     ]
    },
    {
     "data": {
      "image/png": "[encoded data removed]",
      "text/plain": [
       "<Figure size 432x288 with 1 Axes>"
      ]
     },
     "metadata": {
      "needs_background": "light"
     },
     "output_type": "display_data"
    }
   ],
   "source": [
    "print(plt.hist(data.FedGuar))"
   ]
  },
  {
   "cell_type": "code",
   "execution_count": 11,
   "metadata": {},
   "outputs": [
    {
     "name": "stdout",
     "output_type": "stream",
     "text": [
      "(array([   85.,  1452.,  5002., 17020.,     0., 37355.,     0.,     0.,\n",
      "           0.,    75.]), array([1. , 1.8, 2.6, 3.4, 4.2, 5. , 5.8, 6.6, 7.4, 8.2, 9. ]), <a list of 10 Patch objects>)\n"
     ]
    },
    {
     "data": {
      "image/png": "[encoded data removed]",
      "text/plain": [
       "<Figure size 432x288 with 1 Axes>"
      ]
     },
     "metadata": {
      "needs_background": "light"
     },
     "output_type": "display_data"
    }
   ],
   "source": [
    "print(plt.hist(data.BoCreditScor))"
   ]
  },
  {
   "cell_type": "code",
   "execution_count": 20,
   "metadata": {},
   "outputs": [
    {
     "name": "stdout",
     "output_type": "stream",
     "text": [
      "(array([4.6750e+03, 3.1208e+04, 1.9445e+04, 4.9390e+03, 7.0700e+02,\n",
      "       8.0000e+00, 1.0000e+00, 0.0000e+00, 3.0000e+00, 3.0000e+00]), array([1.0000e-04, 9.7290e-02, 1.9448e-01, 2.9167e-01, 3.8886e-01,\n",
      "       4.8605e-01, 5.8324e-01, 6.8043e-01, 7.7762e-01, 8.7481e-01,\n",
      "       9.7200e-01]), <a list of 10 Patch objects>)\n"
     ]
    },
    {
     "data": {
      "image/png": "[encoded data removed]",
      "text/plain": [
       "<Figure size 432x288 with 1 Axes>"
      ]
     },
     "metadata": {
      "needs_background": "light"
     },
     "output_type": "display_data"
    }
   ],
   "source": [
    "print(plt.hist(data.Front))"
   ]
  },
  {
   "cell_type": "code",
   "execution_count": 21,
   "metadata": {},
   "outputs": [
    {
     "name": "stdout",
     "output_type": "stream",
     "text": [
      "(array([6.8600e+02, 1.0355e+04, 2.0893e+04, 2.1533e+04, 7.2080e+03,\n",
      "       2.8000e+02, 1.7000e+01, 8.0000e+00, 5.0000e+00, 4.0000e+00]), array([0.0042 , 0.10266, 0.20112, 0.29958, 0.39804, 0.4965 , 0.59496,\n",
      "       0.69342, 0.79188, 0.89034, 0.9888 ]), <a list of 10 Patch objects>)\n"
     ]
    },
    {
     "data": {
      "image/png": "[encoded data removed]",
      "text/plain": [
       "<Figure size 432x288 with 1 Axes>"
      ]
     },
     "metadata": {
      "needs_background": "light"
     },
     "output_type": "display_data"
    }
   ],
   "source": [
    "print(plt.hist(data.Back))"
   ]
  },
  {
   "cell_type": "code",
   "execution_count": 13,
   "metadata": {},
   "outputs": [
    {
     "name": "stdout",
     "output_type": "stream",
     "text": [
      "True     56996\n",
      "False     3993\n",
      "Name: Portfolio_Worthy, dtype: int64\n"
     ]
    }
   ],
   "source": [
    "# Showing value counts for target feature\n",
    "print(data.Portfolio_Worthy.value_counts())"
   ]
  },
  {
   "cell_type": "markdown",
   "metadata": {},
   "source": [
    "##### Boxplots #####"
   ]
  },
  {
   "cell_type": "code",
   "execution_count": 14,
   "metadata": {},
   "outputs": [
    {
     "name": "stdout",
     "output_type": "stream",
     "text": [
      "{'whiskers': [<matplotlib.lines.Line2D object at 0x0000029CA61F7860>, <matplotlib.lines.Line2D object at 0x0000029CA61F7C88>], 'caps': [<matplotlib.lines.Line2D object at 0x0000029CA61F7D68>, <matplotlib.lines.Line2D object at 0x0000029CA6201518>], 'boxes': [<matplotlib.lines.Line2D object at 0x0000029CA61F7320>], 'medians': [<matplotlib.lines.Line2D object at 0x0000029CA6201940>], 'fliers': [<matplotlib.lines.Line2D object at 0x0000029CA6201D68>], 'means': []}\n"
     ]
    },
    {
     "data": {
      "image/png": "[encoded data removed]",
      "text/plain": [
       "<Figure size 432x288 with 1 Axes>"
      ]
     },
     "metadata": {
      "needs_background": "light"
     },
     "output_type": "display_data"
    }
   ],
   "source": [
    "print(plt.boxplot(data.LTV))"
   ]
  },
  {
   "cell_type": "code",
   "execution_count": 16,
   "metadata": {},
   "outputs": [
    {
     "name": "stdout",
     "output_type": "stream",
     "text": [
      "{'whiskers': [<matplotlib.lines.Line2D object at 0x0000029CA62B0D30>, <matplotlib.lines.Line2D object at 0x0000029CA62B9588>], 'caps': [<matplotlib.lines.Line2D object at 0x0000029CA62B99B0>, <matplotlib.lines.Line2D object at 0x0000029CA62B9DD8>], 'boxes': [<matplotlib.lines.Line2D object at 0x0000029CA62B0BE0>], 'medians': [<matplotlib.lines.Line2D object at 0x0000029CA62B9EB8>], 'fliers': [<matplotlib.lines.Line2D object at 0x0000029CA62BF668>], 'means': []}\n"
     ]
    },
    {
     "data": {
      "image/png": "[encoded data removed]",
      "text/plain": [
       "<Figure size 432x288 with 1 Axes>"
      ]
     },
     "metadata": {
      "needs_background": "light"
     },
     "output_type": "display_data"
    }
   ],
   "source": [
    "print(plt.boxplot(data.UPB))"
   ]
  },
  {
   "cell_type": "code",
   "execution_count": 17,
   "metadata": {},
   "outputs": [
    {
     "name": "stdout",
     "output_type": "stream",
     "text": [
      "{'whiskers': [<matplotlib.lines.Line2D object at 0x0000029CA62DC198>, <matplotlib.lines.Line2D object at 0x0000029CA62B0438>], 'caps': [<matplotlib.lines.Line2D object at 0x0000029CA62B0BA8>, <matplotlib.lines.Line2D object at 0x0000029CA62B0D68>], 'boxes': [<matplotlib.lines.Line2D object at 0x0000029CA62DC630>], 'medians': [<matplotlib.lines.Line2D object at 0x0000029CA62BF6D8>], 'fliers': [<matplotlib.lines.Line2D object at 0x0000029CA62BF278>], 'means': []}\n"
     ]
    },
    {
     "data": {
      "image/png": "[encoded data removed]",
      "text/plain": [
       "<Figure size 432x288 with 1 Axes>"
      ]
     },
     "metadata": {
      "needs_background": "light"
     },
     "output_type": "display_data"
    }
   ],
   "source": [
    "print(plt.boxplot(data.IncRat))"
   ]
  },
  {
   "cell_type": "code",
   "execution_count": 18,
   "metadata": {},
   "outputs": [
    {
     "name": "stdout",
     "output_type": "stream",
     "text": [
      "{'whiskers': [<matplotlib.lines.Line2D object at 0x0000029CA620B278>, <matplotlib.lines.Line2D object at 0x0000029CA620B0F0>], 'caps': [<matplotlib.lines.Line2D object at 0x0000029CA6201438>, <matplotlib.lines.Line2D object at 0x0000029CA6201710>], 'boxes': [<matplotlib.lines.Line2D object at 0x0000029CA620B978>], 'medians': [<matplotlib.lines.Line2D object at 0x0000029CA62018D0>], 'fliers': [<matplotlib.lines.Line2D object at 0x0000029CA61A6240>], 'means': []}\n"
     ]
    },
    {
     "data": {
      "image/png": "[encoded data removed]",
      "text/plain": [
       "<Figure size 432x288 with 1 Axes>"
      ]
     },
     "metadata": {
      "needs_background": "light"
     },
     "output_type": "display_data"
    }
   ],
   "source": [
    "print(plt.boxplot(data.Front))"
   ]
  },
  {
   "cell_type": "code",
   "execution_count": 19,
   "metadata": {},
   "outputs": [
    {
     "name": "stdout",
     "output_type": "stream",
     "text": [
      "{'whiskers': [<matplotlib.lines.Line2D object at 0x0000029CA5E80EB8>, <matplotlib.lines.Line2D object at 0x0000029CA5E80828>], 'caps': [<matplotlib.lines.Line2D object at 0x0000029CA5E80278>, <matplotlib.lines.Line2D object at 0x0000029CA5518C88>], 'boxes': [<matplotlib.lines.Line2D object at 0x0000029CA5E80AC8>], 'medians': [<matplotlib.lines.Line2D object at 0x0000029CA55182E8>], 'fliers': [<matplotlib.lines.Line2D object at 0x0000029CA5518A90>], 'means': []}\n"
     ]
    },
    {
     "data": {
      "image/png": "[encoded data removed]",
      "text/plain": [
       "<Figure size 432x288 with 1 Axes>"
      ]
     },
     "metadata": {
      "needs_background": "light"
     },
     "output_type": "display_data"
    }
   ],
   "source": [
    "print(plt.boxplot(data.Back))"
   ]
  },
  {
   "cell_type": "code",
   "execution_count": 22,
   "metadata": {},
   "outputs": [
    {
     "name": "stdout",
     "output_type": "stream",
     "text": [
      "{'whiskers': [<matplotlib.lines.Line2D object at 0x0000029CA5366B38>, <matplotlib.lines.Line2D object at 0x0000029CA53660B8>], 'caps': [<matplotlib.lines.Line2D object at 0x0000029CA5366668>, <matplotlib.lines.Line2D object at 0x0000029CA5390A58>], 'boxes': [<matplotlib.lines.Line2D object at 0x0000029CA53667B8>], 'medians': [<matplotlib.lines.Line2D object at 0x0000029CA5390C88>], 'fliers': [<matplotlib.lines.Line2D object at 0x0000029CA5390DD8>], 'means': []}\n"
     ]
    },
    {
     "data": {
      "image/png": "[encoded data removed]",
      "text/plain": [
       "<Figure size 432x288 with 1 Axes>"
      ]
     },
     "metadata": {
      "needs_background": "light"
     },
     "output_type": "display_data"
    }
   ],
   "source": [
    "print(plt.boxplot(data.BoCreditScor))"
   ]
  },
  {
   "cell_type": "markdown",
   "metadata": {},
   "source": [
    "##### Correlation #####"
   ]
  },
  {
   "cell_type": "code",
   "execution_count": 23,
   "metadata": {},
   "outputs": [
    {
     "data": {
      "text/plain": [
       "<matplotlib.axes._subplots.AxesSubplot at 0x29ca5525ac8>"
      ]
     },
     "execution_count": 23,
     "metadata": {},
     "output_type": "execute_result"
    },
    {
     "data": {
      "image/png": "[encoded data removed]",
      "text/plain": [
       "<Figure size 792x648 with 2 Axes>"
      ]
     },
     "metadata": {
      "needs_background": "light"
     },
     "output_type": "display_data"
    }
   ],
   "source": [
    "### WE ARE USING THIS CODE FROM COMPETITION 1\n",
    "\n",
    "## We will make it look nicer to the eye\n",
    "# Visualizing a Correlation Matrix\n",
    "correlation_visual = data.corr(method='spearman')\n",
    "\n",
    "# Have to generate a mask(hide) for the upper triangle\n",
    "hide = np.zeros_like(correlation_visual, dtype=np.bool)\n",
    "hide[np.triu_indices_from(hide)] = True\n",
    "\n",
    "# Setting the subplot for the correlation matrix\n",
    "f , ax = plt.subplots(figsize=(11,9))\n",
    "\n",
    "# Generating a diverging colormap\n",
    "cmap = sns.diverging_palette(100, 200, as_cmap=True)\n",
    "\n",
    "# Adding the heatmap\n",
    "sns.heatmap(correlation_visual, mask=hide, cmap=cmap, vmin=-1,vmax=1, center=0, square=True, linewidths=.6, cbar_kws={\"shrink\": .5})"
   ]
  },
  {
   "cell_type": "code",
   "execution_count": 24,
   "metadata": {},
   "outputs": [
    {
     "name": "stdout",
     "output_type": "stream",
     "text": [
      "                  Year  Assigned_ID    IncRat       UPB       LTV  MortDate  \\\n",
      "Year               NaN          NaN       NaN       NaN       NaN       NaN   \n",
      "Assigned_ID        NaN     1.000000  0.044403  0.000520 -0.053542  0.301043   \n",
      "IncRat             NaN     0.044403  1.000000  0.570201 -0.115950  0.019856   \n",
      "UPB                NaN     0.000520  0.570201  1.000000 -0.049032  0.016388   \n",
      "LTV                NaN    -0.053542 -0.115950 -0.049032  1.000000 -0.003637   \n",
      "MortDate           NaN     0.301043  0.019856  0.016388 -0.003637  1.000000   \n",
      "Purpose            NaN     0.091563  0.133106  0.107097 -0.510549  0.019732   \n",
      "Coop               NaN          NaN       NaN       NaN       NaN       NaN   \n",
      "Product            NaN          NaN       NaN       NaN       NaN       NaN   \n",
      "FedGuar            NaN    -0.062828 -0.172637 -0.114016  0.384316 -0.049808   \n",
      "Occup              NaN     0.008516  0.141410  0.006224 -0.020830  0.011988   \n",
      "Front              NaN    -0.043711 -0.511243  0.237283  0.020872 -0.000565   \n",
      "Back               NaN    -0.030468 -0.321807  0.112727  0.156575  0.007592   \n",
      "BoCreditScor       NaN     0.016330  0.135895  0.117256 -0.205161 -0.012511   \n",
      "Portfolio_Worthy   NaN    -0.001755  0.077250  0.080657 -0.037334 -0.018051   \n",
      "\n",
      "                   Purpose  Coop  Product   FedGuar     Occup     Front  \\\n",
      "Year                   NaN   NaN      NaN       NaN       NaN       NaN   \n",
      "Assigned_ID       0.091563   NaN      NaN -0.062828  0.008516 -0.043711   \n",
      "IncRat            0.133106   NaN      NaN -0.172637  0.141410 -0.511243   \n",
      "UPB               0.107097   NaN      NaN -0.114016  0.006224  0.237283   \n",
      "LTV              -0.510549   NaN      NaN  0.384316 -0.020830  0.020872   \n",
      "MortDate          0.019732   NaN      NaN -0.049808  0.011988 -0.000565   \n",
      "Purpose           1.000000   NaN      NaN -0.214228 -0.054471 -0.007434   \n",
      "Coop                   NaN   NaN      NaN       NaN       NaN       NaN   \n",
      "Product                NaN   NaN      NaN       NaN       NaN       NaN   \n",
      "FedGuar          -0.214228   NaN      NaN  1.000000 -0.039286  0.062700   \n",
      "Occup            -0.054471   NaN      NaN -0.039286  1.000000 -0.125909   \n",
      "Front            -0.007434   NaN      NaN  0.062700 -0.125909  1.000000   \n",
      "Back             -0.078736   NaN      NaN  0.152191 -0.005896  0.575835   \n",
      "BoCreditScor      0.065937   NaN      NaN -0.240443  0.041626 -0.040080   \n",
      "Portfolio_Worthy -0.089789   NaN      NaN -0.178658  0.015393 -0.021244   \n",
      "\n",
      "                      Back  BoCreditScor  Portfolio_Worthy  \n",
      "Year                   NaN           NaN               NaN  \n",
      "Assigned_ID      -0.030468      0.016330         -0.001755  \n",
      "IncRat           -0.321807      0.135895          0.077250  \n",
      "UPB               0.112727      0.117256          0.080657  \n",
      "LTV               0.156575     -0.205161         -0.037334  \n",
      "MortDate          0.007592     -0.012511         -0.018051  \n",
      "Purpose          -0.078736      0.065937         -0.089789  \n",
      "Coop                   NaN           NaN               NaN  \n",
      "Product                NaN           NaN               NaN  \n",
      "FedGuar           0.152191     -0.240443         -0.178658  \n",
      "Occup            -0.005896      0.041626          0.015393  \n",
      "Front             0.575835     -0.040080         -0.021244  \n",
      "Back              1.000000     -0.227128         -0.107425  \n",
      "BoCreditScor     -0.227128      1.000000          0.461617  \n",
      "Portfolio_Worthy -0.107425      0.461617          1.000000  \n"
     ]
    }
   ],
   "source": [
    "print(data.corr(method='spearman'))"
   ]
  }
 ],
 "metadata": {
  "kernelspec": {
   "display_name": "Python 3",
   "language": "python",
   "name": "python3"
  },
  "language_info": {
   "codemirror_mode": {
    "name": "ipython",
    "version": 3
   },
   "file_extension": ".py",
   "mimetype": "text/x-python",
   "name": "python",
   "nbconvert_exporter": "python",
   "pygments_lexer": "ipython3",
   "version": "3.7.0"
  }
 },
 "nbformat": 4,
 "nbformat_minor": 2
}
