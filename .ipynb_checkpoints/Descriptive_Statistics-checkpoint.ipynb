{
 "cells": [
  {
   "cell_type": "markdown",
   "metadata": {},
   "source": [
    "### Descriptive Statistics ###"
   ]
  },
  {
   "cell_type": "code",
   "execution_count": 1,
   "metadata": {},
   "outputs": [],
   "source": [
    "## Importing packages\n",
    "import numpy as np\n",
    "import pandas as pd\n",
    "import matplotlib.pyplot as plt\n",
    "import seaborn as sns\n",
    "import psycopg2  ## PostgreSQL Connection Package"
   ]
  },
  {
   "cell_type": "markdown",
   "metadata": {},
   "source": [
    "#### PostgreSQL Connection Details ####"
   ]
  },
  {
   "cell_type": "code",
   "execution_count": 2,
   "metadata": {},
   "outputs": [
    {
     "name": "stdout",
     "output_type": "stream",
     "text": [
      "{'user': 'capstonedba', 'dbname': 'capstonedba', 'host': 'capstone-db.c9mqkx12zppw.us-east-1.rds.amazonaws.com', 'port': '5432', 'tty': '', 'options': '', 'sslmode': 'prefer', 'sslcompression': '0', 'krbsrvname': 'postgres', 'target_session_attrs': 'any'} \n",
      "\n",
      "You are connected to -  ('PostgreSQL 10.6 on x86_64-pc-linux-gnu, compiled by gcc (GCC) 4.8.3 20140911 (Red Hat 4.8.3-9), 64-bit',) \n",
      "\n"
     ]
    }
   ],
   "source": [
    "# Connection to PostgreSQL Database\n",
    "connection = psycopg2.connect(user='capstonedba', password='ubaEYyxl3UimQCGa4S1e8yvlZmkGRK', host='capstone-db.c9mqkx12zppw.us-east-1.rds.amazonaws.com', port='5432', database='capstonedba')\n",
    "\n",
    "cursor = connection.cursor()\n",
    "\n",
    "## Printing database connection properties\n",
    "print(connection.get_dsn_parameters(),'\\n')\n",
    "\n",
    "## Printing PostgreSQL Database version\n",
    "cursor.execute(\"SELECT version();\")\n",
    "record = cursor.fetchone()\n",
    "print(\"You are connected to - \", record, '\\n')"
   ]
  },
  {
   "cell_type": "code",
   "execution_count": 3,
   "metadata": {},
   "outputs": [
    {
     "name": "stdout",
     "output_type": "stream",
     "text": [
      "     0        1        2       3       4     5     6   7   8   9   \\\n",
      "0  2016  2004452  Atlanta  1.5112  383368  0.84  2015   2   2   1   \n",
      "1  2016  2004453  Atlanta  0.7347  112822  0.76  2015   2   2   1   \n",
      "2  2016  2004454  Atlanta  0.8536  125345     1  2015   1   2   1   \n",
      "3  2016  2004455  Atlanta  1.4262  162084  1.03  2015   1   2   1   \n",
      "4  2016  2004456  Atlanta  2.0272  396490  0.89  2015   1   2   1   \n",
      "\n",
      "      ...         15    16    17 18     19 20     21    22 23           24  \n",
      "0     ...       PT07  0.13  1.61  1  0.879  1  2.345  1.76  1  0.759300382  \n",
      "1     ...       PT01  0.13  1.61  1  0.879  1  2.345  1.76  1  0.759300382  \n",
      "2     ...       PT01  0.13     1  1  0.879  1  2.345  1.76  1  0.471615144  \n",
      "3     ...       PT01  0.13     1  1  0.879  1  2.345  1.76  1  0.471615144  \n",
      "4     ...       PT07  0.13     1  1  0.879  1  2.345  1.76  1  0.471615144  \n",
      "\n",
      "[5 rows x 25 columns]\n"
     ]
    }
   ],
   "source": [
    "# Pulling data from database for dataframe\n",
    "## Creating variable for SQL query\n",
    "sql = \"SELECT * FROM loans WHERE year='2016';\"\n",
    "\n",
    "### Executing sql query on database\n",
    "cursor.execute(sql)\n",
    "\n",
    "#### Fetching the results from query\n",
    "data = cursor.fetchall()\n",
    "\n",
    "##### Storing them in a variable and then making that variable a DataFrame\n",
    "data = pd.DataFrame(data)\n",
    "print(data.head())"
   ]
  },
  {
   "cell_type": "code",
   "execution_count": 4,
   "metadata": {},
   "outputs": [
    {
     "name": "stdout",
     "output_type": "stream",
     "text": [
      "   Year  Assigned_ID     Bank  IncRat     UPB   LTV  MortDate  Purpose  Coop  \\\n",
      "0  2016      2004452  Atlanta  1.5112  383368  0.84      2015        2     2   \n",
      "1  2016      2004453  Atlanta  0.7347  112822  0.76      2015        2     2   \n",
      "2  2016      2004454  Atlanta  0.8536  125345     1      2015        1     2   \n",
      "3  2016      2004455  Atlanta  1.4262  162084  1.03      2015        1     2   \n",
      "4  2016      2004456  Atlanta  2.0272  396490  0.89      2015        1     2   \n",
      "\n",
      "   Product       ...        PropType  LTV_M Purpose_M Coop_M Product_M  \\\n",
      "0        1       ...            PT07   0.13      1.61      1     0.879   \n",
      "1        1       ...            PT01   0.13      1.61      1     0.879   \n",
      "2        1       ...            PT01   0.13         1      1     0.879   \n",
      "3        1       ...            PT01   0.13         1      1     0.879   \n",
      "4        1       ...            PT07   0.13         1      1     0.879   \n",
      "\n",
      "  Occup_M Back_M BoCreditScor_M PropType_M Loan_Multiplier  \n",
      "0       1  2.345           1.76          1     0.759300382  \n",
      "1       1  2.345           1.76          1     0.759300382  \n",
      "2       1  2.345           1.76          1     0.471615144  \n",
      "3       1  2.345           1.76          1     0.471615144  \n",
      "4       1  2.345           1.76          1     0.471615144  \n",
      "\n",
      "[5 rows x 25 columns]\n"
     ]
    }
   ],
   "source": [
    "# Manually Coding Columns for DataFrame\n",
    "data.columns = ['Year', 'Assigned_ID', 'Bank', 'IncRat', 'UPB', 'LTV', 'MortDate','Purpose', 'Coop', 'Product','FedGuar', 'Occup', 'Front','Back','BoCreditScor','PropType', 'LTV_M', 'Purpose_M','Coop_M','Product_M','Occup_M','Back_M','BoCreditScor_M','PropType_M','Loan_Multiplier']\n",
    "print(data.head())"
   ]
  },
  {
   "cell_type": "code",
   "execution_count": 5,
   "metadata": {},
   "outputs": [
    {
     "name": "stdout",
     "output_type": "stream",
     "text": [
      "<class 'pandas.core.frame.DataFrame'>\n",
      "RangeIndex: 60989 entries, 0 to 60988\n",
      "Data columns (total 25 columns):\n",
      "Year               60989 non-null int64\n",
      "Assigned_ID        60989 non-null int64\n",
      "Bank               60989 non-null object\n",
      "IncRat             60989 non-null object\n",
      "UPB                60989 non-null object\n",
      "LTV                60989 non-null object\n",
      "MortDate           60989 non-null int64\n",
      "Purpose            60989 non-null int64\n",
      "Coop               60989 non-null int64\n",
      "Product            60989 non-null int64\n",
      "FedGuar            60989 non-null int64\n",
      "Occup              60989 non-null int64\n",
      "Front              60989 non-null object\n",
      "Back               60989 non-null object\n",
      "BoCreditScor       60989 non-null object\n",
      "PropType           60989 non-null object\n",
      "LTV_M              60989 non-null object\n",
      "Purpose_M          60989 non-null object\n",
      "Coop_M             60989 non-null object\n",
      "Product_M          60989 non-null object\n",
      "Occup_M            60989 non-null object\n",
      "Back_M             60989 non-null object\n",
      "BoCreditScor_M     60989 non-null object\n",
      "PropType_M         60989 non-null object\n",
      "Loan_Multiplier    60989 non-null object\n",
      "dtypes: int64(8), object(17)\n",
      "memory usage: 11.6+ MB\n"
     ]
    }
   ],
   "source": [
    "# Checking data types of columns\n",
    "data.info()"
   ]
  },
  {
   "cell_type": "code",
   "execution_count": 6,
   "metadata": {},
   "outputs": [],
   "source": [
    "# Recoding variables to the right data type\n",
    "data.IncRat = data.IncRat.astype(float)\n",
    "data.UPB = data.UPB.astype(int)\n",
    "data.LTV = data.LTV.astype(float)\n",
    "data.Front = data.Front.astype(float)\n",
    "data.Back = data.Back.astype(float)\n",
    "data.LTV_M = data.LTV_M.astype(float)\n",
    "data.Purpose_M = data.Purpose_M.astype(float)\n",
    "data.Coop_M = data.Coop_M.astype(float)\n",
    "data.Product_M = data.Product_M.astype(float)\n",
    "data.Occup_M = data.Occup_M.astype(float)\n",
    "data.Back_M = data.Back_M.astype(float)\n",
    "data.BoCreditScor_M = data.BoCreditScor_M.astype(float)\n",
    "data.PropType_M = data.PropType_M.astype(float)\n",
    "data.Loan_Multiplier = data.Loan_Multiplier.astype(float)"
   ]
  },
  {
   "cell_type": "code",
   "execution_count": 7,
   "metadata": {},
   "outputs": [
    {
     "name": "stdout",
     "output_type": "stream",
     "text": [
      "<class 'pandas.core.frame.DataFrame'>\n",
      "RangeIndex: 60989 entries, 0 to 60988\n",
      "Data columns (total 25 columns):\n",
      "Year               60989 non-null int64\n",
      "Assigned_ID        60989 non-null int64\n",
      "Bank               60989 non-null object\n",
      "IncRat             60989 non-null float64\n",
      "UPB                60989 non-null int32\n",
      "LTV                60989 non-null float64\n",
      "MortDate           60989 non-null int64\n",
      "Purpose            60989 non-null int64\n",
      "Coop               60989 non-null int64\n",
      "Product            60989 non-null int64\n",
      "FedGuar            60989 non-null int64\n",
      "Occup              60989 non-null int64\n",
      "Front              60989 non-null float64\n",
      "Back               60989 non-null float64\n",
      "BoCreditScor       60989 non-null object\n",
      "PropType           60989 non-null object\n",
      "LTV_M              60989 non-null float64\n",
      "Purpose_M          60989 non-null float64\n",
      "Coop_M             60989 non-null float64\n",
      "Product_M          60989 non-null float64\n",
      "Occup_M            60989 non-null float64\n",
      "Back_M             60989 non-null float64\n",
      "BoCreditScor_M     60989 non-null float64\n",
      "PropType_M         60989 non-null float64\n",
      "Loan_Multiplier    60989 non-null float64\n",
      "dtypes: float64(13), int32(1), int64(8), object(3)\n",
      "memory usage: 11.4+ MB\n"
     ]
    }
   ],
   "source": [
    "# Checking data types of columns\n",
    "data.info()"
   ]
  },
  {
   "cell_type": "code",
   "execution_count": 8,
   "metadata": {},
   "outputs": [
    {
     "data": {
      "text/html": [
       "<div>\n",
       "<style scoped>\n",
       "    .dataframe tbody tr th:only-of-type {\n",
       "        vertical-align: middle;\n",
       "    }\n",
       "\n",
       "    .dataframe tbody tr th {\n",
       "        vertical-align: top;\n",
       "    }\n",
       "\n",
       "    .dataframe thead th {\n",
       "        text-align: right;\n",
       "    }\n",
       "</style>\n",
       "<table border=\"1\" class=\"dataframe\">\n",
       "  <thead>\n",
       "    <tr style=\"text-align: right;\">\n",
       "      <th></th>\n",
       "      <th>Year</th>\n",
       "      <th>Assigned_ID</th>\n",
       "      <th>IncRat</th>\n",
       "      <th>UPB</th>\n",
       "      <th>LTV</th>\n",
       "      <th>MortDate</th>\n",
       "      <th>Purpose</th>\n",
       "      <th>Coop</th>\n",
       "      <th>Product</th>\n",
       "      <th>FedGuar</th>\n",
       "      <th>...</th>\n",
       "      <th>Back</th>\n",
       "      <th>LTV_M</th>\n",
       "      <th>Purpose_M</th>\n",
       "      <th>Coop_M</th>\n",
       "      <th>Product_M</th>\n",
       "      <th>Occup_M</th>\n",
       "      <th>Back_M</th>\n",
       "      <th>BoCreditScor_M</th>\n",
       "      <th>PropType_M</th>\n",
       "      <th>Loan_Multiplier</th>\n",
       "    </tr>\n",
       "  </thead>\n",
       "  <tbody>\n",
       "    <tr>\n",
       "      <th>count</th>\n",
       "      <td>60989.0</td>\n",
       "      <td>6.098900e+04</td>\n",
       "      <td>60989.000000</td>\n",
       "      <td>60989.000000</td>\n",
       "      <td>60989.000000</td>\n",
       "      <td>60989.000000</td>\n",
       "      <td>60989.000000</td>\n",
       "      <td>60989.0</td>\n",
       "      <td>60989.0</td>\n",
       "      <td>60989.000000</td>\n",
       "      <td>...</td>\n",
       "      <td>60989.000000</td>\n",
       "      <td>60989.000000</td>\n",
       "      <td>60989.000000</td>\n",
       "      <td>60989.0</td>\n",
       "      <td>6.098900e+04</td>\n",
       "      <td>60989.000000</td>\n",
       "      <td>6.098900e+04</td>\n",
       "      <td>60989.000000</td>\n",
       "      <td>60989.000000</td>\n",
       "      <td>60989.000000</td>\n",
       "    </tr>\n",
       "    <tr>\n",
       "      <th>mean</th>\n",
       "      <td>2016.0</td>\n",
       "      <td>2.033385e+06</td>\n",
       "      <td>1.650246</td>\n",
       "      <td>211973.001886</td>\n",
       "      <td>0.746919</td>\n",
       "      <td>2015.947023</td>\n",
       "      <td>1.559183</td>\n",
       "      <td>2.0</td>\n",
       "      <td>1.0</td>\n",
       "      <td>0.146666</td>\n",
       "      <td>...</td>\n",
       "      <td>0.290169</td>\n",
       "      <td>0.129744</td>\n",
       "      <td>1.338671</td>\n",
       "      <td>1.0</td>\n",
       "      <td>8.790000e-01</td>\n",
       "      <td>1.005951</td>\n",
       "      <td>2.345000e+00</td>\n",
       "      <td>1.313974</td>\n",
       "      <td>1.009082</td>\n",
       "      <td>0.469915</td>\n",
       "    </tr>\n",
       "    <tr>\n",
       "      <th>std</th>\n",
       "      <td>0.0</td>\n",
       "      <td>1.846637e+04</td>\n",
       "      <td>2.031755</td>\n",
       "      <td>120582.737916</td>\n",
       "      <td>0.156082</td>\n",
       "      <td>0.233522</td>\n",
       "      <td>0.504450</td>\n",
       "      <td>0.0</td>\n",
       "      <td>0.0</td>\n",
       "      <td>0.561976</td>\n",
       "      <td>...</td>\n",
       "      <td>0.088374</td>\n",
       "      <td>0.000838</td>\n",
       "      <td>0.303138</td>\n",
       "      <td>0.0</td>\n",
       "      <td>6.779077e-13</td>\n",
       "      <td>0.042117</td>\n",
       "      <td>9.978766e-13</td>\n",
       "      <td>0.915258</td>\n",
       "      <td>0.053455</td>\n",
       "      <td>0.331055</td>\n",
       "    </tr>\n",
       "    <tr>\n",
       "      <th>min</th>\n",
       "      <td>2016.0</td>\n",
       "      <td>2.002345e+06</td>\n",
       "      <td>0.015900</td>\n",
       "      <td>11500.000000</td>\n",
       "      <td>0.010000</td>\n",
       "      <td>2013.000000</td>\n",
       "      <td>1.000000</td>\n",
       "      <td>2.0</td>\n",
       "      <td>1.0</td>\n",
       "      <td>0.000000</td>\n",
       "      <td>...</td>\n",
       "      <td>0.004200</td>\n",
       "      <td>0.127000</td>\n",
       "      <td>1.000000</td>\n",
       "      <td>1.0</td>\n",
       "      <td>8.790000e-01</td>\n",
       "      <td>1.000000</td>\n",
       "      <td>2.345000e+00</td>\n",
       "      <td>0.743000</td>\n",
       "      <td>1.000000</td>\n",
       "      <td>0.194502</td>\n",
       "    </tr>\n",
       "    <tr>\n",
       "      <th>25%</th>\n",
       "      <td>2016.0</td>\n",
       "      <td>2.017593e+06</td>\n",
       "      <td>0.938600</td>\n",
       "      <td>120914.000000</td>\n",
       "      <td>0.670000</td>\n",
       "      <td>2016.000000</td>\n",
       "      <td>1.000000</td>\n",
       "      <td>2.0</td>\n",
       "      <td>1.0</td>\n",
       "      <td>0.000000</td>\n",
       "      <td>...</td>\n",
       "      <td>0.222800</td>\n",
       "      <td>0.130000</td>\n",
       "      <td>1.000000</td>\n",
       "      <td>1.0</td>\n",
       "      <td>8.790000e-01</td>\n",
       "      <td>1.000000</td>\n",
       "      <td>2.345000e+00</td>\n",
       "      <td>0.743000</td>\n",
       "      <td>1.000000</td>\n",
       "      <td>0.259622</td>\n",
       "    </tr>\n",
       "    <tr>\n",
       "      <th>50%</th>\n",
       "      <td>2016.0</td>\n",
       "      <td>2.032841e+06</td>\n",
       "      <td>1.380200</td>\n",
       "      <td>184000.000000</td>\n",
       "      <td>0.800000</td>\n",
       "      <td>2016.000000</td>\n",
       "      <td>2.000000</td>\n",
       "      <td>2.0</td>\n",
       "      <td>1.0</td>\n",
       "      <td>0.000000</td>\n",
       "      <td>...</td>\n",
       "      <td>0.290000</td>\n",
       "      <td>0.130000</td>\n",
       "      <td>1.610000</td>\n",
       "      <td>1.0</td>\n",
       "      <td>8.790000e-01</td>\n",
       "      <td>1.000000</td>\n",
       "      <td>2.345000e+00</td>\n",
       "      <td>0.743000</td>\n",
       "      <td>1.000000</td>\n",
       "      <td>0.320546</td>\n",
       "    </tr>\n",
       "    <tr>\n",
       "      <th>75%</th>\n",
       "      <td>2016.0</td>\n",
       "      <td>2.048088e+06</td>\n",
       "      <td>1.965700</td>\n",
       "      <td>276000.000000</td>\n",
       "      <td>0.800000</td>\n",
       "      <td>2016.000000</td>\n",
       "      <td>2.000000</td>\n",
       "      <td>2.0</td>\n",
       "      <td>1.0</td>\n",
       "      <td>0.000000</td>\n",
       "      <td>...</td>\n",
       "      <td>0.360000</td>\n",
       "      <td>0.130000</td>\n",
       "      <td>1.610000</td>\n",
       "      <td>1.0</td>\n",
       "      <td>8.790000e-01</td>\n",
       "      <td>1.000000</td>\n",
       "      <td>2.345000e+00</td>\n",
       "      <td>1.760000</td>\n",
       "      <td>1.000000</td>\n",
       "      <td>0.759300</td>\n",
       "    </tr>\n",
       "    <tr>\n",
       "      <th>max</th>\n",
       "      <td>2016.0</td>\n",
       "      <td>2.067614e+06</td>\n",
       "      <td>176.626300</td>\n",
       "      <td>787838.000000</td>\n",
       "      <td>1.390000</td>\n",
       "      <td>2016.000000</td>\n",
       "      <td>4.000000</td>\n",
       "      <td>2.0</td>\n",
       "      <td>1.0</td>\n",
       "      <td>3.000000</td>\n",
       "      <td>...</td>\n",
       "      <td>0.988800</td>\n",
       "      <td>0.130000</td>\n",
       "      <td>1.610000</td>\n",
       "      <td>1.0</td>\n",
       "      <td>8.790000e-01</td>\n",
       "      <td>1.304000</td>\n",
       "      <td>2.345000e+00</td>\n",
       "      <td>7.426000</td>\n",
       "      <td>1.930000</td>\n",
       "      <td>4.005008</td>\n",
       "    </tr>\n",
       "  </tbody>\n",
       "</table>\n",
       "<p>8 rows × 22 columns</p>\n",
       "</div>"
      ],
      "text/plain": [
       "          Year   Assigned_ID        IncRat            UPB           LTV  \\\n",
       "count  60989.0  6.098900e+04  60989.000000   60989.000000  60989.000000   \n",
       "mean    2016.0  2.033385e+06      1.650246  211973.001886      0.746919   \n",
       "std        0.0  1.846637e+04      2.031755  120582.737916      0.156082   \n",
       "min     2016.0  2.002345e+06      0.015900   11500.000000      0.010000   \n",
       "25%     2016.0  2.017593e+06      0.938600  120914.000000      0.670000   \n",
       "50%     2016.0  2.032841e+06      1.380200  184000.000000      0.800000   \n",
       "75%     2016.0  2.048088e+06      1.965700  276000.000000      0.800000   \n",
       "max     2016.0  2.067614e+06    176.626300  787838.000000      1.390000   \n",
       "\n",
       "           MortDate       Purpose     Coop  Product       FedGuar  \\\n",
       "count  60989.000000  60989.000000  60989.0  60989.0  60989.000000   \n",
       "mean    2015.947023      1.559183      2.0      1.0      0.146666   \n",
       "std        0.233522      0.504450      0.0      0.0      0.561976   \n",
       "min     2013.000000      1.000000      2.0      1.0      0.000000   \n",
       "25%     2016.000000      1.000000      2.0      1.0      0.000000   \n",
       "50%     2016.000000      2.000000      2.0      1.0      0.000000   \n",
       "75%     2016.000000      2.000000      2.0      1.0      0.000000   \n",
       "max     2016.000000      4.000000      2.0      1.0      3.000000   \n",
       "\n",
       "            ...                 Back         LTV_M     Purpose_M   Coop_M  \\\n",
       "count       ...         60989.000000  60989.000000  60989.000000  60989.0   \n",
       "mean        ...             0.290169      0.129744      1.338671      1.0   \n",
       "std         ...             0.088374      0.000838      0.303138      0.0   \n",
       "min         ...             0.004200      0.127000      1.000000      1.0   \n",
       "25%         ...             0.222800      0.130000      1.000000      1.0   \n",
       "50%         ...             0.290000      0.130000      1.610000      1.0   \n",
       "75%         ...             0.360000      0.130000      1.610000      1.0   \n",
       "max         ...             0.988800      0.130000      1.610000      1.0   \n",
       "\n",
       "          Product_M       Occup_M        Back_M  BoCreditScor_M    PropType_M  \\\n",
       "count  6.098900e+04  60989.000000  6.098900e+04    60989.000000  60989.000000   \n",
       "mean   8.790000e-01      1.005951  2.345000e+00        1.313974      1.009082   \n",
       "std    6.779077e-13      0.042117  9.978766e-13        0.915258      0.053455   \n",
       "min    8.790000e-01      1.000000  2.345000e+00        0.743000      1.000000   \n",
       "25%    8.790000e-01      1.000000  2.345000e+00        0.743000      1.000000   \n",
       "50%    8.790000e-01      1.000000  2.345000e+00        0.743000      1.000000   \n",
       "75%    8.790000e-01      1.000000  2.345000e+00        1.760000      1.000000   \n",
       "max    8.790000e-01      1.304000  2.345000e+00        7.426000      1.930000   \n",
       "\n",
       "       Loan_Multiplier  \n",
       "count     60989.000000  \n",
       "mean          0.469915  \n",
       "std           0.331055  \n",
       "min           0.194502  \n",
       "25%           0.259622  \n",
       "50%           0.320546  \n",
       "75%           0.759300  \n",
       "max           4.005008  \n",
       "\n",
       "[8 rows x 22 columns]"
      ]
     },
     "execution_count": 8,
     "metadata": {},
     "output_type": "execute_result"
    }
   ],
   "source": [
    "# Describing the data\n",
    "data.describe()"
   ]
  },
  {
   "cell_type": "code",
   "execution_count": 16,
   "metadata": {},
   "outputs": [
    {
     "name": "stdout",
     "output_type": "stream",
     "text": [
      "(array([6.0946e+04, 2.9000e+01, 3.0000e+00, 2.0000e+00, 2.0000e+00,\n",
      "       0.0000e+00, 3.0000e+00, 0.0000e+00, 2.0000e+00, 2.0000e+00]), array([1.5900000e-02, 1.7676940e+01, 3.5337980e+01, 5.2999020e+01,\n",
      "       7.0660060e+01, 8.8321100e+01, 1.0598214e+02, 1.2364318e+02,\n",
      "       1.4130422e+02, 1.5896526e+02, 1.7662630e+02]), <a list of 10 Patch objects>)\n"
     ]
    },
    {
     "data": {
      "image/png": "[encoded data removed]",
      "text/plain": [
       "<Figure size 432x288 with 1 Axes>"
      ]
     },
     "metadata": {
      "needs_background": "light"
     },
     "output_type": "display_data"
    }
   ],
   "source": [
    "print(plt.hist(data.IncRat))"
   ]
  },
  {
   "cell_type": "code",
   "execution_count": 17,
   "metadata": {},
   "outputs": [
    {
     "name": "stdout",
     "output_type": "stream",
     "text": [
      "(array([7.2890e+03, 1.9418e+04, 1.4669e+04, 8.9210e+03, 4.9280e+03,\n",
      "       3.5510e+03, 1.1560e+03, 1.0430e+03, 8.0000e+00, 6.0000e+00]), array([ 11500. ,  89133.8, 166767.6, 244401.4, 322035.2, 399669. ,\n",
      "       477302.8, 554936.6, 632570.4, 710204.2, 787838. ]), <a list of 10 Patch objects>)\n"
     ]
    },
    {
     "data": {
      "image/png": "[encoded data removed]",
      "text/plain": [
       "<Figure size 432x288 with 1 Axes>"
      ]
     },
     "metadata": {
      "needs_background": "light"
     },
     "output_type": "display_data"
    }
   ],
   "source": [
    "print(plt.hist(data.UPB))"
   ]
  },
  {
   "cell_type": "code",
   "execution_count": 18,
   "metadata": {},
   "outputs": [
    {
     "name": "stdout",
     "output_type": "stream",
     "text": [
      "(array([4.2000e+01, 6.2600e+02, 2.1100e+03, 4.9600e+03, 9.6650e+03,\n",
      "       3.0411e+04, 1.0286e+04, 2.8810e+03, 7.0000e+00, 1.0000e+00]), array([0.01 , 0.148, 0.286, 0.424, 0.562, 0.7  , 0.838, 0.976, 1.114,\n",
      "       1.252, 1.39 ]), <a list of 10 Patch objects>)\n"
     ]
    },
    {
     "data": {
      "image/png": "[encoded data removed]",
      "text/plain": [
       "<Figure size 432x288 with 1 Axes>"
      ]
     },
     "metadata": {
      "needs_background": "light"
     },
     "output_type": "display_data"
    }
   ],
   "source": [
    "print(plt.hist(data.LTV))"
   ]
  },
  {
   "cell_type": "code",
   "execution_count": 19,
   "metadata": {},
   "outputs": [
    {
     "name": "stdout",
     "output_type": "stream",
     "text": [
      "(array([3.4000e+01, 0.0000e+00, 0.0000e+00, 3.1000e+01, 0.0000e+00,\n",
      "       0.0000e+00, 3.0670e+03, 0.0000e+00, 0.0000e+00, 5.7857e+04]), array([2013. , 2013.3, 2013.6, 2013.9, 2014.2, 2014.5, 2014.8, 2015.1,\n",
      "       2015.4, 2015.7, 2016. ]), <a list of 10 Patch objects>)\n"
     ]
    },
    {
     "data": {
      "image/png": "[encoded data removed]",
      "text/plain": [
       "<Figure size 432x288 with 1 Axes>"
      ]
     },
     "metadata": {
      "needs_background": "light"
     },
     "output_type": "display_data"
    }
   ],
   "source": [
    "print(plt.hist(data.MortDate))"
   ]
  },
  {
   "cell_type": "code",
   "execution_count": 20,
   "metadata": {},
   "outputs": [
    {
     "name": "stdout",
     "output_type": "stream",
     "text": [
      "(array([27047.,     0.,     0., 33861.,     0.,     0.,     0.,     0.,\n",
      "           0.,    81.]), array([1. , 1.3, 1.6, 1.9, 2.2, 2.5, 2.8, 3.1, 3.4, 3.7, 4. ]), <a list of 10 Patch objects>)\n"
     ]
    },
    {
     "data": {
      "image/png": "[encoded data removed]",
      "text/plain": [
       "<Figure size 432x288 with 1 Axes>"
      ]
     },
     "metadata": {
      "needs_background": "light"
     },
     "output_type": "display_data"
    }
   ],
   "source": [
    "print(plt.hist(data.Purpose))"
   ]
  },
  {
   "cell_type": "code",
   "execution_count": 21,
   "metadata": {},
   "outputs": [
    {
     "name": "stdout",
     "output_type": "stream",
     "text": [
      "(array([    0.,     0.,     0.,     0.,     0., 60989.,     0.,     0.,\n",
      "           0.,     0.]), array([0.5, 0.6, 0.7, 0.8, 0.9, 1. , 1.1, 1.2, 1.3, 1.4, 1.5]), <a list of 10 Patch objects>)\n"
     ]
    },
    {
     "data": {
      "image/png": "[encoded data removed]",
      "text/plain": [
       "<Figure size 432x288 with 1 Axes>"
      ]
     },
     "metadata": {
      "needs_background": "light"
     },
     "output_type": "display_data"
    }
   ],
   "source": [
    "print(plt.hist(data.Product))"
   ]
  },
  {
   "cell_type": "code",
   "execution_count": 23,
   "metadata": {},
   "outputs": [
    {
     "name": "stdout",
     "output_type": "stream",
     "text": [
      "(array([56512.,     0.,     0.,  1355.,     0.,     0.,  1776.,     0.,\n",
      "           0.,  1346.]), array([0. , 0.3, 0.6, 0.9, 1.2, 1.5, 1.8, 2.1, 2.4, 2.7, 3. ]), <a list of 10 Patch objects>)\n"
     ]
    },
    {
     "data": {
      "image/png": "[encoded data removed]",
      "text/plain": [
       "<Figure size 432x288 with 1 Axes>"
      ]
     },
     "metadata": {
      "needs_background": "light"
     },
     "output_type": "display_data"
    }
   ],
   "source": [
    "print(plt.hist(data.FedGuar))"
   ]
  },
  {
   "cell_type": "code",
   "execution_count": 24,
   "metadata": {},
   "outputs": [
    {
     "name": "stdout",
     "output_type": "stream",
     "text": [
      "(array([4.6750e+03, 3.1208e+04, 1.9445e+04, 4.9390e+03, 7.0700e+02,\n",
      "       8.0000e+00, 1.0000e+00, 0.0000e+00, 3.0000e+00, 3.0000e+00]), array([1.0000e-04, 9.7290e-02, 1.9448e-01, 2.9167e-01, 3.8886e-01,\n",
      "       4.8605e-01, 5.8324e-01, 6.8043e-01, 7.7762e-01, 8.7481e-01,\n",
      "       9.7200e-01]), <a list of 10 Patch objects>)\n"
     ]
    },
    {
     "data": {
      "image/png": "[encoded data removed]",
      "text/plain": [
       "<Figure size 432x288 with 1 Axes>"
      ]
     },
     "metadata": {
      "needs_background": "light"
     },
     "output_type": "display_data"
    }
   ],
   "source": [
    "print(plt.hist(data.Front))"
   ]
  },
  {
   "cell_type": "code",
   "execution_count": 25,
   "metadata": {},
   "outputs": [
    {
     "name": "stdout",
     "output_type": "stream",
     "text": [
      "(array([6.8600e+02, 1.0355e+04, 2.0893e+04, 2.1533e+04, 7.2080e+03,\n",
      "       2.8000e+02, 1.7000e+01, 8.0000e+00, 5.0000e+00, 4.0000e+00]), array([0.0042 , 0.10266, 0.20112, 0.29958, 0.39804, 0.4965 , 0.59496,\n",
      "       0.69342, 0.79188, 0.89034, 0.9888 ]), <a list of 10 Patch objects>)\n"
     ]
    },
    {
     "data": {
      "image/png": "[encoded data removed]",
      "text/plain": [
       "<Figure size 432x288 with 1 Axes>"
      ]
     },
     "metadata": {
      "needs_background": "light"
     },
     "output_type": "display_data"
    }
   ],
   "source": [
    "print(plt.hist(data.Back))"
   ]
  },
  {
   "cell_type": "code",
   "execution_count": 40,
   "metadata": {},
   "outputs": [
    {
     "name": "stdout",
     "output_type": "stream",
     "text": [
      "(array([3.6252e+04, 8.0510e+03, 5.5300e+02, 1.1611e+04, 4.1700e+02,\n",
      "       1.1400e+02, 2.2650e+03, 9.3500e+02, 6.9000e+01, 1.5000e+01,\n",
      "       1.0000e+00, 1.3200e+02, 5.0900e+02, 3.0000e+00, 1.2000e+01,\n",
      "       1.4000e+01, 5.0000e+00, 0.0000e+00, 0.0000e+00, 2.8000e+01,\n",
      "       0.0000e+00, 0.0000e+00, 0.0000e+00, 0.0000e+00, 3.0000e+00]), array([0.19450208, 0.3469223 , 0.49934252, 0.65176274, 0.80418295,\n",
      "       0.95660317, 1.10902339, 1.26144361, 1.41386382, 1.56628404,\n",
      "       1.71870426, 1.87112448, 2.02354469, 2.17596491, 2.32838513,\n",
      "       2.48080535, 2.63322556, 2.78564578, 2.938066  , 3.09048622,\n",
      "       3.24290643, 3.39532665, 3.54774687, 3.70016709, 3.8525873 ,\n",
      "       4.00500752]), <a list of 25 Patch objects>)\n",
      "(0.19, 0.347]     36252\n",
      "(0.652, 0.804]    11611\n",
      "(0.347, 0.499]     8051\n",
      "(1.109, 1.261]     2265\n",
      "(1.261, 1.414]      935\n",
      "(0.499, 0.652]      553\n",
      "(2.024, 2.176]      509\n",
      "(0.804, 0.957]      417\n",
      "(1.871, 2.024]      132\n",
      "(0.957, 1.109]      114\n",
      "(1.414, 1.566]       69\n",
      "(3.09, 3.243]        28\n",
      "(1.566, 1.719]       15\n",
      "(2.481, 2.633]       14\n",
      "(2.328, 2.481]       12\n",
      "(2.633, 2.786]        5\n",
      "(3.853, 4.005]        3\n",
      "(2.176, 2.328]        3\n",
      "(1.719, 1.871]        1\n",
      "(2.938, 3.09]         0\n",
      "(3.7, 3.853]          0\n",
      "(3.243, 3.395]        0\n",
      "(3.395, 3.548]        0\n",
      "(3.548, 3.7]          0\n",
      "(2.786, 2.938]        0\n",
      "Name: Loan_Multiplier, dtype: int64\n"
     ]
    },
    {
     "data": {
      "image/png": "[encoded data removed]",
      "text/plain": [
       "<Figure size 432x288 with 1 Axes>"
      ]
     },
     "metadata": {
      "needs_background": "light"
     },
     "output_type": "display_data"
    }
   ],
   "source": [
    "print(plt.hist(data.Loan_Multiplier, bins=25))\n",
    "print(data[\"Loan_Multiplier\"].value_counts(bins=25))"
   ]
  }
 ],
 "metadata": {
  "kernelspec": {
   "display_name": "Python 3",
   "language": "python",
   "name": "python3"
  },
  "language_info": {
   "codemirror_mode": {
    "name": "ipython",
    "version": 3
   },
   "file_extension": ".py",
   "mimetype": "text/x-python",
   "name": "python",
   "nbconvert_exporter": "python",
   "pygments_lexer": "ipython3",
   "version": "3.7.0"
  }
 },
 "nbformat": 4,
 "nbformat_minor": 2
}
