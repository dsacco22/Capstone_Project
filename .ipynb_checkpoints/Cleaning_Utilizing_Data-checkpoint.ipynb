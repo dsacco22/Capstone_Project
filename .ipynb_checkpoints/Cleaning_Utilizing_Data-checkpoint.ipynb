{
 "cells": [
  {
   "cell_type": "markdown",
   "metadata": {},
   "source": [
    "### Descriptive Statistics ###"
   ]
  },
  {
   "cell_type": "code",
   "execution_count": 1,
   "metadata": {},
   "outputs": [],
   "source": [
    "## Importing packages\n",
    "import numpy as np\n",
    "import pandas as pd\n",
    "import matplotlib.pyplot as plt\n",
    "import seaborn as sns\n",
    "import psycopg2  ## PostgreSQL Connection Package"
   ]
  },
  {
   "cell_type": "markdown",
   "metadata": {},
   "source": [
    "#### PostgreSQL Connection Details ####"
   ]
  },
  {
   "cell_type": "code",
   "execution_count": 2,
   "metadata": {},
   "outputs": [
    {
     "name": "stdout",
     "output_type": "stream",
     "text": [
      "{'user': 'capstonedba', 'dbname': 'capstonedba', 'host': 'capstone-db.c9mqkx12zppw.us-east-1.rds.amazonaws.com', 'port': '5432', 'tty': '', 'options': '', 'sslmode': 'prefer', 'sslcompression': '0', 'krbsrvname': 'postgres', 'target_session_attrs': 'any'} \n",
      "\n",
      "You are connected to -  ('PostgreSQL 10.6 on x86_64-pc-linux-gnu, compiled by gcc (GCC) 4.8.3 20140911 (Red Hat 4.8.3-9), 64-bit',) \n",
      "\n"
     ]
    }
   ],
   "source": [
    "# Connection to PostgreSQL Database\n",
    "connection = psycopg2.connect(user='capstonedba', password='ubaEYyxl3UimQCGa4S1e8yvlZmkGRK', host='capstone-db.c9mqkx12zppw.us-east-1.rds.amazonaws.com', port='5432', database='capstonedba')\n",
    "\n",
    "cursor = connection.cursor()\n",
    "\n",
    "## Printing database connection properties\n",
    "print(connection.get_dsn_parameters(),'\\n')\n",
    "\n",
    "## Printing PostgreSQL Database version\n",
    "cursor.execute(\"SELECT version();\")\n",
    "record = cursor.fetchone()\n",
    "print(\"You are connected to - \", record, '\\n')"
   ]
  },
  {
   "cell_type": "code",
   "execution_count": 3,
   "metadata": {},
   "outputs": [
    {
     "name": "stdout",
     "output_type": "stream",
     "text": [
      "     0        1        2       3       4     5     6   7   8   9   \\\n",
      "0  2015  1997542  Atlanta  1.6984  334244     1  2015   2   2   1   \n",
      "1  2015  1997543  Atlanta  2.4514  126790  0.59  2015   1   2   1   \n",
      "2  2015  1997544  Atlanta  1.2603  173761  0.65  2015   2   2   1   \n",
      "3  2015  1997545  Atlanta  1.5047  103961  0.97  2015   2   2   1   \n",
      "4  2015  1997546  Atlanta  1.5774  411696  0.84  2015   1   2   1   \n",
      "\n",
      "      ...         15     16    17 18     19 20     21     22 23           24  \n",
      "0     ...       PT07  0.406  1.61  1  0.879  1   2.02   1.76  1  2.042701096  \n",
      "1     ...       PT07  0.255     1  1  0.879  1      1  0.743  1  0.166539735  \n",
      "2     ...       PT01  0.371  1.61  1  0.879  1      1   2.85  1  1.496351147  \n",
      "3     ...       PT01  0.406  1.61  1  0.879  1      1  0.743  1  0.426903385  \n",
      "4     ...       PT01  0.406     1  1  0.879  1  2.345  0.743  1  0.621794061  \n",
      "\n",
      "[5 rows x 25 columns]\n"
     ]
    }
   ],
   "source": [
    "# Pulling data from database for dataframe\n",
    "## Creating variable for SQL query\n",
    "sql = \"SELECT * FROM loans2 WHERE year='2015';\"\n",
    "sql2 = \"SELECT * FROM loans2 WHERE year='2016';\"\n",
    "### Executing sql query on database\n",
    "cursor.execute(sql)\n",
    "\n",
    "#### Fetching the results from query\n",
    "data = cursor.fetchall()\n",
    "\n",
    "##### Storing them in a variable and then making that variable a DataFrame\n",
    "data = pd.DataFrame(data)\n",
    "print(data.head())"
   ]
  },
  {
   "cell_type": "code",
   "execution_count": 4,
   "metadata": {},
   "outputs": [
    {
     "name": "stdout",
     "output_type": "stream",
     "text": [
      "     0        1        2       3       4     5     6   7   8   9   \\\n",
      "0  2016  2004452  Atlanta  1.5112  383368  0.84  2015   2   2   1   \n",
      "1  2016  2004453  Atlanta  0.7347  112822  0.76  2015   2   2   1   \n",
      "2  2016  2004454  Atlanta  0.8536  125345     1  2015   1   2   1   \n",
      "3  2016  2004455  Atlanta  1.4262  162084  1.03  2015   1   2   1   \n",
      "4  2016  2004456  Atlanta  2.0272  396490  0.89  2015   1   2   1   \n",
      "\n",
      "      ...         15     16    17 18     19 20     21    22 23           24  \n",
      "0     ...       PT07  1.526  1.61  1  0.879  1  2.019  1.76  1  7.673937742  \n",
      "1     ...       PT01      1  1.61  1  0.879  1      1  1.76  1    2.4907344  \n",
      "2     ...       PT01  2.846     1  1  0.879  1  2.019  1.76  1  8.889406321  \n",
      "3     ...       PT01  2.846     1  1  0.879  1  1.431  1.76  1  6.300515327  \n",
      "4     ...       PT07  2.348     1  1  0.879  1  1.431  1.76  1  5.198035836  \n",
      "\n",
      "[5 rows x 25 columns]\n"
     ]
    }
   ],
   "source": [
    "# Executing sql2 query on database\n",
    "cursor.execute(sql2)\n",
    "\n",
    "# Fetching the results from the database\n",
    "data2 = cursor.fetchall()\n",
    "\n",
    "# Storing 2016 data in a variable\n",
    "data2 = pd.DataFrame(data2)\n",
    "print(data2.head())\n",
    "\n",
    "# Appending the 2016 data to the 2015 data\n",
    "data = data.append(data2)"
   ]
  },
  {
   "cell_type": "code",
   "execution_count": 5,
   "metadata": {},
   "outputs": [
    {
     "name": "stdout",
     "output_type": "stream",
     "text": [
      "   Year  Assigned_ID     Bank  IncRat     UPB   LTV  MortDate  Purpose  Coop  \\\n",
      "0  2015      1997542  Atlanta  1.6984  334244     1      2015        2     2   \n",
      "1  2015      1997543  Atlanta  2.4514  126790  0.59      2015        1     2   \n",
      "2  2015      1997544  Atlanta  1.2603  173761  0.65      2015        2     2   \n",
      "3  2015      1997545  Atlanta  1.5047  103961  0.97      2015        2     2   \n",
      "4  2015      1997546  Atlanta  1.5774  411696  0.84      2015        1     2   \n",
      "\n",
      "   Product       ...        PropType  LTV_M Purpose_M Coop_M Product_M  \\\n",
      "0        1       ...            PT07  0.406      1.61      1     0.879   \n",
      "1        1       ...            PT07  0.255         1      1     0.879   \n",
      "2        1       ...            PT01  0.371      1.61      1     0.879   \n",
      "3        1       ...            PT01  0.406      1.61      1     0.879   \n",
      "4        1       ...            PT01  0.406         1      1     0.879   \n",
      "\n",
      "  Occup_M Back_M BoCreditScor_M PropType_M Loan_Multiplier  \n",
      "0       1   2.02           1.76          1     2.042701096  \n",
      "1       1      1          0.743          1     0.166539735  \n",
      "2       1      1           2.85          1     1.496351147  \n",
      "3       1      1          0.743          1     0.426903385  \n",
      "4       1  2.345          0.743          1     0.621794061  \n",
      "\n",
      "[5 rows x 25 columns]\n"
     ]
    }
   ],
   "source": [
    "# Manually Coding Columns for DataFrame\n",
    "data.columns = ['Year', 'Assigned_ID', 'Bank', 'IncRat', 'UPB', 'LTV', 'MortDate','Purpose', 'Coop', 'Product','FedGuar', 'Occup', 'Front','Back','BoCreditScor','PropType', 'LTV_M', 'Purpose_M','Coop_M','Product_M','Occup_M','Back_M','BoCreditScor_M','PropType_M','Loan_Multiplier']\n",
    "print(data.head())"
   ]
  },
  {
   "cell_type": "code",
   "execution_count": 6,
   "metadata": {},
   "outputs": [
    {
     "name": "stdout",
     "output_type": "stream",
     "text": [
      "<class 'pandas.core.frame.DataFrame'>\n",
      "Int64Index: 108469 entries, 0 to 60988\n",
      "Data columns (total 25 columns):\n",
      "Year               108469 non-null int64\n",
      "Assigned_ID        108469 non-null int64\n",
      "Bank               108469 non-null object\n",
      "IncRat             108469 non-null object\n",
      "UPB                108469 non-null object\n",
      "LTV                108469 non-null object\n",
      "MortDate           108469 non-null int64\n",
      "Purpose            108469 non-null int64\n",
      "Coop               108469 non-null int64\n",
      "Product            108469 non-null int64\n",
      "FedGuar            108469 non-null int64\n",
      "Occup              108469 non-null int64\n",
      "Front              108469 non-null object\n",
      "Back               108469 non-null object\n",
      "BoCreditScor       108469 non-null object\n",
      "PropType           108469 non-null object\n",
      "LTV_M              108469 non-null object\n",
      "Purpose_M          108469 non-null object\n",
      "Coop_M             108469 non-null object\n",
      "Product_M          108469 non-null object\n",
      "Occup_M            108469 non-null object\n",
      "Back_M             108469 non-null object\n",
      "BoCreditScor_M     108469 non-null object\n",
      "PropType_M         108469 non-null object\n",
      "Loan_Multiplier    108469 non-null object\n",
      "dtypes: int64(8), object(17)\n",
      "memory usage: 21.5+ MB\n"
     ]
    }
   ],
   "source": [
    "# Checking data types of columns\n",
    "data.info()"
   ]
  },
  {
   "cell_type": "code",
   "execution_count": 7,
   "metadata": {},
   "outputs": [],
   "source": [
    "# Recoding variables to the right data type\n",
    "data.IncRat = data.IncRat.astype(float)\n",
    "data.UPB = data.UPB.astype(int)\n",
    "data.LTV = data.LTV.astype(float)\n",
    "data.Front = data.Front.astype(float)\n",
    "data.Back = data.Back.astype(float)\n",
    "data.LTV_M = data.LTV_M.astype(float)\n",
    "data.Purpose_M = data.Purpose_M.astype(float)\n",
    "data.Coop_M = data.Coop_M.astype(float)\n",
    "data.Product_M = data.Product_M.astype(float)\n",
    "data.Occup_M = data.Occup_M.astype(float)\n",
    "data.Back_M = data.Back_M.astype(float)\n",
    "data.BoCreditScor_M = data.BoCreditScor_M.astype(float)\n",
    "data.PropType_M = data.PropType_M.astype(float)\n",
    "data.Loan_Multiplier = data.Loan_Multiplier.astype(float)"
   ]
  },
  {
   "cell_type": "code",
   "execution_count": 8,
   "metadata": {},
   "outputs": [
    {
     "name": "stdout",
     "output_type": "stream",
     "text": [
      "<class 'pandas.core.frame.DataFrame'>\n",
      "Int64Index: 108469 entries, 0 to 60988\n",
      "Data columns (total 25 columns):\n",
      "Year               108469 non-null int64\n",
      "Assigned_ID        108469 non-null int64\n",
      "Bank               108469 non-null object\n",
      "IncRat             108469 non-null float64\n",
      "UPB                108469 non-null int32\n",
      "LTV                108469 non-null float64\n",
      "MortDate           108469 non-null int64\n",
      "Purpose            108469 non-null int64\n",
      "Coop               108469 non-null int64\n",
      "Product            108469 non-null int64\n",
      "FedGuar            108469 non-null int64\n",
      "Occup              108469 non-null int64\n",
      "Front              108469 non-null float64\n",
      "Back               108469 non-null float64\n",
      "BoCreditScor       108469 non-null object\n",
      "PropType           108469 non-null object\n",
      "LTV_M              108469 non-null float64\n",
      "Purpose_M          108469 non-null float64\n",
      "Coop_M             108469 non-null float64\n",
      "Product_M          108469 non-null float64\n",
      "Occup_M            108469 non-null float64\n",
      "Back_M             108469 non-null float64\n",
      "BoCreditScor_M     108469 non-null float64\n",
      "PropType_M         108469 non-null float64\n",
      "Loan_Multiplier    108469 non-null float64\n",
      "dtypes: float64(13), int32(1), int64(8), object(3)\n",
      "memory usage: 21.1+ MB\n"
     ]
    }
   ],
   "source": [
    "# Checking data types of columns\n",
    "data.info()"
   ]
  },
  {
   "cell_type": "code",
   "execution_count": 9,
   "metadata": {},
   "outputs": [
    {
     "data": {
      "text/html": [
       "<div>\n",
       "<style scoped>\n",
       "    .dataframe tbody tr th:only-of-type {\n",
       "        vertical-align: middle;\n",
       "    }\n",
       "\n",
       "    .dataframe tbody tr th {\n",
       "        vertical-align: top;\n",
       "    }\n",
       "\n",
       "    .dataframe thead th {\n",
       "        text-align: right;\n",
       "    }\n",
       "</style>\n",
       "<table border=\"1\" class=\"dataframe\">\n",
       "  <thead>\n",
       "    <tr style=\"text-align: right;\">\n",
       "      <th></th>\n",
       "      <th>Year</th>\n",
       "      <th>Assigned_ID</th>\n",
       "      <th>IncRat</th>\n",
       "      <th>UPB</th>\n",
       "      <th>LTV</th>\n",
       "      <th>MortDate</th>\n",
       "      <th>Purpose</th>\n",
       "      <th>Coop</th>\n",
       "      <th>Product</th>\n",
       "      <th>FedGuar</th>\n",
       "      <th>...</th>\n",
       "      <th>Back</th>\n",
       "      <th>LTV_M</th>\n",
       "      <th>Purpose_M</th>\n",
       "      <th>Coop_M</th>\n",
       "      <th>Product_M</th>\n",
       "      <th>Occup_M</th>\n",
       "      <th>Back_M</th>\n",
       "      <th>BoCreditScor_M</th>\n",
       "      <th>PropType_M</th>\n",
       "      <th>Loan_Multiplier</th>\n",
       "    </tr>\n",
       "  </thead>\n",
       "  <tbody>\n",
       "    <tr>\n",
       "      <th>count</th>\n",
       "      <td>108469.000000</td>\n",
       "      <td>1.084690e+05</td>\n",
       "      <td>108469.000000</td>\n",
       "      <td>108469.000000</td>\n",
       "      <td>108469.000000</td>\n",
       "      <td>108469.000000</td>\n",
       "      <td>108469.000000</td>\n",
       "      <td>108469.0</td>\n",
       "      <td>108469.0</td>\n",
       "      <td>108469.000000</td>\n",
       "      <td>...</td>\n",
       "      <td>108469.000000</td>\n",
       "      <td>108469.000000</td>\n",
       "      <td>108469.000000</td>\n",
       "      <td>108469.0</td>\n",
       "      <td>1.084690e+05</td>\n",
       "      <td>108469.000000</td>\n",
       "      <td>108469.000000</td>\n",
       "      <td>108469.000000</td>\n",
       "      <td>108469.000000</td>\n",
       "      <td>108469.000000</td>\n",
       "    </tr>\n",
       "    <tr>\n",
       "      <th>mean</th>\n",
       "      <td>2015.562271</td>\n",
       "      <td>2.009266e+06</td>\n",
       "      <td>1.634137</td>\n",
       "      <td>203609.410661</td>\n",
       "      <td>0.746881</td>\n",
       "      <td>2015.503831</td>\n",
       "      <td>1.553642</td>\n",
       "      <td>2.0</td>\n",
       "      <td>1.0</td>\n",
       "      <td>0.152274</td>\n",
       "      <td>...</td>\n",
       "      <td>0.288806</td>\n",
       "      <td>0.753344</td>\n",
       "      <td>1.335444</td>\n",
       "      <td>1.0</td>\n",
       "      <td>8.790000e-01</td>\n",
       "      <td>1.005944</td>\n",
       "      <td>1.354748</td>\n",
       "      <td>1.315574</td>\n",
       "      <td>1.005107</td>\n",
       "      <td>1.736804</td>\n",
       "    </tr>\n",
       "    <tr>\n",
       "      <th>std</th>\n",
       "      <td>0.496109</td>\n",
       "      <td>3.206453e+04</td>\n",
       "      <td>2.391867</td>\n",
       "      <td>119080.163037</td>\n",
       "      <td>0.157230</td>\n",
       "      <td>0.561382</td>\n",
       "      <td>0.504572</td>\n",
       "      <td>0.0</td>\n",
       "      <td>0.0</td>\n",
       "      <td>0.583101</td>\n",
       "      <td>...</td>\n",
       "      <td>0.087571</td>\n",
       "      <td>0.744639</td>\n",
       "      <td>0.303478</td>\n",
       "      <td>0.0</td>\n",
       "      <td>7.378576e-13</td>\n",
       "      <td>0.042093</td>\n",
       "      <td>0.443740</td>\n",
       "      <td>0.913048</td>\n",
       "      <td>0.040336</td>\n",
       "      <td>3.069778</td>\n",
       "    </tr>\n",
       "    <tr>\n",
       "      <th>min</th>\n",
       "      <td>2015.000000</td>\n",
       "      <td>1.949641e+06</td>\n",
       "      <td>0.000300</td>\n",
       "      <td>11500.000000</td>\n",
       "      <td>0.010000</td>\n",
       "      <td>2012.000000</td>\n",
       "      <td>1.000000</td>\n",
       "      <td>2.0</td>\n",
       "      <td>1.0</td>\n",
       "      <td>0.000000</td>\n",
       "      <td>...</td>\n",
       "      <td>0.004200</td>\n",
       "      <td>0.127000</td>\n",
       "      <td>1.000000</td>\n",
       "      <td>1.0</td>\n",
       "      <td>8.790000e-01</td>\n",
       "      <td>1.000000</td>\n",
       "      <td>1.000000</td>\n",
       "      <td>0.000000</td>\n",
       "      <td>1.000000</td>\n",
       "      <td>0.000000</td>\n",
       "    </tr>\n",
       "    <tr>\n",
       "      <th>25%</th>\n",
       "      <td>2015.000000</td>\n",
       "      <td>1.981982e+06</td>\n",
       "      <td>0.917500</td>\n",
       "      <td>115000.000000</td>\n",
       "      <td>0.670000</td>\n",
       "      <td>2015.000000</td>\n",
       "      <td>1.000000</td>\n",
       "      <td>2.0</td>\n",
       "      <td>1.0</td>\n",
       "      <td>0.000000</td>\n",
       "      <td>...</td>\n",
       "      <td>0.221700</td>\n",
       "      <td>0.406000</td>\n",
       "      <td>1.000000</td>\n",
       "      <td>1.0</td>\n",
       "      <td>8.790000e-01</td>\n",
       "      <td>1.000000</td>\n",
       "      <td>1.000000</td>\n",
       "      <td>0.743000</td>\n",
       "      <td>1.000000</td>\n",
       "      <td>0.426903</td>\n",
       "    </tr>\n",
       "    <tr>\n",
       "      <th>50%</th>\n",
       "      <td>2016.000000</td>\n",
       "      <td>2.009100e+06</td>\n",
       "      <td>1.352200</td>\n",
       "      <td>174880.000000</td>\n",
       "      <td>0.800000</td>\n",
       "      <td>2016.000000</td>\n",
       "      <td>2.000000</td>\n",
       "      <td>2.0</td>\n",
       "      <td>1.0</td>\n",
       "      <td>0.000000</td>\n",
       "      <td>...</td>\n",
       "      <td>0.290000</td>\n",
       "      <td>0.406000</td>\n",
       "      <td>1.610000</td>\n",
       "      <td>1.0</td>\n",
       "      <td>8.790000e-01</td>\n",
       "      <td>1.000000</td>\n",
       "      <td>1.000000</td>\n",
       "      <td>0.743000</td>\n",
       "      <td>1.000000</td>\n",
       "      <td>0.796880</td>\n",
       "    </tr>\n",
       "    <tr>\n",
       "      <th>75%</th>\n",
       "      <td>2016.000000</td>\n",
       "      <td>2.036218e+06</td>\n",
       "      <td>1.937600</td>\n",
       "      <td>264375.000000</td>\n",
       "      <td>0.800000</td>\n",
       "      <td>2016.000000</td>\n",
       "      <td>2.000000</td>\n",
       "      <td>2.0</td>\n",
       "      <td>1.0</td>\n",
       "      <td>0.000000</td>\n",
       "      <td>...</td>\n",
       "      <td>0.357000</td>\n",
       "      <td>1.000000</td>\n",
       "      <td>1.610000</td>\n",
       "      <td>1.0</td>\n",
       "      <td>8.790000e-01</td>\n",
       "      <td>1.000000</td>\n",
       "      <td>2.019000</td>\n",
       "      <td>1.760000</td>\n",
       "      <td>1.000000</td>\n",
       "      <td>1.716564</td>\n",
       "    </tr>\n",
       "    <tr>\n",
       "      <th>max</th>\n",
       "      <td>2016.000000</td>\n",
       "      <td>2.067614e+06</td>\n",
       "      <td>499.699100</td>\n",
       "      <td>787838.000000</td>\n",
       "      <td>1.420000</td>\n",
       "      <td>2016.000000</td>\n",
       "      <td>4.000000</td>\n",
       "      <td>2.0</td>\n",
       "      <td>1.0</td>\n",
       "      <td>3.000000</td>\n",
       "      <td>...</td>\n",
       "      <td>1.764700</td>\n",
       "      <td>2.846000</td>\n",
       "      <td>1.610000</td>\n",
       "      <td>1.0</td>\n",
       "      <td>8.790000e-01</td>\n",
       "      <td>1.304000</td>\n",
       "      <td>2.710000</td>\n",
       "      <td>7.462000</td>\n",
       "      <td>1.930000</td>\n",
       "      <td>70.137041</td>\n",
       "    </tr>\n",
       "  </tbody>\n",
       "</table>\n",
       "<p>8 rows × 22 columns</p>\n",
       "</div>"
      ],
      "text/plain": [
       "                Year   Assigned_ID         IncRat            UPB  \\\n",
       "count  108469.000000  1.084690e+05  108469.000000  108469.000000   \n",
       "mean     2015.562271  2.009266e+06       1.634137  203609.410661   \n",
       "std         0.496109  3.206453e+04       2.391867  119080.163037   \n",
       "min      2015.000000  1.949641e+06       0.000300   11500.000000   \n",
       "25%      2015.000000  1.981982e+06       0.917500  115000.000000   \n",
       "50%      2016.000000  2.009100e+06       1.352200  174880.000000   \n",
       "75%      2016.000000  2.036218e+06       1.937600  264375.000000   \n",
       "max      2016.000000  2.067614e+06     499.699100  787838.000000   \n",
       "\n",
       "                 LTV       MortDate        Purpose      Coop   Product  \\\n",
       "count  108469.000000  108469.000000  108469.000000  108469.0  108469.0   \n",
       "mean        0.746881    2015.503831       1.553642       2.0       1.0   \n",
       "std         0.157230       0.561382       0.504572       0.0       0.0   \n",
       "min         0.010000    2012.000000       1.000000       2.0       1.0   \n",
       "25%         0.670000    2015.000000       1.000000       2.0       1.0   \n",
       "50%         0.800000    2016.000000       2.000000       2.0       1.0   \n",
       "75%         0.800000    2016.000000       2.000000       2.0       1.0   \n",
       "max         1.420000    2016.000000       4.000000       2.0       1.0   \n",
       "\n",
       "             FedGuar       ...                  Back          LTV_M  \\\n",
       "count  108469.000000       ...         108469.000000  108469.000000   \n",
       "mean        0.152274       ...              0.288806       0.753344   \n",
       "std         0.583101       ...              0.087571       0.744639   \n",
       "min         0.000000       ...              0.004200       0.127000   \n",
       "25%         0.000000       ...              0.221700       0.406000   \n",
       "50%         0.000000       ...              0.290000       0.406000   \n",
       "75%         0.000000       ...              0.357000       1.000000   \n",
       "max         3.000000       ...              1.764700       2.846000   \n",
       "\n",
       "           Purpose_M    Coop_M     Product_M        Occup_M         Back_M  \\\n",
       "count  108469.000000  108469.0  1.084690e+05  108469.000000  108469.000000   \n",
       "mean        1.335444       1.0  8.790000e-01       1.005944       1.354748   \n",
       "std         0.303478       0.0  7.378576e-13       0.042093       0.443740   \n",
       "min         1.000000       1.0  8.790000e-01       1.000000       1.000000   \n",
       "25%         1.000000       1.0  8.790000e-01       1.000000       1.000000   \n",
       "50%         1.610000       1.0  8.790000e-01       1.000000       1.000000   \n",
       "75%         1.610000       1.0  8.790000e-01       1.000000       2.019000   \n",
       "max         1.610000       1.0  8.790000e-01       1.304000       2.710000   \n",
       "\n",
       "       BoCreditScor_M     PropType_M  Loan_Multiplier  \n",
       "count   108469.000000  108469.000000    108469.000000  \n",
       "mean         1.315574       1.005107         1.736804  \n",
       "std          0.913048       0.040336         3.069778  \n",
       "min          0.000000       1.000000         0.000000  \n",
       "25%          0.743000       1.000000         0.426903  \n",
       "50%          0.743000       1.000000         0.796880  \n",
       "75%          1.760000       1.000000         1.716564  \n",
       "max          7.462000       1.930000        70.137041  \n",
       "\n",
       "[8 rows x 22 columns]"
      ]
     },
     "execution_count": 9,
     "metadata": {},
     "output_type": "execute_result"
    }
   ],
   "source": [
    "# Describing the data\n",
    "data.describe()"
   ]
  },
  {
   "cell_type": "code",
   "execution_count": 10,
   "metadata": {},
   "outputs": [
    {
     "name": "stdout",
     "output_type": "stream",
     "text": [
      "(array([1.08451e+05, 9.00000e+00, 5.00000e+00, 3.00000e+00, 0.00000e+00,\n",
      "       0.00000e+00, 0.00000e+00, 0.00000e+00, 0.00000e+00, 1.00000e+00]), array([3.0000000e-04, 4.9970180e+01, 9.9940060e+01, 1.4990994e+02,\n",
      "       1.9987982e+02, 2.4984970e+02, 2.9981958e+02, 3.4978946e+02,\n",
      "       3.9975934e+02, 4.4972922e+02, 4.9969910e+02]), <a list of 10 Patch objects>)\n"
     ]
    },
    {
     "data": {
      "image/png": "[encoded data removed]",
      "text/plain": [
       "<Figure size 432x288 with 1 Axes>"
      ]
     },
     "metadata": {
      "needs_background": "light"
     },
     "output_type": "display_data"
    }
   ],
   "source": [
    "print(plt.hist(data.IncRat))"
   ]
  },
  {
   "cell_type": "code",
   "execution_count": 11,
   "metadata": {},
   "outputs": [
    {
     "name": "stdout",
     "output_type": "stream",
     "text": [
      "(array([1.4888e+04, 3.6297e+04, 2.5363e+04, 1.4723e+04, 7.7900e+03,\n",
      "       5.7680e+03, 1.9410e+03, 1.6800e+03, 1.0000e+01, 9.0000e+00]), array([ 11500. ,  89133.8, 166767.6, 244401.4, 322035.2, 399669. ,\n",
      "       477302.8, 554936.6, 632570.4, 710204.2, 787838. ]), <a list of 10 Patch objects>)\n"
     ]
    },
    {
     "data": {
      "image/png": "[encoded data removed]",
      "text/plain": [
       "<Figure size 432x288 with 1 Axes>"
      ]
     },
     "metadata": {
      "needs_background": "light"
     },
     "output_type": "display_data"
    }
   ],
   "source": [
    "print(plt.hist(data.UPB))"
   ]
  },
  {
   "cell_type": "code",
   "execution_count": 12,
   "metadata": {},
   "outputs": [
    {
     "name": "stdout",
     "output_type": "stream",
     "text": [
      "(array([1.1100e+02, 1.3450e+03, 4.1590e+03, 9.1780e+03, 1.9586e+04,\n",
      "       5.3114e+04, 1.7122e+04, 3.8450e+03, 7.0000e+00, 2.0000e+00]), array([0.01 , 0.151, 0.292, 0.433, 0.574, 0.715, 0.856, 0.997, 1.138,\n",
      "       1.279, 1.42 ]), <a list of 10 Patch objects>)\n"
     ]
    },
    {
     "data": {
      "image/png": "[encoded data removed]",
      "text/plain": [
       "<Figure size 432x288 with 1 Axes>"
      ]
     },
     "metadata": {
      "needs_background": "light"
     },
     "output_type": "display_data"
    }
   ],
   "source": [
    "print(plt.hist(data.LTV))"
   ]
  },
  {
   "cell_type": "code",
   "execution_count": 13,
   "metadata": {},
   "outputs": [
    {
     "name": "stdout",
     "output_type": "stream",
     "text": [
      "(array([3.0000e+01, 0.0000e+00, 2.3700e+02, 0.0000e+00, 0.0000e+00,\n",
      "       2.6430e+03, 0.0000e+00, 4.7702e+04, 0.0000e+00, 5.7857e+04]), array([2012. , 2012.4, 2012.8, 2013.2, 2013.6, 2014. , 2014.4, 2014.8,\n",
      "       2015.2, 2015.6, 2016. ]), <a list of 10 Patch objects>)\n"
     ]
    },
    {
     "data": {
      "image/png": "[encoded data removed]",
      "text/plain": [
       "<Figure size 432x288 with 1 Axes>"
      ]
     },
     "metadata": {
      "needs_background": "light"
     },
     "output_type": "display_data"
    }
   ],
   "source": [
    "print(plt.hist(data.MortDate))"
   ]
  },
  {
   "cell_type": "code",
   "execution_count": 14,
   "metadata": {},
   "outputs": [
    {
     "name": "stdout",
     "output_type": "stream",
     "text": [
      "(array([48686.,     0.,     0., 59648.,     0.,     0.,     0.,     0.,\n",
      "           0.,   135.]), array([1. , 1.3, 1.6, 1.9, 2.2, 2.5, 2.8, 3.1, 3.4, 3.7, 4. ]), <a list of 10 Patch objects>)\n"
     ]
    },
    {
     "data": {
      "image/png": "[encoded data removed]",
      "text/plain": [
       "<Figure size 432x288 with 1 Axes>"
      ]
     },
     "metadata": {
      "needs_background": "light"
     },
     "output_type": "display_data"
    }
   ],
   "source": [
    "print(plt.hist(data.Purpose))"
   ]
  },
  {
   "cell_type": "code",
   "execution_count": 15,
   "metadata": {},
   "outputs": [
    {
     "name": "stdout",
     "output_type": "stream",
     "text": [
      "(array([     0.,      0.,      0.,      0.,      0., 108469.,      0.,\n",
      "            0.,      0.,      0.]), array([0.5, 0.6, 0.7, 0.8, 0.9, 1. , 1.1, 1.2, 1.3, 1.4, 1.5]), <a list of 10 Patch objects>)\n"
     ]
    },
    {
     "data": {
      "image/png": "[encoded data removed]",
      "text/plain": [
       "<Figure size 432x288 with 1 Axes>"
      ]
     },
     "metadata": {
      "needs_background": "light"
     },
     "output_type": "display_data"
    }
   ],
   "source": [
    "print(plt.hist(data.Product))"
   ]
  },
  {
   "cell_type": "code",
   "execution_count": 16,
   "metadata": {},
   "outputs": [
    {
     "name": "stdout",
     "output_type": "stream",
     "text": [
      "(array([100478.,      0.,      0.,   2378.,      0.,      0.,   2700.,\n",
      "            0.,      0.,   2913.]), array([0. , 0.3, 0.6, 0.9, 1.2, 1.5, 1.8, 2.1, 2.4, 2.7, 3. ]), <a list of 10 Patch objects>)\n"
     ]
    },
    {
     "data": {
      "image/png": "[encoded data removed]",
      "text/plain": [
       "<Figure size 432x288 with 1 Axes>"
      ]
     },
     "metadata": {
      "needs_background": "light"
     },
     "output_type": "display_data"
    }
   ],
   "source": [
    "print(plt.hist(data.FedGuar))"
   ]
  },
  {
   "cell_type": "code",
   "execution_count": 17,
   "metadata": {},
   "outputs": [
    {
     "name": "stdout",
     "output_type": "stream",
     "text": [
      "(array([8.4810e+03, 5.5628e+04, 3.4616e+04, 8.5820e+03, 1.1370e+03,\n",
      "       1.5000e+01, 2.0000e+00, 1.0000e+00, 4.0000e+00, 3.0000e+00]), array([1.0000e-04, 9.7290e-02, 1.9448e-01, 2.9167e-01, 3.8886e-01,\n",
      "       4.8605e-01, 5.8324e-01, 6.8043e-01, 7.7762e-01, 8.7481e-01,\n",
      "       9.7200e-01]), <a list of 10 Patch objects>)\n"
     ]
    },
    {
     "data": {
      "image/png": "[encoded data removed]",
      "text/plain": [
       "<Figure size 432x288 with 1 Axes>"
      ]
     },
     "metadata": {
      "needs_background": "light"
     },
     "output_type": "display_data"
    }
   ],
   "source": [
    "print(plt.hist(data.Front))"
   ]
  },
  {
   "cell_type": "code",
   "execution_count": 18,
   "metadata": {},
   "outputs": [
    {
     "name": "stdout",
     "output_type": "stream",
     "text": [
      "(array([1.3622e+04, 6.7566e+04, 2.7072e+04, 1.8700e+02, 1.7000e+01,\n",
      "       4.0000e+00, 0.0000e+00, 0.0000e+00, 0.0000e+00, 1.0000e+00]), array([0.0042 , 0.18025, 0.3563 , 0.53235, 0.7084 , 0.88445, 1.0605 ,\n",
      "       1.23655, 1.4126 , 1.58865, 1.7647 ]), <a list of 10 Patch objects>)\n"
     ]
    },
    {
     "data": {
      "image/png": "[encoded data removed]",
      "text/plain": [
       "<Figure size 432x288 with 1 Axes>"
      ]
     },
     "metadata": {
      "needs_background": "light"
     },
     "output_type": "display_data"
    }
   ],
   "source": [
    "print(plt.hist(data.Back))"
   ]
  },
  {
   "cell_type": "code",
   "execution_count": 19,
   "metadata": {},
   "outputs": [
    {
     "name": "stdout",
     "output_type": "stream",
     "text": [
      "(array([9.3113e+04, 8.7980e+03, 2.6540e+03, 1.6080e+03, 6.4000e+02,\n",
      "       7.8300e+02, 2.8900e+02, 2.8000e+01, 3.3100e+02, 3.5000e+01,\n",
      "       5.8000e+01, 6.0000e+01, 2.0000e+00, 4.1000e+01, 1.0000e+00,\n",
      "       1.2000e+01, 1.0000e+01, 1.0000e+00, 2.0000e+00, 0.0000e+00,\n",
      "       0.0000e+00, 2.0000e+00, 0.0000e+00, 0.0000e+00, 1.0000e+00]), array([ 0.        ,  2.80548164,  5.61096327,  8.41644491, 11.22192654,\n",
      "       14.02740818, 16.83288981, 19.63837145, 22.44385308, 25.24933472,\n",
      "       28.05481635, 30.86029799, 33.66577962, 36.47126126, 39.27674289,\n",
      "       42.08222453, 44.88770616, 47.6931878 , 50.49866943, 53.30415107,\n",
      "       56.1096327 , 58.91511434, 61.72059597, 64.52607761, 67.33155924,\n",
      "       70.13704088]), <a list of 25 Patch objects>)\n",
      "(-0.0711, 7.014]    103208\n",
      "(7.014, 14.027]       3605\n",
      "(14.027, 21.041]      1096\n",
      "(21.041, 28.055]       370\n",
      "(28.055, 35.069]       118\n",
      "(35.069, 42.082]        44\n",
      "(42.082, 49.096]        22\n",
      "(49.096, 56.11]          3\n",
      "(56.11, 63.123]          2\n",
      "(63.123, 70.137]         1\n",
      "Name: Loan_Multiplier, dtype: int64\n"
     ]
    },
    {
     "data": {
      "image/png": "[encoded data removed]",
      "text/plain": [
       "<Figure size 432x288 with 1 Axes>"
      ]
     },
     "metadata": {
      "needs_background": "light"
     },
     "output_type": "display_data"
    }
   ],
   "source": [
    "print(plt.hist(data.Loan_Multiplier, bins=25))\n",
    "print(data[\"Loan_Multiplier\"].value_counts(bins=10))"
   ]
  },
  {
   "cell_type": "code",
   "execution_count": 20,
   "metadata": {},
   "outputs": [],
   "source": [
    "# Creating a new column for portfolio worthy loan\n",
    "\n",
    "## Creating a function for the new column\n",
    "def credit(x):\n",
    "    if x['Loan_Multiplier'] <= 2.1:\n",
    "        return 1\n",
    "    else:\n",
    "        return 0\n",
    "    \n",
    "data['Portfolio_Worthy'] = data.apply(credit, axis=1)"
   ]
  },
  {
   "cell_type": "code",
   "execution_count": 21,
   "metadata": {},
   "outputs": [
    {
     "data": {
      "text/plain": [
       "1    86523\n",
       "0    21946\n",
       "Name: Portfolio_Worthy, dtype: int64"
      ]
     },
     "execution_count": 21,
     "metadata": {},
     "output_type": "execute_result"
    }
   ],
   "source": [
    "# Checking to see how many loans are considered \"Portfolio Worthy\"\n",
    "data.Portfolio_Worthy.value_counts()"
   ]
  },
  {
   "cell_type": "code",
   "execution_count": 22,
   "metadata": {},
   "outputs": [],
   "source": [
    "# Dropping unneccessary columns"
   ]
  },
  {
   "cell_type": "code",
   "execution_count": 23,
   "metadata": {},
   "outputs": [],
   "source": [
    "# Changing values in the column \"PropType\" to be used in models\n",
    "\n",
    "data.loc[(data.PropType == 'PT01', 'PropType')] = 1\n",
    "data.loc[(data.PropType == 'PT02', 'PropType')] = 2\n",
    "data.loc[(data.PropType == 'PT03', 'PropType')] = 3\n",
    "data.loc[(data.PropType == 'PT04', 'PropType')] = 4\n",
    "data.loc[(data.PropType == 'PT05', 'PropType')] = 5\n",
    "data.loc[(data.PropType == 'PT06', 'PropType')] = 6\n",
    "data.loc[(data.PropType == 'PT07', 'PropType')] = 7\n",
    "data.loc[(data.PropType == 'PT08', 'PropType')] = 8\n",
    "data.loc[(data.PropType == 'PT09', 'PropType')] = 9\n",
    "data.loc[(data.PropType == 'PT10', 'PropType')] = 10\n",
    "data.loc[(data.PropType == 'PT11', 'PropType')] = 11\n",
    "data.loc[(data.PropType == 'PT12', 'PropType')] = 12"
   ]
  },
  {
   "cell_type": "code",
   "execution_count": 24,
   "metadata": {},
   "outputs": [],
   "source": [
    "# Changing data type of the column\n",
    "data.PropType = data.PropType.astype(int)"
   ]
  },
  {
   "cell_type": "code",
   "execution_count": 25,
   "metadata": {},
   "outputs": [
    {
     "data": {
      "text/html": [
       "<div>\n",
       "<style scoped>\n",
       "    .dataframe tbody tr th:only-of-type {\n",
       "        vertical-align: middle;\n",
       "    }\n",
       "\n",
       "    .dataframe tbody tr th {\n",
       "        vertical-align: top;\n",
       "    }\n",
       "\n",
       "    .dataframe thead th {\n",
       "        text-align: right;\n",
       "    }\n",
       "</style>\n",
       "<table border=\"1\" class=\"dataframe\">\n",
       "  <thead>\n",
       "    <tr style=\"text-align: right;\">\n",
       "      <th></th>\n",
       "      <th>Year</th>\n",
       "      <th>Assigned_ID</th>\n",
       "      <th>Bank</th>\n",
       "      <th>IncRat</th>\n",
       "      <th>UPB</th>\n",
       "      <th>LTV</th>\n",
       "      <th>MortDate</th>\n",
       "      <th>Purpose</th>\n",
       "      <th>Coop</th>\n",
       "      <th>Product</th>\n",
       "      <th>...</th>\n",
       "      <th>LTV_M</th>\n",
       "      <th>Purpose_M</th>\n",
       "      <th>Coop_M</th>\n",
       "      <th>Product_M</th>\n",
       "      <th>Occup_M</th>\n",
       "      <th>Back_M</th>\n",
       "      <th>BoCreditScor_M</th>\n",
       "      <th>PropType_M</th>\n",
       "      <th>Loan_Multiplier</th>\n",
       "      <th>Portfolio_Worthy</th>\n",
       "    </tr>\n",
       "  </thead>\n",
       "  <tbody>\n",
       "    <tr>\n",
       "      <th>0</th>\n",
       "      <td>2015</td>\n",
       "      <td>1997542</td>\n",
       "      <td>Atlanta</td>\n",
       "      <td>1.6984</td>\n",
       "      <td>334244</td>\n",
       "      <td>1.00</td>\n",
       "      <td>2015</td>\n",
       "      <td>2</td>\n",
       "      <td>2</td>\n",
       "      <td>1</td>\n",
       "      <td>...</td>\n",
       "      <td>0.406</td>\n",
       "      <td>1.61</td>\n",
       "      <td>1.0</td>\n",
       "      <td>0.879</td>\n",
       "      <td>1.0</td>\n",
       "      <td>2.020</td>\n",
       "      <td>1.760</td>\n",
       "      <td>1.0</td>\n",
       "      <td>2.042701</td>\n",
       "      <td>1</td>\n",
       "    </tr>\n",
       "    <tr>\n",
       "      <th>1</th>\n",
       "      <td>2015</td>\n",
       "      <td>1997543</td>\n",
       "      <td>Atlanta</td>\n",
       "      <td>2.4514</td>\n",
       "      <td>126790</td>\n",
       "      <td>0.59</td>\n",
       "      <td>2015</td>\n",
       "      <td>1</td>\n",
       "      <td>2</td>\n",
       "      <td>1</td>\n",
       "      <td>...</td>\n",
       "      <td>0.255</td>\n",
       "      <td>1.00</td>\n",
       "      <td>1.0</td>\n",
       "      <td>0.879</td>\n",
       "      <td>1.0</td>\n",
       "      <td>1.000</td>\n",
       "      <td>0.743</td>\n",
       "      <td>1.0</td>\n",
       "      <td>0.166540</td>\n",
       "      <td>1</td>\n",
       "    </tr>\n",
       "    <tr>\n",
       "      <th>2</th>\n",
       "      <td>2015</td>\n",
       "      <td>1997544</td>\n",
       "      <td>Atlanta</td>\n",
       "      <td>1.2603</td>\n",
       "      <td>173761</td>\n",
       "      <td>0.65</td>\n",
       "      <td>2015</td>\n",
       "      <td>2</td>\n",
       "      <td>2</td>\n",
       "      <td>1</td>\n",
       "      <td>...</td>\n",
       "      <td>0.371</td>\n",
       "      <td>1.61</td>\n",
       "      <td>1.0</td>\n",
       "      <td>0.879</td>\n",
       "      <td>1.0</td>\n",
       "      <td>1.000</td>\n",
       "      <td>2.850</td>\n",
       "      <td>1.0</td>\n",
       "      <td>1.496351</td>\n",
       "      <td>1</td>\n",
       "    </tr>\n",
       "    <tr>\n",
       "      <th>3</th>\n",
       "      <td>2015</td>\n",
       "      <td>1997545</td>\n",
       "      <td>Atlanta</td>\n",
       "      <td>1.5047</td>\n",
       "      <td>103961</td>\n",
       "      <td>0.97</td>\n",
       "      <td>2015</td>\n",
       "      <td>2</td>\n",
       "      <td>2</td>\n",
       "      <td>1</td>\n",
       "      <td>...</td>\n",
       "      <td>0.406</td>\n",
       "      <td>1.61</td>\n",
       "      <td>1.0</td>\n",
       "      <td>0.879</td>\n",
       "      <td>1.0</td>\n",
       "      <td>1.000</td>\n",
       "      <td>0.743</td>\n",
       "      <td>1.0</td>\n",
       "      <td>0.426903</td>\n",
       "      <td>1</td>\n",
       "    </tr>\n",
       "    <tr>\n",
       "      <th>4</th>\n",
       "      <td>2015</td>\n",
       "      <td>1997546</td>\n",
       "      <td>Atlanta</td>\n",
       "      <td>1.5774</td>\n",
       "      <td>411696</td>\n",
       "      <td>0.84</td>\n",
       "      <td>2015</td>\n",
       "      <td>1</td>\n",
       "      <td>2</td>\n",
       "      <td>1</td>\n",
       "      <td>...</td>\n",
       "      <td>0.406</td>\n",
       "      <td>1.00</td>\n",
       "      <td>1.0</td>\n",
       "      <td>0.879</td>\n",
       "      <td>1.0</td>\n",
       "      <td>2.345</td>\n",
       "      <td>0.743</td>\n",
       "      <td>1.0</td>\n",
       "      <td>0.621794</td>\n",
       "      <td>1</td>\n",
       "    </tr>\n",
       "  </tbody>\n",
       "</table>\n",
       "<p>5 rows × 26 columns</p>\n",
       "</div>"
      ],
      "text/plain": [
       "   Year  Assigned_ID     Bank  IncRat     UPB   LTV  MortDate  Purpose  Coop  \\\n",
       "0  2015      1997542  Atlanta  1.6984  334244  1.00      2015        2     2   \n",
       "1  2015      1997543  Atlanta  2.4514  126790  0.59      2015        1     2   \n",
       "2  2015      1997544  Atlanta  1.2603  173761  0.65      2015        2     2   \n",
       "3  2015      1997545  Atlanta  1.5047  103961  0.97      2015        2     2   \n",
       "4  2015      1997546  Atlanta  1.5774  411696  0.84      2015        1     2   \n",
       "\n",
       "   Product        ...         LTV_M  Purpose_M  Coop_M  Product_M Occup_M  \\\n",
       "0        1        ...         0.406       1.61     1.0      0.879     1.0   \n",
       "1        1        ...         0.255       1.00     1.0      0.879     1.0   \n",
       "2        1        ...         0.371       1.61     1.0      0.879     1.0   \n",
       "3        1        ...         0.406       1.61     1.0      0.879     1.0   \n",
       "4        1        ...         0.406       1.00     1.0      0.879     1.0   \n",
       "\n",
       "   Back_M  BoCreditScor_M  PropType_M  Loan_Multiplier  Portfolio_Worthy  \n",
       "0   2.020           1.760         1.0         2.042701                 1  \n",
       "1   1.000           0.743         1.0         0.166540                 1  \n",
       "2   1.000           2.850         1.0         1.496351                 1  \n",
       "3   1.000           0.743         1.0         0.426903                 1  \n",
       "4   2.345           0.743         1.0         0.621794                 1  \n",
       "\n",
       "[5 rows x 26 columns]"
      ]
     },
     "execution_count": 25,
     "metadata": {},
     "output_type": "execute_result"
    }
   ],
   "source": [
    "# Printing the data before exporting to csv file\n",
    "data.head()"
   ]
  },
  {
   "cell_type": "code",
   "execution_count": 26,
   "metadata": {},
   "outputs": [],
   "source": [
    "# Data Export for analytical purposes\n",
    "data.to_csv(\"Use_This.csv\",sep=',')"
   ]
  }
 ],
 "metadata": {
  "kernelspec": {
   "display_name": "Python 3",
   "language": "python",
   "name": "python3"
  },
  "language_info": {
   "codemirror_mode": {
    "name": "ipython",
    "version": 3
   },
   "file_extension": ".py",
   "mimetype": "text/x-python",
   "name": "python",
   "nbconvert_exporter": "python",
   "pygments_lexer": "ipython3",
   "version": "3.7.0"
  }
 },
 "nbformat": 4,
 "nbformat_minor": 2
}
