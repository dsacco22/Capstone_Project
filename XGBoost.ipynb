{
 "cells": [
  {
   "cell_type": "markdown",
   "metadata": {},
   "source": [
    "### XGBoost ###"
   ]
  },
  {
   "cell_type": "code",
   "execution_count": 1,
   "metadata": {},
   "outputs": [
    {
     "data": {
      "text/html": [
       "<div>\n",
       "<style scoped>\n",
       "    .dataframe tbody tr th:only-of-type {\n",
       "        vertical-align: middle;\n",
       "    }\n",
       "\n",
       "    .dataframe tbody tr th {\n",
       "        vertical-align: top;\n",
       "    }\n",
       "\n",
       "    .dataframe thead th {\n",
       "        text-align: right;\n",
       "    }\n",
       "</style>\n",
       "<table border=\"1\" class=\"dataframe\">\n",
       "  <thead>\n",
       "    <tr style=\"text-align: right;\">\n",
       "      <th></th>\n",
       "      <th>IncRat</th>\n",
       "      <th>LTV</th>\n",
       "      <th>Purpose</th>\n",
       "      <th>Coop</th>\n",
       "      <th>Product</th>\n",
       "      <th>FedGuar</th>\n",
       "      <th>Occup</th>\n",
       "      <th>Front</th>\n",
       "      <th>Back</th>\n",
       "      <th>BoCreditScor</th>\n",
       "      <th>PropType</th>\n",
       "      <th>UPB</th>\n",
       "      <th>Portfolio_Worthy</th>\n",
       "      <th>Year</th>\n",
       "      <th>Bank</th>\n",
       "      <th>MortDate</th>\n",
       "      <th>Assigned_ID</th>\n",
       "    </tr>\n",
       "  </thead>\n",
       "  <tbody>\n",
       "    <tr>\n",
       "      <th>0</th>\n",
       "      <td>1.5112</td>\n",
       "      <td>0.84</td>\n",
       "      <td>2</td>\n",
       "      <td>2</td>\n",
       "      <td>1</td>\n",
       "      <td>2</td>\n",
       "      <td>1</td>\n",
       "      <td>0.2174</td>\n",
       "      <td>0.3683</td>\n",
       "      <td>4</td>\n",
       "      <td>7</td>\n",
       "      <td>0.748225</td>\n",
       "      <td>1</td>\n",
       "      <td>2016</td>\n",
       "      <td>Atlanta</td>\n",
       "      <td>2015</td>\n",
       "      <td>2004452</td>\n",
       "    </tr>\n",
       "    <tr>\n",
       "      <th>1</th>\n",
       "      <td>0.7347</td>\n",
       "      <td>0.76</td>\n",
       "      <td>2</td>\n",
       "      <td>2</td>\n",
       "      <td>1</td>\n",
       "      <td>2</td>\n",
       "      <td>1</td>\n",
       "      <td>0.1850</td>\n",
       "      <td>0.2385</td>\n",
       "      <td>4</td>\n",
       "      <td>1</td>\n",
       "      <td>0.203867</td>\n",
       "      <td>1</td>\n",
       "      <td>2016</td>\n",
       "      <td>Atlanta</td>\n",
       "      <td>2015</td>\n",
       "      <td>2004453</td>\n",
       "    </tr>\n",
       "    <tr>\n",
       "      <th>2</th>\n",
       "      <td>0.8536</td>\n",
       "      <td>0.80</td>\n",
       "      <td>1</td>\n",
       "      <td>2</td>\n",
       "      <td>1</td>\n",
       "      <td>2</td>\n",
       "      <td>1</td>\n",
       "      <td>0.2084</td>\n",
       "      <td>0.3817</td>\n",
       "      <td>4</td>\n",
       "      <td>1</td>\n",
       "      <td>0.229064</td>\n",
       "      <td>1</td>\n",
       "      <td>2016</td>\n",
       "      <td>Atlanta</td>\n",
       "      <td>2015</td>\n",
       "      <td>2004454</td>\n",
       "    </tr>\n",
       "    <tr>\n",
       "      <th>3</th>\n",
       "      <td>1.4262</td>\n",
       "      <td>0.80</td>\n",
       "      <td>1</td>\n",
       "      <td>2</td>\n",
       "      <td>1</td>\n",
       "      <td>2</td>\n",
       "      <td>1</td>\n",
       "      <td>0.1481</td>\n",
       "      <td>0.3170</td>\n",
       "      <td>4</td>\n",
       "      <td>1</td>\n",
       "      <td>0.302986</td>\n",
       "      <td>1</td>\n",
       "      <td>2016</td>\n",
       "      <td>Atlanta</td>\n",
       "      <td>2015</td>\n",
       "      <td>2004455</td>\n",
       "    </tr>\n",
       "    <tr>\n",
       "      <th>4</th>\n",
       "      <td>2.0272</td>\n",
       "      <td>0.89</td>\n",
       "      <td>1</td>\n",
       "      <td>2</td>\n",
       "      <td>1</td>\n",
       "      <td>2</td>\n",
       "      <td>1</td>\n",
       "      <td>0.2072</td>\n",
       "      <td>0.3184</td>\n",
       "      <td>4</td>\n",
       "      <td>7</td>\n",
       "      <td>0.774628</td>\n",
       "      <td>1</td>\n",
       "      <td>2016</td>\n",
       "      <td>Atlanta</td>\n",
       "      <td>2015</td>\n",
       "      <td>2004456</td>\n",
       "    </tr>\n",
       "  </tbody>\n",
       "</table>\n",
       "</div>"
      ],
      "text/plain": [
       "   IncRat   LTV  Purpose  Coop  Product  FedGuar  Occup   Front    Back  \\\n",
       "0  1.5112  0.84        2     2        1        2      1  0.2174  0.3683   \n",
       "1  0.7347  0.76        2     2        1        2      1  0.1850  0.2385   \n",
       "2  0.8536  0.80        1     2        1        2      1  0.2084  0.3817   \n",
       "3  1.4262  0.80        1     2        1        2      1  0.1481  0.3170   \n",
       "4  2.0272  0.89        1     2        1        2      1  0.2072  0.3184   \n",
       "\n",
       "   BoCreditScor  PropType       UPB  Portfolio_Worthy  Year     Bank  \\\n",
       "0             4         7  0.748225                 1  2016  Atlanta   \n",
       "1             4         1  0.203867                 1  2016  Atlanta   \n",
       "2             4         1  0.229064                 1  2016  Atlanta   \n",
       "3             4         1  0.302986                 1  2016  Atlanta   \n",
       "4             4         7  0.774628                 1  2016  Atlanta   \n",
       "\n",
       "   MortDate  Assigned_ID  \n",
       "0      2015      2004452  \n",
       "1      2015      2004453  \n",
       "2      2015      2004454  \n",
       "3      2015      2004455  \n",
       "4      2015      2004456  "
      ]
     },
     "execution_count": 1,
     "metadata": {},
     "output_type": "execute_result"
    }
   ],
   "source": [
    "# Importing useful packages\n",
    "import pandas as pd\n",
    "import numpy as np\n",
    "import xgboost as xgb\n",
    "from sklearn.metrics import mean_squared_error\n",
    "from sklearn.model_selection import train_test_split\n",
    "import pickle\n",
    "\n",
    "## Importing data\n",
    "data = pd.read_csv(\"MinMax.csv\", index_col=0, header=0)\n",
    "data.head()"
   ]
  },
  {
   "cell_type": "code",
   "execution_count": 2,
   "metadata": {},
   "outputs": [],
   "source": [
    "# Creating variables\n",
    "X = data.iloc[:,:-5]\n",
    "y = data.Portfolio_Worthy"
   ]
  },
  {
   "cell_type": "code",
   "execution_count": 3,
   "metadata": {},
   "outputs": [
    {
     "name": "stderr",
     "output_type": "stream",
     "text": [
      "D:\\Python\\lib\\site-packages\\xgboost\\core.py:587: FutureWarning: Series.base is deprecated and will be removed in a future version\n",
      "  if getattr(data, 'base', None) is not None and \\\n",
      "D:\\Python\\lib\\site-packages\\xgboost\\core.py:588: FutureWarning: Series.base is deprecated and will be removed in a future version\n",
      "  data.base is not None and isinstance(data, np.ndarray) \\\n"
     ]
    }
   ],
   "source": [
    "# Creating a data matrix\n",
    "data_matrix = xgb.DMatrix(data=X,label=y)"
   ]
  },
  {
   "cell_type": "code",
   "execution_count": 4,
   "metadata": {},
   "outputs": [],
   "source": [
    "# Splitting the data into training and testing sets\n",
    "X_train, X_test, y_train, y_test = train_test_split(X, y, test_size=0.25, random_state=20317)"
   ]
  },
  {
   "cell_type": "code",
   "execution_count": 5,
   "metadata": {},
   "outputs": [
    {
     "name": "stdout",
     "output_type": "stream",
     "text": [
      "[18:15:14] WARNING: C:/Jenkins/workspace/xgboost-win64_release_0.90/src/objective/regression_obj.cu:152: reg:linear is now deprecated in favor of reg:squarederror.\n"
     ]
    }
   ],
   "source": [
    "# Starting the XGBoost Model\n",
    "xgb_reg = xgb.XGBClassifier(objective='reg:linear', colsample_bytree=0.3, learning_rate=0.1, max_depth=5, alpha=10, n_estimators=100)\n",
    "\n",
    "## Fitting the xgboost model\n",
    "xgb_reg.fit(X_train, y_train)\n",
    "\n",
    "### Creating the 'predictors' variable\n",
    "predictors = xgb_reg.predict(X_test)"
   ]
  },
  {
   "cell_type": "code",
   "execution_count": 6,
   "metadata": {},
   "outputs": [
    {
     "name": "stdout",
     "output_type": "stream",
     "text": [
      "RMSE: 0.038838\n"
     ]
    }
   ],
   "source": [
    "# Creating the RMSE Model/Output\n",
    "rmse = np.sqrt(mean_squared_error(y_test, predictors))\n",
    "print(\"RMSE: %f\" % (rmse))"
   ]
  },
  {
   "cell_type": "markdown",
   "metadata": {},
   "source": [
    "### Cross-Validation  with XGBoost"
   ]
  },
  {
   "cell_type": "code",
   "execution_count": 7,
   "metadata": {},
   "outputs": [
    {
     "name": "stdout",
     "output_type": "stream",
     "text": [
      "[18:15:16] WARNING: C:/Jenkins/workspace/xgboost-win64_release_0.90/src/objective/regression_obj.cu:152: reg:linear is now deprecated in favor of reg:squarederror.\n",
      "[18:15:16] WARNING: C:/Jenkins/workspace/xgboost-win64_release_0.90/src/objective/regression_obj.cu:152: reg:linear is now deprecated in favor of reg:squarederror.\n",
      "[18:15:17] WARNING: C:/Jenkins/workspace/xgboost-win64_release_0.90/src/objective/regression_obj.cu:152: reg:linear is now deprecated in favor of reg:squarederror.\n"
     ]
    }
   ],
   "source": [
    "# Creating the 'params' variable\n",
    "params = {\"objective\":\"reg:linear\",\"colsample_bytree\":0.3,\"learning_rate\":0.1,\"max_depth\":5,\"alpha\":10}\n",
    "cv_results = xgb.cv(dtrain=data_matrix, params=params, nfold=3, num_boost_round=50, early_stopping_rounds=10, metrics='rmse', as_pandas=True, seed=20317)"
   ]
  },
  {
   "cell_type": "code",
   "execution_count": 8,
   "metadata": {},
   "outputs": [
    {
     "data": {
      "text/html": [
       "<div>\n",
       "<style scoped>\n",
       "    .dataframe tbody tr th:only-of-type {\n",
       "        vertical-align: middle;\n",
       "    }\n",
       "\n",
       "    .dataframe tbody tr th {\n",
       "        vertical-align: top;\n",
       "    }\n",
       "\n",
       "    .dataframe thead th {\n",
       "        text-align: right;\n",
       "    }\n",
       "</style>\n",
       "<table border=\"1\" class=\"dataframe\">\n",
       "  <thead>\n",
       "    <tr style=\"text-align: right;\">\n",
       "      <th></th>\n",
       "      <th>train-rmse-mean</th>\n",
       "      <th>train-rmse-std</th>\n",
       "      <th>test-rmse-mean</th>\n",
       "      <th>test-rmse-std</th>\n",
       "    </tr>\n",
       "  </thead>\n",
       "  <tbody>\n",
       "    <tr>\n",
       "      <th>0</th>\n",
       "      <td>0.462758</td>\n",
       "      <td>0.000136</td>\n",
       "      <td>0.462758</td>\n",
       "      <td>0.000079</td>\n",
       "    </tr>\n",
       "    <tr>\n",
       "      <th>1</th>\n",
       "      <td>0.423698</td>\n",
       "      <td>0.004480</td>\n",
       "      <td>0.423684</td>\n",
       "      <td>0.004526</td>\n",
       "    </tr>\n",
       "    <tr>\n",
       "      <th>2</th>\n",
       "      <td>0.392003</td>\n",
       "      <td>0.007256</td>\n",
       "      <td>0.391972</td>\n",
       "      <td>0.007072</td>\n",
       "    </tr>\n",
       "    <tr>\n",
       "      <th>3</th>\n",
       "      <td>0.366626</td>\n",
       "      <td>0.007886</td>\n",
       "      <td>0.366600</td>\n",
       "      <td>0.007609</td>\n",
       "    </tr>\n",
       "    <tr>\n",
       "      <th>4</th>\n",
       "      <td>0.339286</td>\n",
       "      <td>0.003277</td>\n",
       "      <td>0.339293</td>\n",
       "      <td>0.002317</td>\n",
       "    </tr>\n",
       "  </tbody>\n",
       "</table>\n",
       "</div>"
      ],
      "text/plain": [
       "   train-rmse-mean  train-rmse-std  test-rmse-mean  test-rmse-std\n",
       "0         0.462758        0.000136        0.462758       0.000079\n",
       "1         0.423698        0.004480        0.423684       0.004526\n",
       "2         0.392003        0.007256        0.391972       0.007072\n",
       "3         0.366626        0.007886        0.366600       0.007609\n",
       "4         0.339286        0.003277        0.339293       0.002317"
      ]
     },
     "execution_count": 8,
     "metadata": {},
     "output_type": "execute_result"
    }
   ],
   "source": [
    "cv_results.head()"
   ]
  },
  {
   "cell_type": "code",
   "execution_count": 9,
   "metadata": {},
   "outputs": [
    {
     "name": "stdout",
     "output_type": "stream",
     "text": [
      "49    0.141166\n",
      "Name: test-rmse-mean, dtype: float64\n"
     ]
    },
    {
     "data": {
      "image/png": "[encoded data removed]",
      "text/plain": [
       "<Figure size 432x288 with 1 Axes>"
      ]
     },
     "metadata": {},
     "output_type": "display_data"
    }
   ],
   "source": [
    "# Visualizing RMSE over the amount of rounds of boosting\n",
    "import matplotlib.pyplot as plt\n",
    "%matplotlib inline\n",
    "plt.style.use('ggplot')\n",
    "\n",
    "cv_results['test-rmse-mean'].plot()\n",
    "\n",
    "print((cv_results[\"test-rmse-mean\"]).tail(1))"
   ]
  },
  {
   "cell_type": "markdown",
   "metadata": {},
   "source": [
    "### Feature Importance ###"
   ]
  },
  {
   "cell_type": "code",
   "execution_count": 10,
   "metadata": {},
   "outputs": [
    {
     "data": {
      "image/png": "[encoded data removed]",
      "text/plain": [
       "<Figure size 432x288 with 1 Axes>"
      ]
     },
     "metadata": {
      "needs_background": "light"
     },
     "output_type": "display_data"
    }
   ],
   "source": [
    "# Visualizing Feature Importance\n",
    "\n",
    "xgb.plot_importance(xgb_reg)\n",
    "#plt.rcParams['figure.figsize'] = [5, 5]\n",
    "plt.show()"
   ]
  },
  {
   "cell_type": "code",
   "execution_count": 11,
   "metadata": {},
   "outputs": [],
   "source": [
    "# Exporting model\n",
    "finalname = 'xgboost_model.p'\n",
    "pickle.dump(xgb_reg, open(finalname, \"wb\"))"
   ]
  }
 ],
 "metadata": {
  "kernelspec": {
   "display_name": "Python 3",
   "language": "python",
   "name": "python3"
  },
  "language_info": {
   "codemirror_mode": {
    "name": "ipython",
    "version": 3
   },
   "file_extension": ".py",
   "mimetype": "text/x-python",
   "name": "python",
   "nbconvert_exporter": "python",
   "pygments_lexer": "ipython3",
   "version": "3.7.0"
  }
 },
 "nbformat": 4,
 "nbformat_minor": 2
}
