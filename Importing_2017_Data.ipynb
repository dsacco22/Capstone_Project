{
 "cells": [
  {
   "cell_type": "markdown",
   "metadata": {},
   "source": [
    "### 2017 Data ###"
   ]
  },
  {
   "cell_type": "code",
   "execution_count": 1,
   "metadata": {},
   "outputs": [],
   "source": [
    "## Importing packages\n",
    "import numpy as np\n",
    "import pandas as pd\n",
    "import matplotlib.pyplot as plt\n",
    "import seaborn as sns\n",
    "import psycopg2  ## PostgreSQL Connection Package"
   ]
  },
  {
   "cell_type": "code",
   "execution_count": 2,
   "metadata": {},
   "outputs": [
    {
     "name": "stdout",
     "output_type": "stream",
     "text": [
      "{'user': 'capstonedba', 'dbname': 'capstonedba', 'host': 'capstone-db.c9mqkx12zppw.us-east-1.rds.amazonaws.com', 'port': '5432', 'tty': '', 'options': '', 'sslmode': 'prefer', 'sslcompression': '0', 'krbsrvname': 'postgres', 'target_session_attrs': 'any'} \n",
      "\n",
      "You are connected to -  ('PostgreSQL 10.6 on x86_64-pc-linux-gnu, compiled by gcc (GCC) 4.8.3 20140911 (Red Hat 4.8.3-9), 64-bit',) \n",
      "\n"
     ]
    }
   ],
   "source": [
    "# Connection to PostgreSQL Database\n",
    "connection = psycopg2.connect(user='capstonedba', password='ubaEYyxl3UimQCGa4S1e8yvlZmkGRK', host='capstone-db.c9mqkx12zppw.us-east-1.rds.amazonaws.com', port='5432', database='capstonedba')\n",
    "\n",
    "cursor = connection.cursor()\n",
    "\n",
    "## Printing database connection properties\n",
    "print(connection.get_dsn_parameters(),'\\n')\n",
    "\n",
    "## Printing PostgreSQL Database version\n",
    "cursor.execute(\"SELECT version();\")\n",
    "record = cursor.fetchone()\n",
    "print(\"You are connected to - \", record, '\\n')"
   ]
  },
  {
   "cell_type": "code",
   "execution_count": 3,
   "metadata": {},
   "outputs": [
    {
     "name": "stdout",
     "output_type": "stream",
     "text": [
      "     0        1        2       3       4     5     6   7   8   9   \\\n",
      "0  2017  2092102  Atlanta  3.2928   71967  0.89  2016   2   2   1   \n",
      "1  2017  2092103  Atlanta  4.0513  514837  0.94  2016   2   2   1   \n",
      "2  2017  2092104  Atlanta  2.2109  425563  1.04  2016   1   2   1   \n",
      "3  2017  2092105  Atlanta  2.3403  251800  0.75  2016   2   2   1   \n",
      "4  2017  2092106  Atlanta  1.0537  290613  0.85  2016   2   2   1   \n",
      "\n",
      "      ...         15     16    17 18     19 20     21     22 23           24  \n",
      "0     ...       PT01  2.348  1.61  1  0.879  1      1  0.743  1  2.468889527  \n",
      "1     ...       PT01  2.846  1.61  1  0.879  1      1  0.743  1   2.99252964  \n",
      "2     ...       PT01  2.846     1  1  0.879  1  1.431  0.743  1  2.659819823  \n",
      "3     ...       PT07  0.453  1.61  1  0.879  1  1.431   1.76  1   1.61460114  \n",
      "4     ...       PT01  1.526  1.61  1  0.879  1   2.02   2.85  1  12.43270171  \n",
      "\n",
      "[5 rows x 25 columns]\n"
     ]
    }
   ],
   "source": [
    "# Pulling data from database for dataframe\n",
    "## Creating variable for SQL query\n",
    "sql = \"SELECT * FROM loans2 WHERE year='2017';\"\n",
    "\n",
    "### Executing sql query on database\n",
    "cursor.execute(sql)\n",
    "\n",
    "#### Fetching the results from query\n",
    "data = cursor.fetchall()\n",
    "\n",
    "##### Storing them in a variable and then making that variable a DataFrame\n",
    "data = pd.DataFrame(data)\n",
    "print(data.head())"
   ]
  },
  {
   "cell_type": "code",
   "execution_count": 4,
   "metadata": {},
   "outputs": [
    {
     "name": "stdout",
     "output_type": "stream",
     "text": [
      "   Year  Assigned_ID     Bank  IncRat     UPB   LTV  MortDate  Purpose  Coop  \\\n",
      "0  2017      2092102  Atlanta  3.2928   71967  0.89      2016        2     2   \n",
      "1  2017      2092103  Atlanta  4.0513  514837  0.94      2016        2     2   \n",
      "2  2017      2092104  Atlanta  2.2109  425563  1.04      2016        1     2   \n",
      "3  2017      2092105  Atlanta  2.3403  251800  0.75      2016        2     2   \n",
      "4  2017      2092106  Atlanta  1.0537  290613  0.85      2016        2     2   \n",
      "\n",
      "   Product       ...        PropType  LTV_M Purpose_M Coop_M Product_M  \\\n",
      "0        1       ...            PT01  2.348      1.61      1     0.879   \n",
      "1        1       ...            PT01  2.846      1.61      1     0.879   \n",
      "2        1       ...            PT01  2.846         1      1     0.879   \n",
      "3        1       ...            PT07  0.453      1.61      1     0.879   \n",
      "4        1       ...            PT01  1.526      1.61      1     0.879   \n",
      "\n",
      "  Occup_M Back_M BoCreditScor_M PropType_M Loan_Multiplier  \n",
      "0       1      1          0.743          1     2.468889527  \n",
      "1       1      1          0.743          1      2.99252964  \n",
      "2       1  1.431          0.743          1     2.659819823  \n",
      "3       1  1.431           1.76          1      1.61460114  \n",
      "4       1   2.02           2.85          1     12.43270171  \n",
      "\n",
      "[5 rows x 25 columns]\n"
     ]
    }
   ],
   "source": [
    "# Manually Coding Columns for DataFrame\n",
    "data.columns = ['Year', 'Assigned_ID', 'Bank', 'IncRat', 'UPB', 'LTV', 'MortDate','Purpose', 'Coop', 'Product','FedGuar', 'Occup', 'Front','Back','BoCreditScor','PropType', 'LTV_M', 'Purpose_M','Coop_M','Product_M','Occup_M','Back_M','BoCreditScor_M','PropType_M','Loan_Multiplier']\n",
    "print(data.head())"
   ]
  },
  {
   "cell_type": "code",
   "execution_count": 5,
   "metadata": {},
   "outputs": [],
   "source": [
    "# Recoding variables to the right data type\n",
    "data.IncRat = data.IncRat.astype(float)\n",
    "data.UPB = data.UPB.astype(int)\n",
    "data.LTV = data.LTV.astype(float)\n",
    "data.Front = data.Front.astype(float)\n",
    "data.Back = data.Back.astype(float)\n",
    "data.LTV_M = data.LTV_M.astype(float)\n",
    "data.Purpose_M = data.Purpose_M.astype(float)\n",
    "data.Coop_M = data.Coop_M.astype(float)\n",
    "data.Product_M = data.Product_M.astype(float)\n",
    "data.Occup_M = data.Occup_M.astype(float)\n",
    "data.Back_M = data.Back_M.astype(float)\n",
    "data.BoCreditScor_M = data.BoCreditScor_M.astype(float)\n",
    "data.PropType_M = data.PropType_M.astype(float)\n",
    "data.Loan_Multiplier = data.Loan_Multiplier.astype(float)"
   ]
  },
  {
   "cell_type": "code",
   "execution_count": 6,
   "metadata": {},
   "outputs": [
    {
     "name": "stdout",
     "output_type": "stream",
     "text": [
      "<class 'pandas.core.frame.DataFrame'>\n",
      "RangeIndex: 55990 entries, 0 to 55989\n",
      "Data columns (total 25 columns):\n",
      "Year               55990 non-null int64\n",
      "Assigned_ID        55990 non-null int64\n",
      "Bank               55990 non-null object\n",
      "IncRat             55990 non-null float64\n",
      "UPB                55990 non-null int32\n",
      "LTV                55990 non-null float64\n",
      "MortDate           55990 non-null int64\n",
      "Purpose            55990 non-null int64\n",
      "Coop               55990 non-null int64\n",
      "Product            55990 non-null int64\n",
      "FedGuar            55990 non-null int64\n",
      "Occup              55990 non-null int64\n",
      "Front              55990 non-null float64\n",
      "Back               55990 non-null float64\n",
      "BoCreditScor       55990 non-null object\n",
      "PropType           55990 non-null object\n",
      "LTV_M              55990 non-null float64\n",
      "Purpose_M          55990 non-null float64\n",
      "Coop_M             55990 non-null float64\n",
      "Product_M          55990 non-null float64\n",
      "Occup_M            55990 non-null float64\n",
      "Back_M             55990 non-null float64\n",
      "BoCreditScor_M     55990 non-null float64\n",
      "PropType_M         55990 non-null float64\n",
      "Loan_Multiplier    55990 non-null float64\n",
      "dtypes: float64(13), int32(1), int64(8), object(3)\n",
      "memory usage: 10.5+ MB\n"
     ]
    }
   ],
   "source": [
    "# Checking data types of attributes\n",
    "data.info()"
   ]
  },
  {
   "cell_type": "code",
   "execution_count": 7,
   "metadata": {},
   "outputs": [],
   "source": [
    "# Exporting data for concatinating in the next notebook\n",
    "data.to_csv(\"Concatinate_This.csv\", sep=',')"
   ]
  },
  {
   "cell_type": "code",
   "execution_count": 8,
   "metadata": {},
   "outputs": [
    {
     "name": "stdout",
     "output_type": "stream",
     "text": [
      "   Year  Assigned_ID     Bank  MortDate  LTV_M  Purpose_M  Coop_M  Product_M  \\\n",
      "0  2017      2092102  Atlanta      2016  2.348       1.61     1.0      0.879   \n",
      "1  2017      2092103  Atlanta      2016  2.846       1.61     1.0      0.879   \n",
      "2  2017      2092104  Atlanta      2016  2.846       1.00     1.0      0.879   \n",
      "3  2017      2092105  Atlanta      2016  0.453       1.61     1.0      0.879   \n",
      "4  2017      2092106  Atlanta      2016  1.526       1.61     1.0      0.879   \n",
      "\n",
      "   Occup_M  Back_M  BoCreditScor_M  PropType_M  Loan_Multiplier  \n",
      "0      1.0   1.000           0.743         1.0         2.468890  \n",
      "1      1.0   1.000           0.743         1.0         2.992530  \n",
      "2      1.0   1.431           0.743         1.0         2.659820  \n",
      "3      1.0   1.431           1.760         1.0         1.614601  \n",
      "4      1.0   2.020           2.850         1.0        12.432702  \n"
     ]
    }
   ],
   "source": [
    "# Dropping unneccessary columns\n",
    "data = data.drop(columns=['LTV','Purpose','Coop','Product','Occup','Back','BoCreditScor','PropType','IncRat','UPB','Front','FedGuar'], axis=0);\n",
    "print(data.head())"
   ]
  },
  {
   "cell_type": "code",
   "execution_count": 9,
   "metadata": {},
   "outputs": [
    {
     "data": {
      "text/html": [
       "<div>\n",
       "<style scoped>\n",
       "    .dataframe tbody tr th:only-of-type {\n",
       "        vertical-align: middle;\n",
       "    }\n",
       "\n",
       "    .dataframe tbody tr th {\n",
       "        vertical-align: top;\n",
       "    }\n",
       "\n",
       "    .dataframe thead th {\n",
       "        text-align: right;\n",
       "    }\n",
       "</style>\n",
       "<table border=\"1\" class=\"dataframe\">\n",
       "  <thead>\n",
       "    <tr style=\"text-align: right;\">\n",
       "      <th></th>\n",
       "      <th>Year</th>\n",
       "      <th>Assigned_ID</th>\n",
       "      <th>Bank</th>\n",
       "      <th>MortDate</th>\n",
       "      <th>LTV_M</th>\n",
       "      <th>Purpose_M</th>\n",
       "      <th>Coop_M</th>\n",
       "      <th>Product_M</th>\n",
       "      <th>Occup_M</th>\n",
       "      <th>Back_M</th>\n",
       "      <th>BoCreditScor_M</th>\n",
       "      <th>PropType_M</th>\n",
       "      <th>Loan_Multiplier</th>\n",
       "    </tr>\n",
       "  </thead>\n",
       "  <tbody>\n",
       "    <tr>\n",
       "      <th>0</th>\n",
       "      <td>2017</td>\n",
       "      <td>2092102</td>\n",
       "      <td>Atlanta</td>\n",
       "      <td>2016</td>\n",
       "      <td>2.348</td>\n",
       "      <td>1.61</td>\n",
       "      <td>1.0</td>\n",
       "      <td>0.879</td>\n",
       "      <td>1.0</td>\n",
       "      <td>1.000</td>\n",
       "      <td>0.743</td>\n",
       "      <td>1.0</td>\n",
       "      <td>2.468890</td>\n",
       "    </tr>\n",
       "    <tr>\n",
       "      <th>1</th>\n",
       "      <td>2017</td>\n",
       "      <td>2092103</td>\n",
       "      <td>Atlanta</td>\n",
       "      <td>2016</td>\n",
       "      <td>2.846</td>\n",
       "      <td>1.61</td>\n",
       "      <td>1.0</td>\n",
       "      <td>0.879</td>\n",
       "      <td>1.0</td>\n",
       "      <td>1.000</td>\n",
       "      <td>0.743</td>\n",
       "      <td>1.0</td>\n",
       "      <td>2.992530</td>\n",
       "    </tr>\n",
       "    <tr>\n",
       "      <th>2</th>\n",
       "      <td>2017</td>\n",
       "      <td>2092104</td>\n",
       "      <td>Atlanta</td>\n",
       "      <td>2016</td>\n",
       "      <td>2.846</td>\n",
       "      <td>1.00</td>\n",
       "      <td>1.0</td>\n",
       "      <td>0.879</td>\n",
       "      <td>1.0</td>\n",
       "      <td>1.431</td>\n",
       "      <td>0.743</td>\n",
       "      <td>1.0</td>\n",
       "      <td>2.659820</td>\n",
       "    </tr>\n",
       "    <tr>\n",
       "      <th>3</th>\n",
       "      <td>2017</td>\n",
       "      <td>2092105</td>\n",
       "      <td>Atlanta</td>\n",
       "      <td>2016</td>\n",
       "      <td>0.453</td>\n",
       "      <td>1.61</td>\n",
       "      <td>1.0</td>\n",
       "      <td>0.879</td>\n",
       "      <td>1.0</td>\n",
       "      <td>1.431</td>\n",
       "      <td>1.760</td>\n",
       "      <td>1.0</td>\n",
       "      <td>1.614601</td>\n",
       "    </tr>\n",
       "    <tr>\n",
       "      <th>4</th>\n",
       "      <td>2017</td>\n",
       "      <td>2092106</td>\n",
       "      <td>Atlanta</td>\n",
       "      <td>2016</td>\n",
       "      <td>1.526</td>\n",
       "      <td>1.61</td>\n",
       "      <td>1.0</td>\n",
       "      <td>0.879</td>\n",
       "      <td>1.0</td>\n",
       "      <td>2.020</td>\n",
       "      <td>2.850</td>\n",
       "      <td>1.0</td>\n",
       "      <td>12.432702</td>\n",
       "    </tr>\n",
       "  </tbody>\n",
       "</table>\n",
       "</div>"
      ],
      "text/plain": [
       "   Year  Assigned_ID     Bank  MortDate  LTV_M  Purpose_M  Coop_M  Product_M  \\\n",
       "0  2017      2092102  Atlanta      2016  2.348       1.61     1.0      0.879   \n",
       "1  2017      2092103  Atlanta      2016  2.846       1.61     1.0      0.879   \n",
       "2  2017      2092104  Atlanta      2016  2.846       1.00     1.0      0.879   \n",
       "3  2017      2092105  Atlanta      2016  0.453       1.61     1.0      0.879   \n",
       "4  2017      2092106  Atlanta      2016  1.526       1.61     1.0      0.879   \n",
       "\n",
       "   Occup_M  Back_M  BoCreditScor_M  PropType_M  Loan_Multiplier  \n",
       "0      1.0   1.000           0.743         1.0         2.468890  \n",
       "1      1.0   1.000           0.743         1.0         2.992530  \n",
       "2      1.0   1.431           0.743         1.0         2.659820  \n",
       "3      1.0   1.431           1.760         1.0         1.614601  \n",
       "4      1.0   2.020           2.850         1.0        12.432702  "
      ]
     },
     "execution_count": 9,
     "metadata": {},
     "output_type": "execute_result"
    }
   ],
   "source": [
    "data.head()"
   ]
  },
  {
   "cell_type": "code",
   "execution_count": 10,
   "metadata": {},
   "outputs": [],
   "source": [
    "# Exporting to csv file\n",
    "data.to_csv(\"2017_Data.csv\", sep=',')"
   ]
  }
 ],
 "metadata": {
  "kernelspec": {
   "display_name": "Python 3",
   "language": "python",
   "name": "python3"
  },
  "language_info": {
   "codemirror_mode": {
    "name": "ipython",
    "version": 3
   },
   "file_extension": ".py",
   "mimetype": "text/x-python",
   "name": "python",
   "nbconvert_exporter": "python",
   "pygments_lexer": "ipython3",
   "version": "3.7.0"
  }
 },
 "nbformat": 4,
 "nbformat_minor": 2
}
