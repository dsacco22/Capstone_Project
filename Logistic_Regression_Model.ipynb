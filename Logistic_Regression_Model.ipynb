{
 "cells": [
  {
   "cell_type": "markdown",
   "metadata": {},
   "source": [
    "### Logistic Regression ###"
   ]
  },
  {
   "cell_type": "code",
   "execution_count": 1,
   "metadata": {},
   "outputs": [
    {
     "name": "stderr",
     "output_type": "stream",
     "text": [
      "D:\\Python\\lib\\site-packages\\sklearn\\externals\\six.py:31: DeprecationWarning: The module is deprecated in version 0.21 and will be removed in version 0.23 since we've dropped support for Python 2.7. Please rely on the official version of six (https://pypi.org/project/six/).\n",
      "  \"(https://pypi.org/project/six/).\", DeprecationWarning)\n"
     ]
    },
    {
     "name": "stdout",
     "output_type": "stream",
     "text": [
      "   LTV_M  Purpose_M  Coop_M  Product_M  Occup_M  Back_M  BoCreditScor_M  \\\n",
      "0  1.526       1.61     1.0      0.879      1.0   2.019            1.76   \n",
      "1  1.000       1.61     1.0      0.879      1.0   1.000            1.76   \n",
      "2  2.846       1.00     1.0      0.879      1.0   2.019            1.76   \n",
      "3  2.846       1.00     1.0      0.879      1.0   1.431            1.76   \n",
      "4  2.348       1.00     1.0      0.879      1.0   1.431            1.76   \n",
      "\n",
      "   PropType_M  Loan_Multiplier  Portfolio_Worthy  Year     Bank  MortDate  \\\n",
      "0         1.0         7.673938                 0  2016  Atlanta      2015   \n",
      "1         1.0         2.490734                 0  2016  Atlanta      2015   \n",
      "2         1.0         8.889406                 0  2016  Atlanta      2015   \n",
      "3         1.0         6.300515                 0  2016  Atlanta      2015   \n",
      "4         1.0         5.198036                 0  2016  Atlanta      2015   \n",
      "\n",
      "   Assigned_ID  \n",
      "0      2004452  \n",
      "1      2004453  \n",
      "2      2004454  \n",
      "3      2004455  \n",
      "4      2004456  \n"
     ]
    }
   ],
   "source": [
    "# Importing packages\n",
    "import pandas as pd\n",
    "import numpy as np\n",
    "import matplotlib.pyplot as plt\n",
    "import seaborn as sns\n",
    "from imblearn.over_sampling import RandomOverSampler\n",
    "from sklearn.model_selection import train_test_split\n",
    "from sklearn.linear_model import LogisticRegression\n",
    "from sklearn import metrics\n",
    "from sklearn.preprocessing import MinMaxScaler\n",
    "import pickle\n",
    "\n",
    "# Loading data\n",
    "data = pd.read_csv(\"MinMax.csv\", index_col=0, header=0)\n",
    "print(data.head())"
   ]
  },
  {
   "cell_type": "code",
   "execution_count": 2,
   "metadata": {},
   "outputs": [],
   "source": [
    "# Manipulating the data\n",
    "X = data.iloc[:,:-8]\n",
    "y = data.Portfolio_Worthy\n",
    "\n",
    "## Splitting the data into Training and Testing sets\n",
    "X_train, X_test, y_train, y_test = train_test_split(X, y, test_size=0.25, random_state=20317)"
   ]
  },
  {
   "cell_type": "code",
   "execution_count": 3,
   "metadata": {},
   "outputs": [],
   "source": [
    "# Creating a RandomOverSample variable\n",
    "rando_sampl = RandomOverSampler(random_state=20317)\n",
    "X_train_ros, y_train_ros = rando_sampl.fit_resample(X_train, y_train)"
   ]
  },
  {
   "cell_type": "code",
   "execution_count": 4,
   "metadata": {},
   "outputs": [
    {
     "data": {
      "text/plain": [
       "array([[4094,  894],\n",
       "       [1774, 8486]], dtype=int64)"
      ]
     },
     "execution_count": 4,
     "metadata": {},
     "output_type": "execute_result"
    }
   ],
   "source": [
    "# Building logistic regression model\n",
    "logreg = LogisticRegression(solver='liblinear')\n",
    "\n",
    "## Fitting the model\n",
    "logreg = logreg.fit(X_train_ros, y_train_ros)\n",
    "\n",
    "### Creating the 'y_pred' variable\n",
    "y_pred = logreg.predict(X_test)\n",
    "\n",
    "#### Creating the confusion matrix table\n",
    "conf_mat = metrics.confusion_matrix(y_test, y_pred)\n",
    "conf_mat"
   ]
  },
  {
   "cell_type": "code",
   "execution_count": 5,
   "metadata": {},
   "outputs": [
    {
     "data": {
      "text/plain": [
       "Text(0.5,257.44,'Predicted')"
      ]
     },
     "execution_count": 5,
     "metadata": {},
     "output_type": "execute_result"
    },
    {
     "data": {
      "image/png": "[encoded data removed]",
      "text/plain": [
       "<Figure size 432x288 with 2 Axes>"
      ]
     },
     "metadata": {
      "needs_background": "light"
     },
     "output_type": "display_data"
    }
   ],
   "source": [
    "# Making the confusion matrix look nice\n",
    "names = [0,1]\n",
    "fig, ax = plt.subplots()\n",
    "ticks = np.arange(len(names))\n",
    "plt.xticks(ticks, names)\n",
    "plt.yticks(ticks, names)\n",
    "\n",
    "sns.heatmap(pd.DataFrame(conf_mat), annot=True, cmap='GnBu', fmt='g')\n",
    "ax.xaxis.set_label_position('top')\n",
    "plt.tight_layout()\n",
    "plt.title('Confusion Matrix', y=1.1)\n",
    "plt.ylabel('Actual')\n",
    "plt.xlabel('Predicted')"
   ]
  },
  {
   "cell_type": "code",
   "execution_count": 6,
   "metadata": {},
   "outputs": [
    {
     "name": "stdout",
     "output_type": "stream",
     "text": [
      "Accuracy: 0.8250262329485835\n",
      "Precision: 0.9046908315565032\n",
      "Recall: 0.8270955165692008\n"
     ]
    }
   ],
   "source": [
    "# Printing the three measures of the model\n",
    "print(\"Accuracy:\", metrics.accuracy_score(y_test, y_pred))\n",
    "print(\"Precision:\", metrics.precision_score(y_test, y_pred))\n",
    "print(\"Recall:\", metrics.recall_score(y_test, y_pred))"
   ]
  },
  {
   "cell_type": "code",
   "execution_count": 7,
   "metadata": {},
   "outputs": [],
   "source": [
    "# import required packages for splitting data\n",
    "from sklearn import model_selection\n",
    "from sklearn.model_selection import cross_val_score\n",
    "from sklearn.model_selection import train_test_split\n",
    "\n",
    "# import required packages for evaluating models\n",
    "from sklearn import metrics\n",
    "from sklearn.metrics import confusion_matrix\n",
    "from sklearn.metrics import classification_report\n",
    "from sklearn.metrics import roc_auc_score\n",
    "from sklearn.metrics import accuracy_score\n",
    "from sklearn.metrics import precision_recall_fscore_support\n",
    "\n",
    "# Import Decision Tree Classifier  \n",
    "from sklearn.tree import DecisionTreeClassifier\n",
    "from sklearn.model_selection import train_test_split\n",
    "from sklearn import metrics"
   ]
  },
  {
   "cell_type": "code",
   "execution_count": 8,
   "metadata": {},
   "outputs": [
    {
     "data": {
      "text/plain": [
       "0.8281980390298173"
      ]
     },
     "execution_count": 8,
     "metadata": {},
     "output_type": "execute_result"
    }
   ],
   "source": [
    "from sklearn.metrics import f1_score\n",
    "f1_score(y_test, y_pred, average='weighted')"
   ]
  },
  {
   "cell_type": "code",
   "execution_count": 9,
   "metadata": {},
   "outputs": [
    {
     "name": "stdout",
     "output_type": "stream",
     "text": [
      "F1 0.8282; AUC 0.8239 \n",
      "Accuracy of classifier on test set: 0.83\n",
      "10-fold cross validation average accuracy of classifier: 0.819\n",
      "Confusion Matrix for Logistic Regression Classfier:\n",
      "[[4094  894]\n",
      " [1774 8486]]\n",
      "Classification Report for Logistic Regression Classfier:\n",
      "              precision    recall  f1-score   support\n",
      "\n",
      "           0       0.70      0.82      0.75      4988\n",
      "           1       0.90      0.83      0.86     10260\n",
      "\n",
      "    accuracy                           0.83     15248\n",
      "   macro avg       0.80      0.82      0.81     15248\n",
      "weighted avg       0.84      0.83      0.83     15248\n",
      "\n"
     ]
    }
   ],
   "source": [
    "# lists for f1-score and AUC\n",
    "f1_score_lst = []\n",
    "auc_lst = []\n",
    "\n",
    "#loop to calculate f1 and auc scores and present averages after 10 runs\n",
    "for count in range (1,10):\n",
    "\n",
    "    #10-fold cross validation\n",
    "    kfold = model_selection.KFold(n_splits=10, random_state=2019)\n",
    "    scoring = 'accuracy'\n",
    "    results = model_selection.cross_val_score(logreg, X_train_ros, y_train_ros, cv=kfold, scoring=scoring)\n",
    "\n",
    "    #calculate f1-score and AUC\n",
    "    roc_auc = roc_auc_score(y_test, y_pred)\n",
    "    f1_score_lst.append(precision_recall_fscore_support(y_test, y_pred, average='weighted')[2])\n",
    "    auc_lst.append(roc_auc)\n",
    "\n",
    "\n",
    "print('F1 {:.4f}; AUC {:.4f} '.format(np.mean(f1_score_lst),np.mean(auc_lst)))\n",
    "\n",
    "#result=logit_model.fit()\n",
    "confusion_matrix_y = confusion_matrix(y_test, y_pred)\n",
    "\n",
    "#print(result.summary())\n",
    "print('Accuracy of classifier on test set: {:.2f}'.format(logreg.score(X_test, y_test)))\n",
    "print(\"10-fold cross validation average accuracy of classifier: %.3f\" % (results.mean()))\n",
    "print('Confusion Matrix for Logistic Regression Classfier:')\n",
    "print(confusion_matrix_y)\n",
    "print('Classification Report for Logistic Regression Classfier:')\n",
    "print(classification_report(y_test, y_pred))"
   ]
  },
  {
   "cell_type": "code",
   "execution_count": 10,
   "metadata": {},
   "outputs": [],
   "source": [
    "# Saving Logistic Regression Model using pickle package\n",
    "finalname = 'logreg_model.p'\n",
    "pickle.dump(logreg, open(finalname, 'wb'))"
   ]
  }
 ],
 "metadata": {
  "kernelspec": {
   "display_name": "Python 3",
   "language": "python",
   "name": "python3"
  },
  "language_info": {
   "codemirror_mode": {
    "name": "ipython",
    "version": 3
   },
   "file_extension": ".py",
   "mimetype": "text/x-python",
   "name": "python",
   "nbconvert_exporter": "python",
   "pygments_lexer": "ipython3",
   "version": "3.7.0"
  }
 },
 "nbformat": 4,
 "nbformat_minor": 2
}
