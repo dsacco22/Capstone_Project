{
 "cells": [
  {
   "cell_type": "markdown",
   "metadata": {},
   "source": [
    "### Logistic Regression ###"
   ]
  },
  {
   "cell_type": "code",
   "execution_count": 2,
   "metadata": {},
   "outputs": [
    {
     "name": "stderr",
     "output_type": "stream",
     "text": [
      "D:\\Python\\lib\\site-packages\\sklearn\\externals\\six.py:31: DeprecationWarning: The module is deprecated in version 0.21 and will be removed in version 0.23 since we've dropped support for Python 2.7. Please rely on the official version of six (https://pypi.org/project/six/).\n",
      "  \"(https://pypi.org/project/six/).\", DeprecationWarning)\n"
     ]
    },
    {
     "name": "stdout",
     "output_type": "stream",
     "text": [
      "   IncRat   LTV  Purpose  Coop  Product  FedGuar  Occup   Front    Back  \\\n",
      "0  1.5112  0.84        2     2        1        2      1  0.2174  0.3683   \n",
      "1  0.7347  0.76        2     2        1        2      1  0.1850  0.2385   \n",
      "2  0.8536  0.80        1     2        1        2      1  0.2084  0.3817   \n",
      "3  1.4262  0.80        1     2        1        2      1  0.1481  0.3170   \n",
      "4  2.0272  0.89        1     2        1        2      1  0.2072  0.3184   \n",
      "\n",
      "   BoCreditScor  PropType       UPB  Portfolio_Worthy  Year     Bank  \\\n",
      "0             4         7  0.748225                 1  2016  Atlanta   \n",
      "1             4         1  0.203867                 1  2016  Atlanta   \n",
      "2             4         1  0.229064                 1  2016  Atlanta   \n",
      "3             4         1  0.302986                 1  2016  Atlanta   \n",
      "4             4         7  0.774628                 1  2016  Atlanta   \n",
      "\n",
      "   MortDate  Assigned_ID  \n",
      "0      2015      2004452  \n",
      "1      2015      2004453  \n",
      "2      2015      2004454  \n",
      "3      2015      2004455  \n",
      "4      2015      2004456  \n"
     ]
    }
   ],
   "source": [
    "# Importing packages\n",
    "import pandas as pd\n",
    "import numpy as np\n",
    "import matplotlib.pyplot as plt\n",
    "import seaborn as sns\n",
    "from imblearn.over_sampling import RandomOverSampler\n",
    "from sklearn.model_selection import train_test_split\n",
    "from sklearn.linear_model import LogisticRegression\n",
    "from sklearn import metrics\n",
    "import pickle\n",
    "\n",
    "# Loading data\n",
    "data = pd.read_csv(\"MinMax.csv\", index_col=0, header=0)\n",
    "print(data.head())"
   ]
  },
  {
   "cell_type": "code",
   "execution_count": 3,
   "metadata": {},
   "outputs": [],
   "source": [
    "# Manipulating the data\n",
    "X = data.iloc[:,:-5]\n",
    "y = data.Portfolio_Worthy\n",
    "\n",
    "## Splitting the data into Training and Testing sets\n",
    "X_train, X_test, y_train, y_test = train_test_split(X, y, test_size=0.25, random_state=20317)"
   ]
  },
  {
   "cell_type": "code",
   "execution_count": 4,
   "metadata": {},
   "outputs": [],
   "source": [
    "# Creating a RandomOverSample variable\n",
    "rando_sampl = RandomOverSampler(random_state=20317)\n",
    "X_train_ros, y_train_ros = rando_sampl.fit_resample(X_train, y_train)"
   ]
  },
  {
   "cell_type": "code",
   "execution_count": 5,
   "metadata": {},
   "outputs": [
    {
     "data": {
      "text/plain": [
       "array([[  983,    22],\n",
       "       [  377, 13866]], dtype=int64)"
      ]
     },
     "execution_count": 5,
     "metadata": {},
     "output_type": "execute_result"
    }
   ],
   "source": [
    "# Building logistic regression model\n",
    "logreg = LogisticRegression(solver='liblinear')\n",
    "\n",
    "## Fitting the model\n",
    "logreg = logreg.fit(X_train_ros, y_train_ros)\n",
    "\n",
    "### Creating the 'y_pred' variable\n",
    "y_pred = logreg.predict(X_test)\n",
    "\n",
    "#### Creating the confusion matrix table\n",
    "conf_mat = metrics.confusion_matrix(y_test, y_pred)\n",
    "conf_mat"
   ]
  },
  {
   "cell_type": "code",
   "execution_count": 6,
   "metadata": {},
   "outputs": [
    {
     "data": {
      "text/plain": [
       "Text(0.5,257.44,'Predicted')"
      ]
     },
     "execution_count": 6,
     "metadata": {},
     "output_type": "execute_result"
    },
    {
     "data": {
      "image/png": "[encoded data removed]",
      "text/plain": [
       "<Figure size 432x288 with 2 Axes>"
      ]
     },
     "metadata": {
      "needs_background": "light"
     },
     "output_type": "display_data"
    }
   ],
   "source": [
    "# Making the confusion matrix look nice\n",
    "names = [0,1]\n",
    "fig, ax = plt.subplots()\n",
    "ticks = np.arange(len(names))\n",
    "plt.xticks(ticks, names)\n",
    "plt.yticks(ticks, names)\n",
    "\n",
    "sns.heatmap(pd.DataFrame(conf_mat), annot=True, cmap='GnBu', fmt='g')\n",
    "ax.xaxis.set_label_position('top')\n",
    "plt.tight_layout()\n",
    "plt.title('Confusion Matrix', y=1.1)\n",
    "plt.ylabel('Actual')\n",
    "plt.xlabel('Predicted')"
   ]
  },
  {
   "cell_type": "code",
   "execution_count": 7,
   "metadata": {},
   "outputs": [
    {
     "name": "stdout",
     "output_type": "stream",
     "text": [
      "Accuracy: 0.9738326337880377\n",
      "Precision: 0.9984158986175116\n",
      "Recall: 0.973530857263217\n"
     ]
    }
   ],
   "source": [
    "# Printing the three measures of the model\n",
    "print(\"Accuracy:\", metrics.accuracy_score(y_test, y_pred))\n",
    "print(\"Precision:\", metrics.precision_score(y_test, y_pred))\n",
    "print(\"Recall:\", metrics.recall_score(y_test, y_pred))"
   ]
  },
  {
   "cell_type": "code",
   "execution_count": 8,
   "metadata": {},
   "outputs": [],
   "source": [
    "# import required packages for splitting data\n",
    "from sklearn import model_selection\n",
    "from sklearn.model_selection import cross_val_score\n",
    "from sklearn.model_selection import train_test_split\n",
    "\n",
    "# import required packages for evaluating models\n",
    "from sklearn import metrics\n",
    "from sklearn.metrics import confusion_matrix\n",
    "from sklearn.metrics import classification_report\n",
    "from sklearn.metrics import roc_auc_score\n",
    "from sklearn.metrics import accuracy_score\n",
    "from sklearn.metrics import precision_recall_fscore_support\n",
    "\n",
    "# Import Decision Tree Classifier  \n",
    "from sklearn.tree import DecisionTreeClassifier\n",
    "from sklearn.model_selection import train_test_split\n",
    "from sklearn import metrics"
   ]
  },
  {
   "cell_type": "code",
   "execution_count": 9,
   "metadata": {},
   "outputs": [
    {
     "data": {
      "text/plain": [
       "0.9756314593749207"
      ]
     },
     "execution_count": 9,
     "metadata": {},
     "output_type": "execute_result"
    }
   ],
   "source": [
    "from sklearn.metrics import f1_score\n",
    "f1_score(y_test, y_pred, average='weighted')"
   ]
  },
  {
   "cell_type": "code",
   "execution_count": 10,
   "metadata": {},
   "outputs": [
    {
     "name": "stdout",
     "output_type": "stream",
     "text": [
      "F1 0.9756; AUC 0.9758 \n",
      "Accuracy of classifier on test set: 0.97\n",
      "10-fold cross validation average accuracy of classifier: 0.974\n",
      "Confusion Matrix for Logistic Regression Classfier:\n",
      "[[  983    22]\n",
      " [  377 13866]]\n",
      "Classification Report for Logistic Regression Classfier:\n",
      "              precision    recall  f1-score   support\n",
      "\n",
      "           0       0.72      0.98      0.83      1005\n",
      "           1       1.00      0.97      0.99     14243\n",
      "\n",
      "    accuracy                           0.97     15248\n",
      "   macro avg       0.86      0.98      0.91     15248\n",
      "weighted avg       0.98      0.97      0.98     15248\n",
      "\n"
     ]
    }
   ],
   "source": [
    "# lists for f1-score and AUC\n",
    "f1_score_lst = []\n",
    "auc_lst = []\n",
    "\n",
    "#loop to calculate f1 and auc scores and present averages after 10 runs\n",
    "for count in range (1,10):\n",
    "\n",
    "    #10-fold cross validation\n",
    "    kfold = model_selection.KFold(n_splits=10, random_state=2019)\n",
    "    scoring = 'accuracy'\n",
    "    results = model_selection.cross_val_score(logreg, X_train_ros, y_train_ros, cv=kfold, scoring=scoring)\n",
    "\n",
    "    #calculate f1-score and AUC\n",
    "    roc_auc = roc_auc_score(y_test, y_pred)\n",
    "    f1_score_lst.append(precision_recall_fscore_support(y_test, y_pred, average='weighted')[2])\n",
    "    auc_lst.append(roc_auc)\n",
    "\n",
    "\n",
    "print('F1 {:.4f}; AUC {:.4f} '.format(np.mean(f1_score_lst),np.mean(auc_lst)))\n",
    "\n",
    "#result=logit_model.fit()\n",
    "confusion_matrix_y = confusion_matrix(y_test, y_pred)\n",
    "\n",
    "#print(result.summary())\n",
    "print('Accuracy of classifier on test set: {:.2f}'.format(logreg.score(X_test, y_test)))\n",
    "print(\"10-fold cross validation average accuracy of classifier: %.3f\" % (results.mean()))\n",
    "print('Confusion Matrix for Logistic Regression Classfier:')\n",
    "print(confusion_matrix_y)\n",
    "print('Classification Report for Logistic Regression Classfier:')\n",
    "print(classification_report(y_test, y_pred))"
   ]
  },
  {
   "cell_type": "code",
   "execution_count": 11,
   "metadata": {},
   "outputs": [],
   "source": [
    "# Saving Logistic Regression Model using pickle package\n",
    "finalname = 'logreg_model.p'\n",
    "pickle.dump(logreg, open(finalname, 'wb'))"
   ]
  }
 ],
 "metadata": {
  "kernelspec": {
   "display_name": "Python 3",
   "language": "python",
   "name": "python3"
  },
  "language_info": {
   "codemirror_mode": {
    "name": "ipython",
    "version": 3
   },
   "file_extension": ".py",
   "mimetype": "text/x-python",
   "name": "python",
   "nbconvert_exporter": "python",
   "pygments_lexer": "ipython3",
   "version": "3.7.0"
  }
 },
 "nbformat": 4,
 "nbformat_minor": 2
}
