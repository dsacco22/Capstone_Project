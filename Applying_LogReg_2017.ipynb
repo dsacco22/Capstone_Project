{
 "cells": [
  {
   "cell_type": "markdown",
   "metadata": {},
   "source": [
    "## Applying Logistic Regression Model to 2017 Data ##"
   ]
  },
  {
   "cell_type": "code",
   "execution_count": 1,
   "metadata": {},
   "outputs": [
    {
     "name": "stderr",
     "output_type": "stream",
     "text": [
      "D:\\Python\\lib\\site-packages\\sklearn\\externals\\six.py:31: DeprecationWarning: The module is deprecated in version 0.21 and will be removed in version 0.23 since we've dropped support for Python 2.7. Please rely on the official version of six (https://pypi.org/project/six/).\n",
      "  \"(https://pypi.org/project/six/).\", DeprecationWarning)\n"
     ]
    }
   ],
   "source": [
    "# Importing packages\n",
    "import pandas as pd\n",
    "import numpy as np\n",
    "import matplotlib.pyplot as plt\n",
    "import seaborn as sns\n",
    "from imblearn.over_sampling import RandomOverSampler\n",
    "from sklearn.model_selection import train_test_split\n",
    "from sklearn.linear_model import LogisticRegression\n",
    "from sklearn import metrics\n",
    "from scipy.stats import iqr\n",
    "from sklearn import preprocessing\n",
    "import pickle\n",
    "from sklearn.preprocessing import MinMaxScaler"
   ]
  },
  {
   "cell_type": "code",
   "execution_count": 2,
   "metadata": {},
   "outputs": [
    {
     "data": {
      "text/html": [
       "<div>\n",
       "<style scoped>\n",
       "    .dataframe tbody tr th:only-of-type {\n",
       "        vertical-align: middle;\n",
       "    }\n",
       "\n",
       "    .dataframe tbody tr th {\n",
       "        vertical-align: top;\n",
       "    }\n",
       "\n",
       "    .dataframe thead th {\n",
       "        text-align: right;\n",
       "    }\n",
       "</style>\n",
       "<table border=\"1\" class=\"dataframe\">\n",
       "  <thead>\n",
       "    <tr style=\"text-align: right;\">\n",
       "      <th></th>\n",
       "      <th>Year</th>\n",
       "      <th>Assigned_ID</th>\n",
       "      <th>Bank</th>\n",
       "      <th>IncRat</th>\n",
       "      <th>UPB</th>\n",
       "      <th>LTV</th>\n",
       "      <th>MortDate</th>\n",
       "      <th>Purpose</th>\n",
       "      <th>Coop</th>\n",
       "      <th>Product</th>\n",
       "      <th>FedGuar</th>\n",
       "      <th>Occup</th>\n",
       "      <th>Front</th>\n",
       "      <th>Back</th>\n",
       "      <th>BoCreditScor</th>\n",
       "      <th>PropType</th>\n",
       "    </tr>\n",
       "  </thead>\n",
       "  <tbody>\n",
       "    <tr>\n",
       "      <th>0</th>\n",
       "      <td>2017</td>\n",
       "      <td>2092102</td>\n",
       "      <td>Atlanta</td>\n",
       "      <td>3.2928</td>\n",
       "      <td>71967</td>\n",
       "      <td>0.89</td>\n",
       "      <td>2016</td>\n",
       "      <td>2</td>\n",
       "      <td>2</td>\n",
       "      <td>1</td>\n",
       "      <td>2</td>\n",
       "      <td>1</td>\n",
       "      <td>0.1118</td>\n",
       "      <td>0.2265</td>\n",
       "      <td>5</td>\n",
       "      <td>1</td>\n",
       "    </tr>\n",
       "    <tr>\n",
       "      <th>1</th>\n",
       "      <td>2017</td>\n",
       "      <td>2092103</td>\n",
       "      <td>Atlanta</td>\n",
       "      <td>4.0513</td>\n",
       "      <td>514837</td>\n",
       "      <td>0.94</td>\n",
       "      <td>2016</td>\n",
       "      <td>2</td>\n",
       "      <td>2</td>\n",
       "      <td>1</td>\n",
       "      <td>2</td>\n",
       "      <td>1</td>\n",
       "      <td>0.1446</td>\n",
       "      <td>0.2370</td>\n",
       "      <td>5</td>\n",
       "      <td>1</td>\n",
       "    </tr>\n",
       "    <tr>\n",
       "      <th>2</th>\n",
       "      <td>2017</td>\n",
       "      <td>2092104</td>\n",
       "      <td>Atlanta</td>\n",
       "      <td>2.2109</td>\n",
       "      <td>425563</td>\n",
       "      <td>1.04</td>\n",
       "      <td>2016</td>\n",
       "      <td>1</td>\n",
       "      <td>2</td>\n",
       "      <td>1</td>\n",
       "      <td>2</td>\n",
       "      <td>1</td>\n",
       "      <td>0.2312</td>\n",
       "      <td>0.3152</td>\n",
       "      <td>5</td>\n",
       "      <td>1</td>\n",
       "    </tr>\n",
       "    <tr>\n",
       "      <th>3</th>\n",
       "      <td>2017</td>\n",
       "      <td>2092105</td>\n",
       "      <td>Atlanta</td>\n",
       "      <td>2.3403</td>\n",
       "      <td>251800</td>\n",
       "      <td>0.75</td>\n",
       "      <td>2016</td>\n",
       "      <td>2</td>\n",
       "      <td>2</td>\n",
       "      <td>1</td>\n",
       "      <td>2</td>\n",
       "      <td>1</td>\n",
       "      <td>0.1657</td>\n",
       "      <td>0.3430</td>\n",
       "      <td>4</td>\n",
       "      <td>7</td>\n",
       "    </tr>\n",
       "    <tr>\n",
       "      <th>4</th>\n",
       "      <td>2017</td>\n",
       "      <td>2092106</td>\n",
       "      <td>Atlanta</td>\n",
       "      <td>1.0537</td>\n",
       "      <td>290613</td>\n",
       "      <td>0.85</td>\n",
       "      <td>2016</td>\n",
       "      <td>2</td>\n",
       "      <td>2</td>\n",
       "      <td>1</td>\n",
       "      <td>2</td>\n",
       "      <td>1</td>\n",
       "      <td>0.4062</td>\n",
       "      <td>0.4224</td>\n",
       "      <td>3</td>\n",
       "      <td>1</td>\n",
       "    </tr>\n",
       "  </tbody>\n",
       "</table>\n",
       "</div>"
      ],
      "text/plain": [
       "   Year  Assigned_ID     Bank  IncRat     UPB   LTV  MortDate  Purpose  Coop  \\\n",
       "0  2017      2092102  Atlanta  3.2928   71967  0.89      2016        2     2   \n",
       "1  2017      2092103  Atlanta  4.0513  514837  0.94      2016        2     2   \n",
       "2  2017      2092104  Atlanta  2.2109  425563  1.04      2016        1     2   \n",
       "3  2017      2092105  Atlanta  2.3403  251800  0.75      2016        2     2   \n",
       "4  2017      2092106  Atlanta  1.0537  290613  0.85      2016        2     2   \n",
       "\n",
       "   Product  FedGuar  Occup   Front    Back  BoCreditScor  PropType  \n",
       "0        1        2      1  0.1118  0.2265             5         1  \n",
       "1        1        2      1  0.1446  0.2370             5         1  \n",
       "2        1        2      1  0.2312  0.3152             5         1  \n",
       "3        1        2      1  0.1657  0.3430             4         7  \n",
       "4        1        2      1  0.4062  0.4224             3         1  "
      ]
     },
     "execution_count": 2,
     "metadata": {},
     "output_type": "execute_result"
    }
   ],
   "source": [
    "# Loading 2017 data\n",
    "data = pd.read_csv(\"2017_Data.csv\", header=0, index_col=0)\n",
    "data.head()"
   ]
  },
  {
   "cell_type": "code",
   "execution_count": 3,
   "metadata": {},
   "outputs": [],
   "source": [
    "# Splitting data into target/data variables\n",
    "\n",
    "data_year = data.Year\n",
    "data_assigned = data.Assigned_ID\n",
    "data_bank = data.Bank\n",
    "data_mortdate = data.MortDate\n",
    "data = data.drop(columns=['Year','Assigned_ID','Bank','MortDate'], axis=1)"
   ]
  },
  {
   "cell_type": "code",
   "execution_count": 4,
   "metadata": {},
   "outputs": [
    {
     "data": {
      "text/html": [
       "<div>\n",
       "<style scoped>\n",
       "    .dataframe tbody tr th:only-of-type {\n",
       "        vertical-align: middle;\n",
       "    }\n",
       "\n",
       "    .dataframe tbody tr th {\n",
       "        vertical-align: top;\n",
       "    }\n",
       "\n",
       "    .dataframe thead th {\n",
       "        text-align: right;\n",
       "    }\n",
       "</style>\n",
       "<table border=\"1\" class=\"dataframe\">\n",
       "  <thead>\n",
       "    <tr style=\"text-align: right;\">\n",
       "      <th></th>\n",
       "      <th>IncRat</th>\n",
       "      <th>UPB</th>\n",
       "      <th>LTV</th>\n",
       "      <th>Purpose</th>\n",
       "      <th>Coop</th>\n",
       "      <th>Product</th>\n",
       "      <th>FedGuar</th>\n",
       "      <th>Occup</th>\n",
       "      <th>Front</th>\n",
       "      <th>Back</th>\n",
       "      <th>BoCreditScor</th>\n",
       "      <th>PropType</th>\n",
       "    </tr>\n",
       "  </thead>\n",
       "  <tbody>\n",
       "    <tr>\n",
       "      <th>0</th>\n",
       "      <td>3.2928</td>\n",
       "      <td>71967</td>\n",
       "      <td>0.89</td>\n",
       "      <td>2</td>\n",
       "      <td>2</td>\n",
       "      <td>1</td>\n",
       "      <td>2</td>\n",
       "      <td>1</td>\n",
       "      <td>0.1118</td>\n",
       "      <td>0.2265</td>\n",
       "      <td>5</td>\n",
       "      <td>1</td>\n",
       "    </tr>\n",
       "    <tr>\n",
       "      <th>1</th>\n",
       "      <td>4.0513</td>\n",
       "      <td>514837</td>\n",
       "      <td>0.94</td>\n",
       "      <td>2</td>\n",
       "      <td>2</td>\n",
       "      <td>1</td>\n",
       "      <td>2</td>\n",
       "      <td>1</td>\n",
       "      <td>0.1446</td>\n",
       "      <td>0.2370</td>\n",
       "      <td>5</td>\n",
       "      <td>1</td>\n",
       "    </tr>\n",
       "    <tr>\n",
       "      <th>2</th>\n",
       "      <td>2.2109</td>\n",
       "      <td>425563</td>\n",
       "      <td>1.04</td>\n",
       "      <td>1</td>\n",
       "      <td>2</td>\n",
       "      <td>1</td>\n",
       "      <td>2</td>\n",
       "      <td>1</td>\n",
       "      <td>0.2312</td>\n",
       "      <td>0.3152</td>\n",
       "      <td>5</td>\n",
       "      <td>1</td>\n",
       "    </tr>\n",
       "    <tr>\n",
       "      <th>3</th>\n",
       "      <td>2.3403</td>\n",
       "      <td>251800</td>\n",
       "      <td>0.75</td>\n",
       "      <td>2</td>\n",
       "      <td>2</td>\n",
       "      <td>1</td>\n",
       "      <td>2</td>\n",
       "      <td>1</td>\n",
       "      <td>0.1657</td>\n",
       "      <td>0.3430</td>\n",
       "      <td>4</td>\n",
       "      <td>7</td>\n",
       "    </tr>\n",
       "    <tr>\n",
       "      <th>4</th>\n",
       "      <td>1.0537</td>\n",
       "      <td>290613</td>\n",
       "      <td>0.85</td>\n",
       "      <td>2</td>\n",
       "      <td>2</td>\n",
       "      <td>1</td>\n",
       "      <td>2</td>\n",
       "      <td>1</td>\n",
       "      <td>0.4062</td>\n",
       "      <td>0.4224</td>\n",
       "      <td>3</td>\n",
       "      <td>1</td>\n",
       "    </tr>\n",
       "  </tbody>\n",
       "</table>\n",
       "</div>"
      ],
      "text/plain": [
       "   IncRat     UPB   LTV  Purpose  Coop  Product  FedGuar  Occup   Front  \\\n",
       "0  3.2928   71967  0.89        2     2        1        2      1  0.1118   \n",
       "1  4.0513  514837  0.94        2     2        1        2      1  0.1446   \n",
       "2  2.2109  425563  1.04        1     2        1        2      1  0.2312   \n",
       "3  2.3403  251800  0.75        2     2        1        2      1  0.1657   \n",
       "4  1.0537  290613  0.85        2     2        1        2      1  0.4062   \n",
       "\n",
       "     Back  BoCreditScor  PropType  \n",
       "0  0.2265             5         1  \n",
       "1  0.2370             5         1  \n",
       "2  0.3152             5         1  \n",
       "3  0.3430             4         7  \n",
       "4  0.4224             3         1  "
      ]
     },
     "execution_count": 4,
     "metadata": {},
     "output_type": "execute_result"
    }
   ],
   "source": [
    "# Checking data\n",
    "data.head()"
   ]
  },
  {
   "cell_type": "markdown",
   "metadata": {},
   "source": [
    "#### Outliers ####"
   ]
  },
  {
   "cell_type": "code",
   "execution_count": 5,
   "metadata": {},
   "outputs": [
    {
     "data": {
      "text/plain": [
       "{'whiskers': [<matplotlib.lines.Line2D at 0x1a7268765c0>,\n",
       "  <matplotlib.lines.Line2D at 0x1a7268769e8>],\n",
       " 'caps': [<matplotlib.lines.Line2D at 0x1a726876e10>,\n",
       "  <matplotlib.lines.Line2D at 0x1a726876ef0>],\n",
       " 'boxes': [<matplotlib.lines.Line2D at 0x1a726876048>],\n",
       " 'medians': [<matplotlib.lines.Line2D at 0x1a7268856a0>],\n",
       " 'fliers': [<matplotlib.lines.Line2D at 0x1a726885ac8>],\n",
       " 'means': []}"
      ]
     },
     "execution_count": 5,
     "metadata": {},
     "output_type": "execute_result"
    },
    {
     "data": {
      "image/png": "[encoded data removed]",
      "text/plain": [
       "<Figure size 432x288 with 1 Axes>"
      ]
     },
     "metadata": {
      "needs_background": "light"
     },
     "output_type": "display_data"
    }
   ],
   "source": [
    "# Defining the function 'iqr_outliers' to help with outliers\n",
    "\n",
    "def iqr_outliers(x):\n",
    "    if x > (Q3 + (1.5*IQR)):\n",
    "        x=Q3\n",
    "    elif x <(Q1 - (1.5*IQR)):\n",
    "        x=Q1\n",
    "    else:\n",
    "        pass\n",
    "    return(x)\n",
    "\n",
    "Q1 = data['IncRat'].quantile(0.25)\n",
    "Q3 = data['IncRat'].quantile(0.75)\n",
    "IQR = iqr(data['IncRat'])\n",
    "data['IncRat']=data['IncRat'].apply(lambda x: iqr_outliers(x))\n",
    "\n",
    "# Plotting boxplot\n",
    "plt.boxplot(data.IncRat)"
   ]
  },
  {
   "cell_type": "code",
   "execution_count": 6,
   "metadata": {},
   "outputs": [
    {
     "data": {
      "text/plain": [
       "{'whiskers': [<matplotlib.lines.Line2D at 0x1a727213860>,\n",
       "  <matplotlib.lines.Line2D at 0x1a727213c88>],\n",
       " 'caps': [<matplotlib.lines.Line2D at 0x1a727213d68>,\n",
       "  <matplotlib.lines.Line2D at 0x1a72720b518>],\n",
       " 'boxes': [<matplotlib.lines.Line2D at 0x1a7272132e8>],\n",
       " 'medians': [<matplotlib.lines.Line2D at 0x1a72720b940>],\n",
       " 'fliers': [<matplotlib.lines.Line2D at 0x1a72720bd68>],\n",
       " 'means': []}"
      ]
     },
     "execution_count": 6,
     "metadata": {},
     "output_type": "execute_result"
    },
    {
     "data": {
      "image/png": "[encoded data removed]",
      "text/plain": [
       "<Figure size 432x288 with 1 Axes>"
      ]
     },
     "metadata": {
      "needs_background": "light"
     },
     "output_type": "display_data"
    }
   ],
   "source": [
    "Q1 = data['UPB'].quantile(0.25)\n",
    "Q3 = data['UPB'].quantile(0.75)\n",
    "IQR = iqr(data['UPB'])\n",
    "data['UPB']=data['UPB'].apply(lambda x: iqr_outliers(x))\n",
    "\n",
    "# Plotting boxplot\n",
    "plt.boxplot(data.UPB)"
   ]
  },
  {
   "cell_type": "code",
   "execution_count": 7,
   "metadata": {},
   "outputs": [
    {
     "data": {
      "text/plain": [
       "{'whiskers': [<matplotlib.lines.Line2D at 0x1a726922f28>,\n",
       "  <matplotlib.lines.Line2D at 0x1a7269187b8>],\n",
       " 'caps': [<matplotlib.lines.Line2D at 0x1a726918be0>,\n",
       "  <matplotlib.lines.Line2D at 0x1a726918cc0>],\n",
       " 'boxes': [<matplotlib.lines.Line2D at 0x1a726922dd8>],\n",
       " 'medians': [<matplotlib.lines.Line2D at 0x1a72690d470>],\n",
       " 'fliers': [<matplotlib.lines.Line2D at 0x1a72690d898>],\n",
       " 'means': []}"
      ]
     },
     "execution_count": 7,
     "metadata": {},
     "output_type": "execute_result"
    },
    {
     "data": {
      "image/png": "[encoded data removed]",
      "text/plain": [
       "<Figure size 432x288 with 1 Axes>"
      ]
     },
     "metadata": {
      "needs_background": "light"
     },
     "output_type": "display_data"
    }
   ],
   "source": [
    "Q1 = data['LTV'].quantile(0.25)\n",
    "Q3 = data['LTV'].quantile(0.75)\n",
    "IQR = iqr(data['LTV'])\n",
    "data['LTV']=data['LTV'].apply(lambda x: iqr_outliers(x))\n",
    "\n",
    "# Plotting boxplot\n",
    "plt.boxplot(data.LTV)"
   ]
  },
  {
   "cell_type": "code",
   "execution_count": 8,
   "metadata": {},
   "outputs": [
    {
     "data": {
      "text/plain": [
       "{'whiskers': [<matplotlib.lines.Line2D at 0x1a726983cf8>,\n",
       "  <matplotlib.lines.Line2D at 0x1a72698d588>],\n",
       " 'caps': [<matplotlib.lines.Line2D at 0x1a72698d9b0>,\n",
       "  <matplotlib.lines.Line2D at 0x1a72698ddd8>],\n",
       " 'boxes': [<matplotlib.lines.Line2D at 0x1a726983ba8>],\n",
       " 'medians': [<matplotlib.lines.Line2D at 0x1a72698deb8>],\n",
       " 'fliers': [<matplotlib.lines.Line2D at 0x1a726995668>],\n",
       " 'means': []}"
      ]
     },
     "execution_count": 8,
     "metadata": {},
     "output_type": "execute_result"
    },
    {
     "data": {
      "image/png": "[encoded data removed]",
      "text/plain": [
       "<Figure size 432x288 with 1 Axes>"
      ]
     },
     "metadata": {
      "needs_background": "light"
     },
     "output_type": "display_data"
    }
   ],
   "source": [
    "Q1 = data['Front'].quantile(0.25)\n",
    "Q3 = data['Front'].quantile(0.75)\n",
    "IQR = iqr(data['Front'])\n",
    "data['Front']=data['Front'].apply(lambda x: iqr_outliers(x))\n",
    "\n",
    "# Plotting boxplot\n",
    "plt.boxplot(data.Front)"
   ]
  },
  {
   "cell_type": "code",
   "execution_count": 9,
   "metadata": {},
   "outputs": [
    {
     "data": {
      "text/plain": [
       "{'whiskers': [<matplotlib.lines.Line2D at 0x1a727158f28>,\n",
       "  <matplotlib.lines.Line2D at 0x1a7271657b8>],\n",
       " 'caps': [<matplotlib.lines.Line2D at 0x1a727165be0>,\n",
       "  <matplotlib.lines.Line2D at 0x1a727165cc0>],\n",
       " 'boxes': [<matplotlib.lines.Line2D at 0x1a727158dd8>],\n",
       " 'medians': [<matplotlib.lines.Line2D at 0x1a727168470>],\n",
       " 'fliers': [<matplotlib.lines.Line2D at 0x1a727168898>],\n",
       " 'means': []}"
      ]
     },
     "execution_count": 9,
     "metadata": {},
     "output_type": "execute_result"
    },
    {
     "data": {
      "image/png": "[encoded data removed]",
      "text/plain": [
       "<Figure size 432x288 with 1 Axes>"
      ]
     },
     "metadata": {
      "needs_background": "light"
     },
     "output_type": "display_data"
    }
   ],
   "source": [
    "Q1 = data['Back'].quantile(0.25)\n",
    "Q3 = data['Back'].quantile(0.75)\n",
    "IQR = iqr(data['Back'])\n",
    "data['Back']=data['Back'].apply(lambda x: iqr_outliers(x))\n",
    "\n",
    "# Plotting boxplot\n",
    "plt.boxplot(data.Back)"
   ]
  },
  {
   "cell_type": "markdown",
   "metadata": {},
   "source": [
    "#### Normalization ####"
   ]
  },
  {
   "cell_type": "code",
   "execution_count": 10,
   "metadata": {},
   "outputs": [
    {
     "data": {
      "text/plain": [
       "IncRat               1.419254\n",
       "UPB             217952.062725\n",
       "LTV                  0.787325\n",
       "Purpose              1.412645\n",
       "Coop                 2.000000\n",
       "Product              1.000000\n",
       "FedGuar              0.199679\n",
       "Occup                1.022897\n",
       "Front                0.201148\n",
       "Back                 0.312918\n",
       "BoCreditScor         4.353724\n",
       "PropType             2.252277\n",
       "dtype: float64"
      ]
     },
     "execution_count": 10,
     "metadata": {},
     "output_type": "execute_result"
    }
   ],
   "source": [
    "# Checking the mean of the data\n",
    "data.mean()"
   ]
  },
  {
   "cell_type": "code",
   "execution_count": 11,
   "metadata": {},
   "outputs": [],
   "source": [
    "# Moving features to another variable\n",
    "features_no = data.filter(['IncRat','LTV','Purpose','Coop','Product','FedGuar','Occup','Front','Back','BoCreditScor','PropType'], axis=1)\n",
    "\n",
    "# Dropping other variables\n",
    "data = data.drop(['IncRat','LTV','Purpose','Coop','Product','FedGuar','Occup','Front','Back','BoCreditScor','PropType'], axis=1)\n",
    "\n",
    "# Creating a new variable for columns\n",
    "new_cols = ['UPB']\n",
    "\n",
    "# Normalizing using MinMax\n",
    "minmax = preprocessing.MinMaxScaler()\n",
    "normal_data = (minmax.fit_transform(data))\n",
    "normal_data = pd.DataFrame(normal_data, columns=new_cols)"
   ]
  },
  {
   "cell_type": "code",
   "execution_count": 12,
   "metadata": {},
   "outputs": [
    {
     "data": {
      "text/plain": [
       "UPB    0.381208\n",
       "dtype: float64"
      ]
     },
     "execution_count": 12,
     "metadata": {},
     "output_type": "execute_result"
    }
   ],
   "source": [
    "# Checking normal_data mean\n",
    "normal_data.mean()"
   ]
  },
  {
   "cell_type": "code",
   "execution_count": 13,
   "metadata": {},
   "outputs": [
    {
     "name": "stdout",
     "output_type": "stream",
     "text": [
      "   IncRat   LTV  Purpose  Coop  Product  FedGuar  Occup   Front    Back  \\\n",
      "0  3.2928  0.89        2     2        1        2      1  0.1118  0.2265   \n",
      "1  1.9031  0.94        2     2        1        2      1  0.1446  0.2370   \n",
      "2  2.2109  1.04        1     2        1        2      1  0.2312  0.3152   \n",
      "3  2.3403  0.75        2     2        1        2      1  0.1657  0.3430   \n",
      "4  1.0537  0.85        2     2        1        2      1  0.4062  0.4224   \n",
      "\n",
      "   BoCreditScor  PropType       UPB  \n",
      "0             5         1  0.119025  \n",
      "1             5         1  0.914399  \n",
      "2             5         1  0.754067  \n",
      "3             4         7  0.441997  \n",
      "4             3         1  0.511703  \n"
     ]
    }
   ],
   "source": [
    "data = pd.concat([features_no, normal_data], axis=1, join='inner')\n",
    "print(data.head())"
   ]
  },
  {
   "cell_type": "markdown",
   "metadata": {},
   "source": [
    "#### Skewness ####"
   ]
  },
  {
   "cell_type": "code",
   "execution_count": 14,
   "metadata": {},
   "outputs": [
    {
     "data": {
      "text/plain": [
       "IncRat          0.624697\n",
       "LTV            -0.160128\n",
       "Purpose         0.429509\n",
       "Coop            0.000000\n",
       "Product         0.000000\n",
       "FedGuar         3.321708\n",
       "Occup           6.395588\n",
       "Front           0.431211\n",
       "Back           -0.108916\n",
       "BoCreditScor   -0.867399\n",
       "PropType        2.045434\n",
       "UPB             0.752869\n",
       "dtype: float64"
      ]
     },
     "execution_count": 14,
     "metadata": {},
     "output_type": "execute_result"
    }
   ],
   "source": [
    "# Checking skewness\n",
    "data.skew()"
   ]
  },
  {
   "cell_type": "markdown",
   "metadata": {},
   "source": [
    "__There is no skewness, as the attributes that have high skew are categorical variables.__"
   ]
  },
  {
   "cell_type": "code",
   "execution_count": 15,
   "metadata": {},
   "outputs": [
    {
     "data": {
      "text/html": [
       "<div>\n",
       "<style scoped>\n",
       "    .dataframe tbody tr th:only-of-type {\n",
       "        vertical-align: middle;\n",
       "    }\n",
       "\n",
       "    .dataframe tbody tr th {\n",
       "        vertical-align: top;\n",
       "    }\n",
       "\n",
       "    .dataframe thead th {\n",
       "        text-align: right;\n",
       "    }\n",
       "</style>\n",
       "<table border=\"1\" class=\"dataframe\">\n",
       "  <thead>\n",
       "    <tr style=\"text-align: right;\">\n",
       "      <th></th>\n",
       "      <th>IncRat</th>\n",
       "      <th>LTV</th>\n",
       "      <th>Purpose</th>\n",
       "      <th>Coop</th>\n",
       "      <th>Product</th>\n",
       "      <th>FedGuar</th>\n",
       "      <th>Occup</th>\n",
       "      <th>Front</th>\n",
       "      <th>Back</th>\n",
       "      <th>BoCreditScor</th>\n",
       "      <th>PropType</th>\n",
       "      <th>UPB</th>\n",
       "      <th>Year</th>\n",
       "      <th>Bank</th>\n",
       "      <th>MortDate</th>\n",
       "      <th>Assigned_ID</th>\n",
       "    </tr>\n",
       "  </thead>\n",
       "  <tbody>\n",
       "    <tr>\n",
       "      <th>0</th>\n",
       "      <td>3.2928</td>\n",
       "      <td>0.89</td>\n",
       "      <td>2</td>\n",
       "      <td>2</td>\n",
       "      <td>1</td>\n",
       "      <td>2</td>\n",
       "      <td>1</td>\n",
       "      <td>0.1118</td>\n",
       "      <td>0.2265</td>\n",
       "      <td>5</td>\n",
       "      <td>1</td>\n",
       "      <td>0.119025</td>\n",
       "      <td>2017</td>\n",
       "      <td>Atlanta</td>\n",
       "      <td>2016</td>\n",
       "      <td>2092102</td>\n",
       "    </tr>\n",
       "    <tr>\n",
       "      <th>1</th>\n",
       "      <td>1.9031</td>\n",
       "      <td>0.94</td>\n",
       "      <td>2</td>\n",
       "      <td>2</td>\n",
       "      <td>1</td>\n",
       "      <td>2</td>\n",
       "      <td>1</td>\n",
       "      <td>0.1446</td>\n",
       "      <td>0.2370</td>\n",
       "      <td>5</td>\n",
       "      <td>1</td>\n",
       "      <td>0.914399</td>\n",
       "      <td>2017</td>\n",
       "      <td>Atlanta</td>\n",
       "      <td>2016</td>\n",
       "      <td>2092103</td>\n",
       "    </tr>\n",
       "    <tr>\n",
       "      <th>2</th>\n",
       "      <td>2.2109</td>\n",
       "      <td>1.04</td>\n",
       "      <td>1</td>\n",
       "      <td>2</td>\n",
       "      <td>1</td>\n",
       "      <td>2</td>\n",
       "      <td>1</td>\n",
       "      <td>0.2312</td>\n",
       "      <td>0.3152</td>\n",
       "      <td>5</td>\n",
       "      <td>1</td>\n",
       "      <td>0.754067</td>\n",
       "      <td>2017</td>\n",
       "      <td>Atlanta</td>\n",
       "      <td>2016</td>\n",
       "      <td>2092104</td>\n",
       "    </tr>\n",
       "    <tr>\n",
       "      <th>3</th>\n",
       "      <td>2.3403</td>\n",
       "      <td>0.75</td>\n",
       "      <td>2</td>\n",
       "      <td>2</td>\n",
       "      <td>1</td>\n",
       "      <td>2</td>\n",
       "      <td>1</td>\n",
       "      <td>0.1657</td>\n",
       "      <td>0.3430</td>\n",
       "      <td>4</td>\n",
       "      <td>7</td>\n",
       "      <td>0.441997</td>\n",
       "      <td>2017</td>\n",
       "      <td>Atlanta</td>\n",
       "      <td>2016</td>\n",
       "      <td>2092105</td>\n",
       "    </tr>\n",
       "    <tr>\n",
       "      <th>4</th>\n",
       "      <td>1.0537</td>\n",
       "      <td>0.85</td>\n",
       "      <td>2</td>\n",
       "      <td>2</td>\n",
       "      <td>1</td>\n",
       "      <td>2</td>\n",
       "      <td>1</td>\n",
       "      <td>0.4062</td>\n",
       "      <td>0.4224</td>\n",
       "      <td>3</td>\n",
       "      <td>1</td>\n",
       "      <td>0.511703</td>\n",
       "      <td>2017</td>\n",
       "      <td>Atlanta</td>\n",
       "      <td>2016</td>\n",
       "      <td>2092106</td>\n",
       "    </tr>\n",
       "  </tbody>\n",
       "</table>\n",
       "</div>"
      ],
      "text/plain": [
       "   IncRat   LTV  Purpose  Coop  Product  FedGuar  Occup   Front    Back  \\\n",
       "0  3.2928  0.89        2     2        1        2      1  0.1118  0.2265   \n",
       "1  1.9031  0.94        2     2        1        2      1  0.1446  0.2370   \n",
       "2  2.2109  1.04        1     2        1        2      1  0.2312  0.3152   \n",
       "3  2.3403  0.75        2     2        1        2      1  0.1657  0.3430   \n",
       "4  1.0537  0.85        2     2        1        2      1  0.4062  0.4224   \n",
       "\n",
       "   BoCreditScor  PropType       UPB  Year     Bank  MortDate  Assigned_ID  \n",
       "0             5         1  0.119025  2017  Atlanta      2016      2092102  \n",
       "1             5         1  0.914399  2017  Atlanta      2016      2092103  \n",
       "2             5         1  0.754067  2017  Atlanta      2016      2092104  \n",
       "3             4         7  0.441997  2017  Atlanta      2016      2092105  \n",
       "4             3         1  0.511703  2017  Atlanta      2016      2092106  "
      ]
     },
     "execution_count": 15,
     "metadata": {},
     "output_type": "execute_result"
    }
   ],
   "source": [
    "# Concatinating the dataframe back together\n",
    "\n",
    "data = pd.concat([data, data_year], axis=1, join='inner')\n",
    "data = pd.concat([data, data_bank], axis=1, join='inner')\n",
    "data = pd.concat([data, data_mortdate], axis=1, join='inner')\n",
    "data = pd.concat([data, data_assigned], axis=1, join='inner')\n",
    "data.head()"
   ]
  },
  {
   "cell_type": "markdown",
   "metadata": {},
   "source": [
    "### Loading Logistic Regression Model Already Built ###"
   ]
  },
  {
   "cell_type": "code",
   "execution_count": 16,
   "metadata": {},
   "outputs": [],
   "source": [
    "# Loading logistic regression model\n",
    "logreg = pickle.load(open('logreg_model.p','rb'))"
   ]
  },
  {
   "cell_type": "code",
   "execution_count": 17,
   "metadata": {},
   "outputs": [
    {
     "name": "stdout",
     "output_type": "stream",
     "text": [
      "0    33687\n",
      "1    22303\n",
      "dtype: int64\n"
     ]
    }
   ],
   "source": [
    "# Attempt 1\n",
    "pred_cols = list(data.columns.values)[:-4]\n",
    "\n",
    "scaler = MinMaxScaler()\n",
    "X_pred = scaler.fit(data[pred_cols]).transform(data[pred_cols])\n",
    "\n",
    "predictions = pd.Series(logreg.predict(X_pred))\n",
    "print(predictions.value_counts())"
   ]
  },
  {
   "cell_type": "code",
   "execution_count": 18,
   "metadata": {},
   "outputs": [
    {
     "data": {
      "text/html": [
       "<div>\n",
       "<style scoped>\n",
       "    .dataframe tbody tr th:only-of-type {\n",
       "        vertical-align: middle;\n",
       "    }\n",
       "\n",
       "    .dataframe tbody tr th {\n",
       "        vertical-align: top;\n",
       "    }\n",
       "\n",
       "    .dataframe thead th {\n",
       "        text-align: right;\n",
       "    }\n",
       "</style>\n",
       "<table border=\"1\" class=\"dataframe\">\n",
       "  <thead>\n",
       "    <tr style=\"text-align: right;\">\n",
       "      <th></th>\n",
       "      <th>IncRat</th>\n",
       "      <th>LTV</th>\n",
       "      <th>Purpose</th>\n",
       "      <th>Coop</th>\n",
       "      <th>Product</th>\n",
       "      <th>FedGuar</th>\n",
       "      <th>Occup</th>\n",
       "      <th>Front</th>\n",
       "      <th>Back</th>\n",
       "      <th>BoCreditScor</th>\n",
       "      <th>PropType</th>\n",
       "      <th>UPB</th>\n",
       "      <th>Year</th>\n",
       "      <th>Bank</th>\n",
       "      <th>MortDate</th>\n",
       "      <th>Assigned_ID</th>\n",
       "      <th>Portfolio_Worthy</th>\n",
       "    </tr>\n",
       "  </thead>\n",
       "  <tbody>\n",
       "    <tr>\n",
       "      <th>0</th>\n",
       "      <td>3.2928</td>\n",
       "      <td>0.89</td>\n",
       "      <td>2</td>\n",
       "      <td>2</td>\n",
       "      <td>1</td>\n",
       "      <td>2</td>\n",
       "      <td>1</td>\n",
       "      <td>0.1118</td>\n",
       "      <td>0.2265</td>\n",
       "      <td>5</td>\n",
       "      <td>1</td>\n",
       "      <td>0.119025</td>\n",
       "      <td>2017</td>\n",
       "      <td>Atlanta</td>\n",
       "      <td>2016</td>\n",
       "      <td>2092102</td>\n",
       "      <td>0</td>\n",
       "    </tr>\n",
       "    <tr>\n",
       "      <th>1</th>\n",
       "      <td>1.9031</td>\n",
       "      <td>0.94</td>\n",
       "      <td>2</td>\n",
       "      <td>2</td>\n",
       "      <td>1</td>\n",
       "      <td>2</td>\n",
       "      <td>1</td>\n",
       "      <td>0.1446</td>\n",
       "      <td>0.2370</td>\n",
       "      <td>5</td>\n",
       "      <td>1</td>\n",
       "      <td>0.914399</td>\n",
       "      <td>2017</td>\n",
       "      <td>Atlanta</td>\n",
       "      <td>2016</td>\n",
       "      <td>2092103</td>\n",
       "      <td>0</td>\n",
       "    </tr>\n",
       "    <tr>\n",
       "      <th>2</th>\n",
       "      <td>2.2109</td>\n",
       "      <td>1.04</td>\n",
       "      <td>1</td>\n",
       "      <td>2</td>\n",
       "      <td>1</td>\n",
       "      <td>2</td>\n",
       "      <td>1</td>\n",
       "      <td>0.2312</td>\n",
       "      <td>0.3152</td>\n",
       "      <td>5</td>\n",
       "      <td>1</td>\n",
       "      <td>0.754067</td>\n",
       "      <td>2017</td>\n",
       "      <td>Atlanta</td>\n",
       "      <td>2016</td>\n",
       "      <td>2092104</td>\n",
       "      <td>1</td>\n",
       "    </tr>\n",
       "    <tr>\n",
       "      <th>3</th>\n",
       "      <td>2.3403</td>\n",
       "      <td>0.75</td>\n",
       "      <td>2</td>\n",
       "      <td>2</td>\n",
       "      <td>1</td>\n",
       "      <td>2</td>\n",
       "      <td>1</td>\n",
       "      <td>0.1657</td>\n",
       "      <td>0.3430</td>\n",
       "      <td>4</td>\n",
       "      <td>7</td>\n",
       "      <td>0.441997</td>\n",
       "      <td>2017</td>\n",
       "      <td>Atlanta</td>\n",
       "      <td>2016</td>\n",
       "      <td>2092105</td>\n",
       "      <td>0</td>\n",
       "    </tr>\n",
       "    <tr>\n",
       "      <th>4</th>\n",
       "      <td>1.0537</td>\n",
       "      <td>0.85</td>\n",
       "      <td>2</td>\n",
       "      <td>2</td>\n",
       "      <td>1</td>\n",
       "      <td>2</td>\n",
       "      <td>1</td>\n",
       "      <td>0.4062</td>\n",
       "      <td>0.4224</td>\n",
       "      <td>3</td>\n",
       "      <td>1</td>\n",
       "      <td>0.511703</td>\n",
       "      <td>2017</td>\n",
       "      <td>Atlanta</td>\n",
       "      <td>2016</td>\n",
       "      <td>2092106</td>\n",
       "      <td>0</td>\n",
       "    </tr>\n",
       "  </tbody>\n",
       "</table>\n",
       "</div>"
      ],
      "text/plain": [
       "   IncRat   LTV  Purpose  Coop  Product  FedGuar  Occup   Front    Back  \\\n",
       "0  3.2928  0.89        2     2        1        2      1  0.1118  0.2265   \n",
       "1  1.9031  0.94        2     2        1        2      1  0.1446  0.2370   \n",
       "2  2.2109  1.04        1     2        1        2      1  0.2312  0.3152   \n",
       "3  2.3403  0.75        2     2        1        2      1  0.1657  0.3430   \n",
       "4  1.0537  0.85        2     2        1        2      1  0.4062  0.4224   \n",
       "\n",
       "   BoCreditScor  PropType       UPB  Year     Bank  MortDate  Assigned_ID  \\\n",
       "0             5         1  0.119025  2017  Atlanta      2016      2092102   \n",
       "1             5         1  0.914399  2017  Atlanta      2016      2092103   \n",
       "2             5         1  0.754067  2017  Atlanta      2016      2092104   \n",
       "3             4         7  0.441997  2017  Atlanta      2016      2092105   \n",
       "4             3         1  0.511703  2017  Atlanta      2016      2092106   \n",
       "\n",
       "   Portfolio_Worthy  \n",
       "0                 0  \n",
       "1                 0  \n",
       "2                 1  \n",
       "3                 0  \n",
       "4                 0  "
      ]
     },
     "execution_count": 18,
     "metadata": {},
     "output_type": "execute_result"
    }
   ],
   "source": [
    "data['Portfolio_Worthy'] = predictions\n",
    "data.head()"
   ]
  }
 ],
 "metadata": {
  "kernelspec": {
   "display_name": "Python 3",
   "language": "python",
   "name": "python3"
  },
  "language_info": {
   "codemirror_mode": {
    "name": "ipython",
    "version": 3
   },
   "file_extension": ".py",
   "mimetype": "text/x-python",
   "name": "python",
   "nbconvert_exporter": "python",
   "pygments_lexer": "ipython3",
   "version": "3.7.0"
  }
 },
 "nbformat": 4,
 "nbformat_minor": 2
}
